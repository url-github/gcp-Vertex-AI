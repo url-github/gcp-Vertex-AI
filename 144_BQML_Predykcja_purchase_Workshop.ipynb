{
  "cells": [
    {
      "cell_type": "markdown",
      "id": "db5e56a9-1a46-4377-8bb5-6fbdce8b9686",
      "metadata": {
        "id": "db5e56a9-1a46-4377-8bb5-6fbdce8b9686"
      },
      "source": [
        "# MLOps in BQML - e-commerce scenario\n",
        "\n",
        "<table align=\"left\">\n",
        "  <td>\n",
        "    <a>\n",
        "       <img src=\"https://vitalflux.com/wp-content/uploads/2021/09/google-cloud-bigquery-ml.png\" style=\"max-width: 75%; height: auto;\">\n",
        "    </a>\n",
        "  </td>\n",
        "</table>"
      ]
    },
    {
      "cell_type": "markdown",
      "id": "50f1b502-b4b1-46c3-bc84-669aa579de7f",
      "metadata": {
        "tags": [],
        "id": "50f1b502-b4b1-46c3-bc84-669aa579de7f"
      },
      "source": [
        "## Overview\n",
        "\n",
        "The purpose of this lab is to go through capabilities of BigQuery ML when modelling and maintaining a machine learning model based on tabular data. Throughout this lab, you will learn how to read historical e-commerce data stored in data warehouse, perform exploratory data analysis (EDA), do feature engineering, train a model using feature store, register your model in a model registry, evaluate your model, deploy your model to an endpoint, do inference on your model with feature store, and monitor your model.\n",
        "\n",
        "This lab uses the following Google Cloud services and resources:\n",
        "\n",
        "- [Vertex AI](https://cloud.google.com/vertex-ai/)\n",
        "- [BigQuery](https://cloud.google.com/bigquery/)\n",
        "- [Google Cloud Storage](https://cloud.google.com/storage)"
      ]
    },
    {
      "cell_type": "markdown",
      "id": "9317dcd5-3c2e-4045-be6a-5369d73de4cf",
      "metadata": {
        "tags": [],
        "id": "9317dcd5-3c2e-4045-be6a-5369d73de4cf"
      },
      "source": [
        "### Import packages\n",
        "\n",
        "Import the following packages required to execute this notebook."
      ]
    },
    {
      "cell_type": "code",
      "execution_count": null,
      "id": "a3595616-3cd3-4218-a46e-0c205f6b8f5b",
      "metadata": {
        "id": "a3595616-3cd3-4218-a46e-0c205f6b8f5b"
      },
      "outputs": [],
      "source": [
        "#pip install --upgrade pandas-gbq"
      ]
    },
    {
      "cell_type": "code",
      "execution_count": null,
      "id": "68833932-0205-41fd-85d1-6a33527e8e4b",
      "metadata": {
        "tags": [],
        "id": "68833932-0205-41fd-85d1-6a33527e8e4b"
      },
      "outputs": [],
      "source": [
        "import pandas as pd\n",
        "import pandas_gbq\n",
        "import random\n",
        "import numpy as np\n",
        "import google.cloud.aiplatform as aip\n",
        "\n",
        "from pandas import read_gbq\n",
        "from google.cloud import bigquery\n",
        "from typing import Union\n",
        "from google.cloud import aiplatform as vertex_ai\n",
        "from google.cloud.aiplatform import gapic as aip_gapic\n",
        "from google.cloud.aiplatform import model_monitoring"
      ]
    },
    {
      "cell_type": "markdown",
      "id": "e65c556e-7709-4988-b5ad-ee8f6a082855",
      "metadata": {
        "id": "e65c556e-7709-4988-b5ad-ee8f6a082855"
      },
      "source": [
        "### Setup your environment\n",
        "\n",
        "Run the next cell to set your project ID and some of the other constants used in the lab.\n",
        "\n",
        "#### >>> PLEASE MODIFY FOLLOWING VARIABLES <<<"
      ]
    },
    {
      "cell_type": "code",
      "execution_count": null,
      "id": "ea6f86f5-88fd-43c5-a112-008ee9932ceb",
      "metadata": {
        "tags": [],
        "id": "ea6f86f5-88fd-43c5-a112-008ee9932ceb"
      },
      "outputs": [],
      "source": [
        "# THESE\n",
        "PROJECT_ID = \"dprzek-vertex\"\n",
        "DATASET_NAME = \"workshop_ecommerce\"\n",
        "TABLE_NAME = \"trans_sample\"\n",
        "MODEL_NAME = \"ecommerce_workshop_model\"\n",
        "ENDPOINT_NAME = \"endpoint_ecommerce_workshop\"\n",
        "MONITORING_JOB_NAME = \"ecommerce_monit\""
      ]
    },
    {
      "cell_type": "code",
      "execution_count": null,
      "id": "2b7a0b00-39b7-4bbc-b6c8-b36877537ff5",
      "metadata": {
        "id": "2b7a0b00-39b7-4bbc-b6c8-b36877537ff5",
        "outputId": "73fb3a0e-b688-4021-e1de-a3c50421afc8"
      },
      "outputs": [
        {
          "name": "stdout",
          "output_type": "stream",
          "text": [
            "Creating gs://ecommerce_workshop_bucket/...\n",
            "ServiceException: 409 A Cloud Storage bucket named 'ecommerce_workshop_bucket' already exists. Try another name. Bucket names must be globally unique across all Google Cloud projects, including those outside of your organization.\n"
          ]
        }
      ],
      "source": [
        "# NOT THESE\n",
        "TARGET = \"purchase\"\n",
        "\n",
        "REGION = \"us-central1\"\n",
        "BUCKET_NAME = 'ecommerce_workshop_bucket'\n",
        "\n",
        "# create a Cloud Storage bucket\n",
        "!gsutil mb -l {REGION} gs://{BUCKET_NAME}"
      ]
    },
    {
      "cell_type": "markdown",
      "id": "bdb6359a-e8d4-4439-b829-49b8e07a9ccf",
      "metadata": {
        "id": "bdb6359a-e8d4-4439-b829-49b8e07a9ccf"
      },
      "source": [
        "#### Create helper function"
      ]
    },
    {
      "cell_type": "code",
      "execution_count": null,
      "id": "9291ba4b-243b-4688-ac47-0561d9f148c6",
      "metadata": {
        "tags": [],
        "id": "9291ba4b-243b-4688-ac47-0561d9f148c6"
      },
      "outputs": [],
      "source": [
        "# wrapper to use BigQuery client to run query/job, return job ID or result as DF\n",
        "def run_bq_query(sql: str, show=False) -> Union[str, pd.DataFrame]:\n",
        "    \"\"\"\n",
        "    Run a BigQuery query and return the job ID or result as a DataFrame\n",
        "    Args:\n",
        "        sql: SQL query, as a string, to execute in BigQuery\n",
        "        show: A flag to show query result in a Pandas Dataframe\n",
        "    Returns:\n",
        "        df: DataFrame of results from query,  or error, if any\n",
        "    \"\"\"\n",
        "\n",
        "    bq_client = bigquery.Client()\n",
        "\n",
        "    # Try dry run before executing query to catch any errors\n",
        "    job_config = bigquery.QueryJobConfig(dry_run=True, use_query_cache=False)\n",
        "    bq_client.query(sql, job_config=job_config)\n",
        "\n",
        "    # If dry run succeeds without errors, proceed to run query\n",
        "    job_config = bigquery.QueryJobConfig()\n",
        "    client_result = bq_client.query(sql, job_config=job_config)\n",
        "\n",
        "    job_id = client_result.job_id\n",
        "\n",
        "    # Wait for query/job to finish running. then get & return data frame\n",
        "    result = client_result.result()\n",
        "    print(f\"Finished job_id: {job_id}\")\n",
        "\n",
        "    if show:\n",
        "        df = result.to_arrow().to_pandas()\n",
        "        return df"
      ]
    },
    {
      "cell_type": "markdown",
      "id": "fb4225d4-9a8c-4101-82f9-1387d13b5138",
      "metadata": {
        "tags": [],
        "id": "fb4225d4-9a8c-4101-82f9-1387d13b5138"
      },
      "source": [
        "##### Transactions data table"
      ]
    },
    {
      "cell_type": "code",
      "execution_count": null,
      "id": "d0f7ee2f-8c67-4d71-bae0-4337bdfdee4b",
      "metadata": {
        "tags": [],
        "id": "d0f7ee2f-8c67-4d71-bae0-4337bdfdee4b",
        "outputId": "c22b6029-8e8a-4ffd-ec86-727c7f09dd4c"
      },
      "outputs": [
        {
          "name": "stdout",
          "output_type": "stream",
          "text": [
            "Finished job_id: 07d9ccd3-7851-45ba-9595-16b8df85bbe3\n"
          ]
        },
        {
          "data": {
            "text/html": [
              "<div>\n",
              "<style scoped>\n",
              "    .dataframe tbody tr th:only-of-type {\n",
              "        vertical-align: middle;\n",
              "    }\n",
              "\n",
              "    .dataframe tbody tr th {\n",
              "        vertical-align: top;\n",
              "    }\n",
              "\n",
              "    .dataframe thead th {\n",
              "        text-align: right;\n",
              "    }\n",
              "</style>\n",
              "<table border=\"1\" class=\"dataframe\">\n",
              "  <thead>\n",
              "    <tr style=\"text-align: right;\">\n",
              "      <th></th>\n",
              "    </tr>\n",
              "  </thead>\n",
              "  <tbody>\n",
              "  </tbody>\n",
              "</table>\n",
              "</div>"
            ],
            "text/plain": [
              "Empty DataFrame\n",
              "Columns: []\n",
              "Index: []"
            ]
          },
          "execution_count": 6,
          "metadata": {},
          "output_type": "execute_result"
        }
      ],
      "source": [
        "run_bq_query(\n",
        "    f\"\"\"\n",
        "    CREATE OR REPLACE TABLE `{PROJECT_ID}.{DATASET_NAME}.{TABLE_NAME}` as\n",
        "    SELECT\n",
        "      sessions.fullVisitorId,\n",
        "      sessions.ga_session_id,\n",
        "      sessions.churned,\n",
        "      sessions.event_date,\n",
        "      sessions.isMobile,\n",
        "      sessions.operatingSystem,\n",
        "      sessions.browser,\n",
        "      sessions.country,\n",
        "      sessions.city,\n",
        "      sessions.firstSource,\n",
        "      sessions.firstMedium,\n",
        "      sessions.sessionNumber,\n",
        "      sessions.latest_ecommerce_progress,\n",
        "      sessions.isFirstVisit,\n",
        "      sessions.productPagesViewed,\n",
        "      sessions.addedToCart,\n",
        "      sessions.purchase,\n",
        "\n",
        "      users.totalHits,\n",
        "      users.totalPageviews,\n",
        "\n",
        "      visits.totalVisits,\n",
        "\n",
        "      engagement.totalTimeOnSite, # bucket\n",
        "      engagement.engagement_seconds,\n",
        "      engagement.engagement_minutes,\n",
        "      engagement.engagement_avg_seconds,\n",
        "      engagement.engagement_avg_minutes,\n",
        "\n",
        "      source.source,\n",
        "      source.medium,\n",
        "      source.campaign,\n",
        "\n",
        "    FROM (\n",
        "          SELECT\n",
        "            fullVisitorId,\n",
        "            session_id,\n",
        "            ga_session_id,\n",
        "            churned,\n",
        "            event_date,\n",
        "            isMobile,\n",
        "            operatingSystem,\n",
        "            browser,\n",
        "            country,\n",
        "            city,\n",
        "            firstSource,\n",
        "            firstMedium,\n",
        "            MAX(ga_session_number) sessionNumber,\n",
        "            MAX(latest_ecommerce_progress) latest_ecommerce_progress,\n",
        "            MAX(isFirstVisit) isFirstVisit,\n",
        "            MAX(productPagesViewed) productPagesViewed,\n",
        "            MAX(addedToCart) addedToCart,\n",
        "            MAX(purchase) purchase\n",
        "          FROM (\n",
        "                SELECT\n",
        "                  user_pseudo_id fullVisitorId,\n",
        "                  CONCAT(user_pseudo_id, \"-\", (SELECT value.int_value FROM unnest(event_params) WHERE key=\"ga_session_id\")) session_id,\n",
        "                  (select value.int_value from unnest(event_params) where key = 'ga_session_id') ga_session_id,\n",
        "                  (select value.int_value from unnest(event_params) where key = 'ga_session_number') ga_session_number,\n",
        "                  IF (TIMESTAMP_MICROS(event_timestamp) < TIMESTAMP_ADD(TIMESTAMP_MICROS(user_first_touch_timestamp), INTERVAL 24 HOUR), 1, 0 ) churned,\n",
        "                  event_date,\n",
        "                  CASE device.category WHEN 'mobile' THEN 0  ELSE 1 END AS isMobile,\n",
        "                  device.operating_system operatingSystem,\n",
        "                  device.web_info.browser browser,\n",
        "                  geo.country AS country,\n",
        "                  IFNULL(geo.city, '') city,\n",
        "                  traffic_source.source firstSource,\n",
        "                  traffic_source.medium firstMedium,\n",
        "                  CASE event_name WHEN 'first_visit' THEN 1  ELSE 0 END isFirstVisit,\n",
        "                  CASE event_name WHEN 'view_item' THEN 1 ELSE 0 END productPagesViewed,\n",
        "                  CASE event_name WHEN 'add_to_cart' THEN 1  ELSE 0 END addedToCart,\n",
        "                  CASE event_name WHEN 'purchase' THEN 1  ELSE 0 END purchase,\n",
        "                  CASE\n",
        "                    WHEN event_name = 'view_item' THEN 1\n",
        "                    WHEN event_name = 'add_to_cart' THEN 2\n",
        "                    WHEN event_name = 'view_cart' THEN 3\n",
        "                    WHEN event_name = 'begin_checkout' THEN 4\n",
        "                    WHEN event_name = 'purchase' THEN 5\n",
        "                  ELSE 0 END AS latest_ecommerce_progress\n",
        "\n",
        "              FROM\n",
        "                `bigquery-public-data.ga4_obfuscated_sample_ecommerce.events_*`\n",
        "              WHERE\n",
        "                platform = \"WEB\"\n",
        "                and (select value.int_value from unnest(event_params) where key = 'ga_session_id') IS NOT NULL\n",
        "                -- and user_pseudo_id = '335679038.1695746809'\n",
        "              GROUP BY 1,2,3,4,5,6,7,8,9,10,11,12,13,14,15,16,17,18)\n",
        "\n",
        "              GROUP BY 1,2,3,4,5,6,7,8,9,10,11,12\n",
        "            ) sessions\n",
        "\n",
        "    LEFT JOIN (\n",
        "\n",
        "        SELECT\n",
        "        user_pseudo_id fullVisitorId,\n",
        "        CONCAT(user_pseudo_id, \"-\", (SELECT value.int_value FROM unnest(event_params) WHERE key=\"ga_session_id\")) session_id,\n",
        "        COUNT(user_pseudo_id) totalHits,\n",
        "        COUNTIF(event_name = 'page_view') totalPageviews\n",
        "        FROM\n",
        "          `bigquery-public-data.ga4_obfuscated_sample_ecommerce.events_*`\n",
        "        WHERE\n",
        "          platform = \"WEB\"\n",
        "          -- and user_pseudo_id = '335679038.1695746809'\n",
        "        GROUP BY 1,2\n",
        "    ) users USING(session_id)\n",
        "\n",
        "    LEFT JOIN (\n",
        "\n",
        "        SELECT\n",
        "        user_pseudo_id AS fullVisitorId,\n",
        "        CONCAT(user_pseudo_id, \"-\", (SELECT value.int_value FROM unnest(event_params) WHERE key=\"ga_session_id\")) session_id,\n",
        "        COUNT(DISTINCT (select value.int_value from unnest(event_params) where key = 'ga_session_id')) totalVisits\n",
        "        FROM\n",
        "          `bigquery-public-data.ga4_obfuscated_sample_ecommerce.events_*`\n",
        "        WHERE\n",
        "        platform = \"WEB\"\n",
        "        -- and user_pseudo_id = '335679038.1695746809'\n",
        "        GROUP BY 1,2\n",
        "    ) visits USING(session_id)\n",
        "\n",
        "    LEFT JOIN (\n",
        "\n",
        "        SELECT\n",
        "        user_pseudo_id fullVisitorId,\n",
        "        session_id,\n",
        "        MAX(engagement_time_msec) totalTimeOnSite,\n",
        "        cast(coalesce(sum(engagement_time_seconds),0) as INT64) engagement_seconds,\n",
        "        cast(coalesce(sum(engagement_time_minutes),0) as INT64) engagement_minutes,\n",
        "        cast(coalesce(avg(engagement_time_seconds),0) as INT64) engagement_avg_seconds,\n",
        "        cast(coalesce(avg(engagement_time_minutes),0) as INT64) engagement_avg_minutes\n",
        "        FROM (\n",
        "              SELECT\n",
        "              user_pseudo_id,\n",
        "              CONCAT(user_pseudo_id, \"-\", (SELECT value.int_value FROM unnest(event_params) WHERE key=\"ga_session_id\")) session_id,\n",
        "              (select value.int_value from unnest(event_params) where key = 'engagement_time_msec') engagement_time_msec,\n",
        "              max((select value.string_value from unnest(event_params) where key = 'session_engaged')) as session_engaged,\n",
        "              sum((select value.int_value from unnest(event_params) where key = 'engagement_time_msec'))/1000 as engagement_time_seconds,\n",
        "              sum((select value.int_value from unnest(event_params) where key = 'engagement_time_msec'))/(1000 * 60) as engagement_time_minutes\n",
        "              FROM\n",
        "              `bigquery-public-data.ga4_obfuscated_sample_ecommerce.events_*`\n",
        "              WHERE\n",
        "              platform = \"WEB\"\n",
        "              -- and user_pseudo_id = '335679038.1695746809'\n",
        "              group by 1,2,3\n",
        "        )\n",
        "        GROUP BY 1,2\n",
        "    ) engagement USING(session_id)\n",
        "\n",
        "    LEFT JOIN (\n",
        "\n",
        "        SELECT\n",
        "        user_pseudo_id AS fullVisitorId,\n",
        "        CONCAT(user_pseudo_id, \"-\", (SELECT value.int_value FROM unnest(event_params) WHERE key=\"ga_session_id\")) session_id,\n",
        "        (array_agg((select value.string_value from unnest(event_params) where key = 'source') ignore nulls order by event_timestamp)[offset(0)]) as source,\n",
        "        (array_agg((select value.string_value from unnest(event_params) where key = 'medium') ignore nulls order by event_timestamp)[offset(0)]) as medium ,\n",
        "        (array_agg((select value.string_value from unnest(event_params) where key = 'campaign') ignore nulls order by event_timestamp)[offset(0)]) as campaign\n",
        "        FROM\n",
        "          `bigquery-public-data.ga4_obfuscated_sample_ecommerce.events_*`\n",
        "        WHERE\n",
        "        platform = \"WEB\"\n",
        "        -- and user_pseudo_id = '335679038.1695746809'\n",
        "        GROUP BY 1,2\n",
        "    ) source USING(session_id)\n",
        "    \"\"\", show=True\n",
        ")"
      ]
    },
    {
      "cell_type": "markdown",
      "id": "7b7dcded-eb09-4d5d-8c36-ec530cc99d4f",
      "metadata": {
        "id": "7b7dcded-eb09-4d5d-8c36-ec530cc99d4f"
      },
      "source": [
        "### Exploratory data analysis of transaction data in BigQuery\n",
        "\n",
        "In this section, you'll explore the data by running queries and creating a couple of plots."
      ]
    },
    {
      "cell_type": "markdown",
      "id": "d728f60d-5f5d-40f0-a532-ed952d3849f9",
      "metadata": {
        "id": "d728f60d-5f5d-40f0-a532-ed952d3849f9"
      },
      "source": [
        "#### Let’s add some calculated metrics:\n",
        "\n",
        "1. Average Price = Total Revenue / Total Quantity Sold\n",
        "2. Average Quantity Per Order = Average Quantity Per Order = Total Quantity Sold / Number of Orders\n",
        "3. Cart Conversion Rate = (Number of Orders / Add to Carts) * 100\n",
        "4. Cart Abandonment Rate = (Add to Carts — Number of Orders) / Add to Carts) * 100\n",
        "\n",
        "The following query will add columns and do the calculations for the desired output."
      ]
    },
    {
      "cell_type": "code",
      "execution_count": null,
      "id": "b13ae88f-9134-4ec4-bd74-9793372edfcc",
      "metadata": {
        "tags": [],
        "id": "b13ae88f-9134-4ec4-bd74-9793372edfcc",
        "outputId": "eeb54b3c-8a70-4ff5-d399-f385865a5194"
      },
      "outputs": [
        {
          "name": "stdout",
          "output_type": "stream",
          "text": [
            "Finished job_id: 65070542-7698-4815-9de7-6672cf3d3a18\n"
          ]
        },
        {
          "data": {
            "text/html": [
              "<div>\n",
              "<style scoped>\n",
              "    .dataframe tbody tr th:only-of-type {\n",
              "        vertical-align: middle;\n",
              "    }\n",
              "\n",
              "    .dataframe tbody tr th {\n",
              "        vertical-align: top;\n",
              "    }\n",
              "\n",
              "    .dataframe thead th {\n",
              "        text-align: right;\n",
              "    }\n",
              "</style>\n",
              "<table border=\"1\" class=\"dataframe\">\n",
              "  <thead>\n",
              "    <tr style=\"text-align: right;\">\n",
              "      <th></th>\n",
              "      <th>item_id</th>\n",
              "      <th>item_name</th>\n",
              "      <th>add_to_carts</th>\n",
              "      <th>orders</th>\n",
              "      <th>total_quantity_ordered</th>\n",
              "      <th>revenue</th>\n",
              "      <th>avg_price</th>\n",
              "      <th>avg_quantity_per_order</th>\n",
              "      <th>cart_conversion_rate</th>\n",
              "      <th>cart_abandonment_rate</th>\n",
              "    </tr>\n",
              "  </thead>\n",
              "  <tbody>\n",
              "    <tr>\n",
              "      <th>0</th>\n",
              "      <td>9195032</td>\n",
              "      <td>Google Camp Mug Ivory</td>\n",
              "      <td>167</td>\n",
              "      <td>223</td>\n",
              "      <td>300</td>\n",
              "      <td>3208.0</td>\n",
              "      <td>10.693333</td>\n",
              "      <td>1.345291</td>\n",
              "      <td>1.335329</td>\n",
              "      <td>0.000000</td>\n",
              "    </tr>\n",
              "    <tr>\n",
              "      <th>1</th>\n",
              "      <td>9196652</td>\n",
              "      <td>Google Heathered Pom Beanie</td>\n",
              "      <td>274</td>\n",
              "      <td>194</td>\n",
              "      <td>261</td>\n",
              "      <td>3228.0</td>\n",
              "      <td>12.367816</td>\n",
              "      <td>1.345361</td>\n",
              "      <td>0.708029</td>\n",
              "      <td>0.291971</td>\n",
              "    </tr>\n",
              "    <tr>\n",
              "      <th>2</th>\n",
              "      <td>9188203</td>\n",
              "      <td>Google Clear Pen 4-Pack</td>\n",
              "      <td>288</td>\n",
              "      <td>158</td>\n",
              "      <td>444</td>\n",
              "      <td>1376.0</td>\n",
              "      <td>3.099099</td>\n",
              "      <td>2.810127</td>\n",
              "      <td>0.548611</td>\n",
              "      <td>0.451389</td>\n",
              "    </tr>\n",
              "    <tr>\n",
              "      <th>3</th>\n",
              "      <td>9190330</td>\n",
              "      <td>Google Crew Socks</td>\n",
              "      <td>248</td>\n",
              "      <td>154</td>\n",
              "      <td>187</td>\n",
              "      <td>2508.0</td>\n",
              "      <td>13.411765</td>\n",
              "      <td>1.214286</td>\n",
              "      <td>0.620968</td>\n",
              "      <td>0.379032</td>\n",
              "    </tr>\n",
              "    <tr>\n",
              "      <th>4</th>\n",
              "      <td>9180819</td>\n",
              "      <td>Google Laptop and Cell Phone Stickers</td>\n",
              "      <td>344</td>\n",
              "      <td>150</td>\n",
              "      <td>416</td>\n",
              "      <td>1095.0</td>\n",
              "      <td>2.632212</td>\n",
              "      <td>2.773333</td>\n",
              "      <td>0.436047</td>\n",
              "      <td>0.563953</td>\n",
              "    </tr>\n",
              "    <tr>\n",
              "      <th>...</th>\n",
              "      <td>...</td>\n",
              "      <td>...</td>\n",
              "      <td>...</td>\n",
              "      <td>...</td>\n",
              "      <td>...</td>\n",
              "      <td>...</td>\n",
              "      <td>...</td>\n",
              "      <td>...</td>\n",
              "      <td>...</td>\n",
              "      <td>...</td>\n",
              "    </tr>\n",
              "    <tr>\n",
              "      <th>805</th>\n",
              "      <td>9199740</td>\n",
              "      <td>Google 5K Run 2020 Unisex Tee</td>\n",
              "      <td>2</td>\n",
              "      <td>0</td>\n",
              "      <td>0</td>\n",
              "      <td>0.0</td>\n",
              "      <td>0.000000</td>\n",
              "      <td>0.000000</td>\n",
              "      <td>0.000000</td>\n",
              "      <td>1.000000</td>\n",
              "    </tr>\n",
              "    <tr>\n",
              "      <th>806</th>\n",
              "      <td>9195696</td>\n",
              "      <td>Google Mountain View Tee Blue</td>\n",
              "      <td>3</td>\n",
              "      <td>0</td>\n",
              "      <td>0</td>\n",
              "      <td>0.0</td>\n",
              "      <td>0.000000</td>\n",
              "      <td>0.000000</td>\n",
              "      <td>0.000000</td>\n",
              "      <td>1.000000</td>\n",
              "    </tr>\n",
              "    <tr>\n",
              "      <th>807</th>\n",
              "      <td>9194961</td>\n",
              "      <td>Google Women's Discovery Lt. Rain Shell</td>\n",
              "      <td>4</td>\n",
              "      <td>0</td>\n",
              "      <td>0</td>\n",
              "      <td>0.0</td>\n",
              "      <td>0.000000</td>\n",
              "      <td>0.000000</td>\n",
              "      <td>0.000000</td>\n",
              "      <td>1.000000</td>\n",
              "    </tr>\n",
              "    <tr>\n",
              "      <th>808</th>\n",
              "      <td>9199227</td>\n",
              "      <td>Google Land &amp; Sea Unisex Tee</td>\n",
              "      <td>1</td>\n",
              "      <td>0</td>\n",
              "      <td>0</td>\n",
              "      <td>0.0</td>\n",
              "      <td>0.000000</td>\n",
              "      <td>0.000000</td>\n",
              "      <td>0.000000</td>\n",
              "      <td>1.000000</td>\n",
              "    </tr>\n",
              "    <tr>\n",
              "      <th>809</th>\n",
              "      <td>9197343</td>\n",
              "      <td>Google Boulder Campus Ladies Tee</td>\n",
              "      <td>1</td>\n",
              "      <td>0</td>\n",
              "      <td>0</td>\n",
              "      <td>0.0</td>\n",
              "      <td>0.000000</td>\n",
              "      <td>0.000000</td>\n",
              "      <td>0.000000</td>\n",
              "      <td>1.000000</td>\n",
              "    </tr>\n",
              "  </tbody>\n",
              "</table>\n",
              "<p>810 rows × 10 columns</p>\n",
              "</div>"
            ],
            "text/plain": [
              "     item_id                                item_name  add_to_carts  orders  \\\n",
              "0    9195032                    Google Camp Mug Ivory           167     223   \n",
              "1    9196652              Google Heathered Pom Beanie           274     194   \n",
              "2    9188203                  Google Clear Pen 4-Pack           288     158   \n",
              "3    9190330                        Google Crew Socks           248     154   \n",
              "4    9180819    Google Laptop and Cell Phone Stickers           344     150   \n",
              "..       ...                                      ...           ...     ...   \n",
              "805  9199740            Google 5K Run 2020 Unisex Tee             2       0   \n",
              "806  9195696            Google Mountain View Tee Blue             3       0   \n",
              "807  9194961  Google Women's Discovery Lt. Rain Shell             4       0   \n",
              "808  9199227             Google Land & Sea Unisex Tee             1       0   \n",
              "809  9197343         Google Boulder Campus Ladies Tee             1       0   \n",
              "\n",
              "     total_quantity_ordered  revenue  avg_price  avg_quantity_per_order  \\\n",
              "0                       300   3208.0  10.693333                1.345291   \n",
              "1                       261   3228.0  12.367816                1.345361   \n",
              "2                       444   1376.0   3.099099                2.810127   \n",
              "3                       187   2508.0  13.411765                1.214286   \n",
              "4                       416   1095.0   2.632212                2.773333   \n",
              "..                      ...      ...        ...                     ...   \n",
              "805                       0      0.0   0.000000                0.000000   \n",
              "806                       0      0.0   0.000000                0.000000   \n",
              "807                       0      0.0   0.000000                0.000000   \n",
              "808                       0      0.0   0.000000                0.000000   \n",
              "809                       0      0.0   0.000000                0.000000   \n",
              "\n",
              "     cart_conversion_rate  cart_abandonment_rate  \n",
              "0                1.335329               0.000000  \n",
              "1                0.708029               0.291971  \n",
              "2                0.548611               0.451389  \n",
              "3                0.620968               0.379032  \n",
              "4                0.436047               0.563953  \n",
              "..                    ...                    ...  \n",
              "805              0.000000               1.000000  \n",
              "806              0.000000               1.000000  \n",
              "807              0.000000               1.000000  \n",
              "808              0.000000               1.000000  \n",
              "809              0.000000               1.000000  \n",
              "\n",
              "[810 rows x 10 columns]"
            ]
          },
          "execution_count": 7,
          "metadata": {},
          "output_type": "execute_result"
        }
      ],
      "source": [
        "run_bq_query(\n",
        "    \"\"\"\n",
        "    DECLARE date1, date2 STRING;\n",
        "    SET (date1, date2) = ('20000101','20240630');\n",
        "\n",
        "    -- CTE for sales data excluding items with \"(not set)\" in item_id or item_name\n",
        "    WITH sales AS (\n",
        "      SELECT\n",
        "        items.item_id AS item_id,\n",
        "        SUM(items.quantity) AS total_quantity,\n",
        "        COUNT(DISTINCT event_timestamp) AS orders,\n",
        "        SUM(items.item_revenue) AS total_revenue\n",
        "      FROM `bigquery-public-data.ga4_obfuscated_sample_ecommerce.events_*`,\n",
        "      UNNEST(items) AS items\n",
        "      WHERE _TABLE_SUFFIX BETWEEN date1 AND date2\n",
        "        AND event_name = 'purchase'\n",
        "        AND items.item_id IS NOT NULL\n",
        "        AND items.item_name IS NOT NULL\n",
        "        AND items.item_id != '(not set)'\n",
        "        AND items.item_name != '(not set)'\n",
        "      GROUP BY item_id\n",
        "    ),\n",
        "\n",
        "    -- CTE for add-to-carts data excluding items with \"(not set)\" in item_id or item_name\n",
        "    add_to_carts AS (\n",
        "      SELECT\n",
        "        items.item_id AS item_id,\n",
        "        items.item_name AS item_name,\n",
        "        COUNT(DISTINCT event_timestamp) AS add_to_carts\n",
        "      FROM `bigquery-public-data.ga4_obfuscated_sample_ecommerce.events_*`,\n",
        "      UNNEST(items) AS items\n",
        "      WHERE _TABLE_SUFFIX BETWEEN date1 AND date2\n",
        "        AND event_name = 'add_to_cart'\n",
        "        AND items.item_id IS NOT NULL\n",
        "        AND items.item_name IS NOT NULL\n",
        "        AND items.item_id != '(not set)'\n",
        "        AND items.item_name != '(not set)'\n",
        "      GROUP BY item_id, item_name\n",
        "    )\n",
        "\n",
        "    -- Final SELECT to combine sales and add-to-carts data\n",
        "    SELECT\n",
        "      c.item_id AS item_id,\n",
        "      c.item_name AS item_name,\n",
        "      c.add_to_carts AS add_to_carts,\n",
        "      IFNULL(s.orders, 0) AS orders,\n",
        "      IFNULL(s.total_quantity, 0) AS total_quantity_ordered,\n",
        "      IFNULL(s.total_revenue, 0.0) AS revenue,\n",
        "      -- Calculate average price (revenue divided by quantity)\n",
        "      IFNULL(s.total_revenue / NULLIF(s.total_quantity, 0), 0.0) AS avg_price,\n",
        "      -- Calculate average quantity per order\n",
        "      IFNULL(s.total_quantity / NULLIF(s.orders, 0), 0.0) AS avg_quantity_per_order,\n",
        "      -- Calculate cart conversion rate (orders divided by add to carts)\n",
        "      IFNULL(s.orders / NULLIF(c.add_to_carts, 0), 0.0) AS cart_conversion_rate,\n",
        "      -- Calculate cart abandonment rate ensuring it is not negative\n",
        "      GREATEST(1 - IFNULL(s.orders / NULLIF(c.add_to_carts, 0), 0.0), 0) AS cart_abandonment_rate\n",
        "    FROM add_to_carts AS c\n",
        "    LEFT JOIN sales AS s ON c.item_id = s.item_id\n",
        "    ORDER BY orders DESC;\n",
        "    \"\"\", show=True\n",
        ")"
      ]
    },
    {
      "cell_type": "markdown",
      "id": "17b720b6-e0c1-4ed2-bf24-33f50c19fa79",
      "metadata": {
        "id": "17b720b6-e0c1-4ed2-bf24-33f50c19fa79"
      },
      "source": [
        "#### < space for further EDA >"
      ]
    },
    {
      "cell_type": "markdown",
      "id": "1c4ce460-8350-44e4-89b9-671699f7c4d3",
      "metadata": {
        "id": "1c4ce460-8350-44e4-89b9-671699f7c4d3"
      },
      "source": [
        "### Creating logistic regression model in BigQuery\n",
        "\n",
        "The procedure can (or even should!) be augmented with feature engineering steps."
      ]
    },
    {
      "cell_type": "code",
      "execution_count": null,
      "id": "bc0b147e-f389-4229-ac62-0364ec6edc3f",
      "metadata": {
        "tags": [],
        "id": "bc0b147e-f389-4229-ac62-0364ec6edc3f",
        "outputId": "6e2bd888-96c0-4baf-b78a-87276392ae53"
      },
      "outputs": [
        {
          "name": "stdout",
          "output_type": "stream",
          "text": [
            "Finished job_id: 33699c72-b611-4854-bc9b-143022ea11af\n"
          ]
        },
        {
          "data": {
            "text/html": [
              "<div>\n",
              "<style scoped>\n",
              "    .dataframe tbody tr th:only-of-type {\n",
              "        vertical-align: middle;\n",
              "    }\n",
              "\n",
              "    .dataframe tbody tr th {\n",
              "        vertical-align: top;\n",
              "    }\n",
              "\n",
              "    .dataframe thead th {\n",
              "        text-align: right;\n",
              "    }\n",
              "</style>\n",
              "<table border=\"1\" class=\"dataframe\">\n",
              "  <thead>\n",
              "    <tr style=\"text-align: right;\">\n",
              "      <th></th>\n",
              "    </tr>\n",
              "  </thead>\n",
              "  <tbody>\n",
              "  </tbody>\n",
              "</table>\n",
              "</div>"
            ],
            "text/plain": [
              "Empty DataFrame\n",
              "Columns: []\n",
              "Index: []"
            ]
          },
          "execution_count": 8,
          "metadata": {},
          "output_type": "execute_result"
        }
      ],
      "source": [
        "run_bq_query(\n",
        "    f\"\"\"\n",
        "    CREATE OR REPLACE MODEL\n",
        "      `{PROJECT_ID}.{DATASET_NAME}.{MODEL_NAME}`\n",
        "\n",
        "    OPTIONS(MODEL_TYPE = 'LOGISTIC_REG',\n",
        "        INPUT_LABEL_COLS = ['purchase'],\n",
        "        enable_global_explain=TRUE,\n",
        "        model_registry='vertex_ai'\n",
        "        )\n",
        "        AS\n",
        "\n",
        "    SELECT\n",
        "      *\n",
        "    FROM\n",
        "      `{PROJECT_ID}.{DATASET_NAME}.{TABLE_NAME}`\n",
        "    WHERE\n",
        "      MOD(ABS(FARM_FINGERPRINT(CAST(event_date AS STRING))),1000) > 900\n",
        "    \"\"\", show=True\n",
        ")"
      ]
    },
    {
      "cell_type": "markdown",
      "id": "638c3b63-9642-4933-a852-4e8da6d61630",
      "metadata": {
        "id": "638c3b63-9642-4933-a852-4e8da6d61630"
      },
      "source": [
        "##### A brief look at feature importance"
      ]
    },
    {
      "cell_type": "code",
      "execution_count": null,
      "id": "4b2d1ab9-71c3-4766-a233-be0606f98fdb",
      "metadata": {
        "tags": [],
        "id": "4b2d1ab9-71c3-4766-a233-be0606f98fdb",
        "outputId": "b664c10d-9551-4815-de5c-855a65dc04da"
      },
      "outputs": [
        {
          "name": "stdout",
          "output_type": "stream",
          "text": [
            "Finished job_id: bb086c5b-5433-4b59-b887-df4dbb513c38\n"
          ]
        },
        {
          "data": {
            "text/html": [
              "<div>\n",
              "<style scoped>\n",
              "    .dataframe tbody tr th:only-of-type {\n",
              "        vertical-align: middle;\n",
              "    }\n",
              "\n",
              "    .dataframe tbody tr th {\n",
              "        vertical-align: top;\n",
              "    }\n",
              "\n",
              "    .dataframe thead th {\n",
              "        text-align: right;\n",
              "    }\n",
              "</style>\n",
              "<table border=\"1\" class=\"dataframe\">\n",
              "  <thead>\n",
              "    <tr style=\"text-align: right;\">\n",
              "      <th></th>\n",
              "      <th>feature</th>\n",
              "      <th>attribution</th>\n",
              "    </tr>\n",
              "  </thead>\n",
              "  <tbody>\n",
              "    <tr>\n",
              "      <th>0</th>\n",
              "      <td>fullVisitorId</td>\n",
              "      <td>0.591654</td>\n",
              "    </tr>\n",
              "    <tr>\n",
              "      <th>1</th>\n",
              "      <td>city</td>\n",
              "      <td>0.429437</td>\n",
              "    </tr>\n",
              "    <tr>\n",
              "      <th>2</th>\n",
              "      <td>source</td>\n",
              "      <td>0.427652</td>\n",
              "    </tr>\n",
              "    <tr>\n",
              "      <th>3</th>\n",
              "      <td>campaign</td>\n",
              "      <td>0.427520</td>\n",
              "    </tr>\n",
              "    <tr>\n",
              "      <th>4</th>\n",
              "      <td>medium</td>\n",
              "      <td>0.427505</td>\n",
              "    </tr>\n",
              "    <tr>\n",
              "      <th>5</th>\n",
              "      <td>country</td>\n",
              "      <td>0.427451</td>\n",
              "    </tr>\n",
              "    <tr>\n",
              "      <th>6</th>\n",
              "      <td>firstSource</td>\n",
              "      <td>0.427295</td>\n",
              "    </tr>\n",
              "    <tr>\n",
              "      <th>7</th>\n",
              "      <td>browser</td>\n",
              "      <td>0.427287</td>\n",
              "    </tr>\n",
              "    <tr>\n",
              "      <th>8</th>\n",
              "      <td>firstMedium</td>\n",
              "      <td>0.427194</td>\n",
              "    </tr>\n",
              "    <tr>\n",
              "      <th>9</th>\n",
              "      <td>operatingSystem</td>\n",
              "      <td>0.427122</td>\n",
              "    </tr>\n",
              "    <tr>\n",
              "      <th>10</th>\n",
              "      <td>event_date</td>\n",
              "      <td>0.426873</td>\n",
              "    </tr>\n",
              "    <tr>\n",
              "      <th>11</th>\n",
              "      <td>latest_ecommerce_progress</td>\n",
              "      <td>0.192599</td>\n",
              "    </tr>\n",
              "    <tr>\n",
              "      <th>12</th>\n",
              "      <td>engagement_seconds</td>\n",
              "      <td>0.050041</td>\n",
              "    </tr>\n",
              "    <tr>\n",
              "      <th>13</th>\n",
              "      <td>engagement_minutes</td>\n",
              "      <td>0.049922</td>\n",
              "    </tr>\n",
              "    <tr>\n",
              "      <th>14</th>\n",
              "      <td>engagement_avg_minutes</td>\n",
              "      <td>0.049833</td>\n",
              "    </tr>\n",
              "    <tr>\n",
              "      <th>15</th>\n",
              "      <td>productPagesViewed</td>\n",
              "      <td>0.039491</td>\n",
              "    </tr>\n",
              "    <tr>\n",
              "      <th>16</th>\n",
              "      <td>engagement_avg_seconds</td>\n",
              "      <td>0.039117</td>\n",
              "    </tr>\n",
              "    <tr>\n",
              "      <th>17</th>\n",
              "      <td>totalHits</td>\n",
              "      <td>0.038672</td>\n",
              "    </tr>\n",
              "    <tr>\n",
              "      <th>18</th>\n",
              "      <td>isFirstVisit</td>\n",
              "      <td>0.035258</td>\n",
              "    </tr>\n",
              "    <tr>\n",
              "      <th>19</th>\n",
              "      <td>addedToCart</td>\n",
              "      <td>0.030353</td>\n",
              "    </tr>\n",
              "    <tr>\n",
              "      <th>20</th>\n",
              "      <td>churned</td>\n",
              "      <td>0.029667</td>\n",
              "    </tr>\n",
              "    <tr>\n",
              "      <th>21</th>\n",
              "      <td>totalPageviews</td>\n",
              "      <td>0.024931</td>\n",
              "    </tr>\n",
              "    <tr>\n",
              "      <th>22</th>\n",
              "      <td>totalTimeOnSite</td>\n",
              "      <td>0.021414</td>\n",
              "    </tr>\n",
              "    <tr>\n",
              "      <th>23</th>\n",
              "      <td>sessionNumber</td>\n",
              "      <td>0.020552</td>\n",
              "    </tr>\n",
              "    <tr>\n",
              "      <th>24</th>\n",
              "      <td>isMobile</td>\n",
              "      <td>0.004089</td>\n",
              "    </tr>\n",
              "    <tr>\n",
              "      <th>25</th>\n",
              "      <td>ga_session_id</td>\n",
              "      <td>0.001533</td>\n",
              "    </tr>\n",
              "  </tbody>\n",
              "</table>\n",
              "</div>"
            ],
            "text/plain": [
              "                      feature  attribution\n",
              "0               fullVisitorId     0.591654\n",
              "1                        city     0.429437\n",
              "2                      source     0.427652\n",
              "3                    campaign     0.427520\n",
              "4                      medium     0.427505\n",
              "5                     country     0.427451\n",
              "6                 firstSource     0.427295\n",
              "7                     browser     0.427287\n",
              "8                 firstMedium     0.427194\n",
              "9             operatingSystem     0.427122\n",
              "10                 event_date     0.426873\n",
              "11  latest_ecommerce_progress     0.192599\n",
              "12         engagement_seconds     0.050041\n",
              "13         engagement_minutes     0.049922\n",
              "14     engagement_avg_minutes     0.049833\n",
              "15         productPagesViewed     0.039491\n",
              "16     engagement_avg_seconds     0.039117\n",
              "17                  totalHits     0.038672\n",
              "18               isFirstVisit     0.035258\n",
              "19                addedToCart     0.030353\n",
              "20                    churned     0.029667\n",
              "21             totalPageviews     0.024931\n",
              "22            totalTimeOnSite     0.021414\n",
              "23              sessionNumber     0.020552\n",
              "24                   isMobile     0.004089\n",
              "25              ga_session_id     0.001533"
            ]
          },
          "execution_count": 9,
          "metadata": {},
          "output_type": "execute_result"
        }
      ],
      "source": [
        "run_bq_query(\n",
        "    f\"\"\"\n",
        "    SELECT\n",
        "      *\n",
        "    FROM\n",
        "      ML.GLOBAL_EXPLAIN(MODEL `{PROJECT_ID}.{DATASET_NAME}.{MODEL_NAME}`)\n",
        "    \"\"\", show=True\n",
        ")"
      ]
    },
    {
      "cell_type": "markdown",
      "id": "b52df6b2-593a-443b-85b9-370dd3eaca3b",
      "metadata": {
        "id": "b52df6b2-593a-443b-85b9-370dd3eaca3b"
      },
      "source": [
        "#### Export model to Cloud Storage"
      ]
    },
    {
      "cell_type": "code",
      "execution_count": null,
      "id": "4f6a6620-bc14-4229-acb8-5004bce6212c",
      "metadata": {
        "tags": [],
        "id": "4f6a6620-bc14-4229-acb8-5004bce6212c",
        "outputId": "a6153fca-0def-4621-8205-9e192c2e2ab1"
      },
      "outputs": [
        {
          "name": "stdout",
          "output_type": "stream",
          "text": [
            "Finished job_id: 209fb1c1-2055-4cb3-8d98-f2eddb95c726\n"
          ]
        },
        {
          "data": {
            "text/html": [
              "<div>\n",
              "<style scoped>\n",
              "    .dataframe tbody tr th:only-of-type {\n",
              "        vertical-align: middle;\n",
              "    }\n",
              "\n",
              "    .dataframe tbody tr th {\n",
              "        vertical-align: top;\n",
              "    }\n",
              "\n",
              "    .dataframe thead th {\n",
              "        text-align: right;\n",
              "    }\n",
              "</style>\n",
              "<table border=\"1\" class=\"dataframe\">\n",
              "  <thead>\n",
              "    <tr style=\"text-align: right;\">\n",
              "      <th></th>\n",
              "    </tr>\n",
              "  </thead>\n",
              "  <tbody>\n",
              "  </tbody>\n",
              "</table>\n",
              "</div>"
            ],
            "text/plain": [
              "Empty DataFrame\n",
              "Columns: []\n",
              "Index: []"
            ]
          },
          "execution_count": 10,
          "metadata": {},
          "output_type": "execute_result"
        }
      ],
      "source": [
        "run_bq_query(\n",
        "    f\"\"\"\n",
        "    EXPORT MODEL `{PROJECT_ID}.{DATASET_NAME}.{MODEL_NAME}`\n",
        "    OPTIONS(URI = 'gs://{BUCKET_NAME}/model')\n",
        "    \"\"\", show=True\n",
        ")"
      ]
    },
    {
      "cell_type": "markdown",
      "id": "7cf8d17d-88f3-4eb5-91a1-f5362928202c",
      "metadata": {
        "id": "7cf8d17d-88f3-4eb5-91a1-f5362928202c"
      },
      "source": [
        "#### Register model in Vertex AI Model Registry"
      ]
    },
    {
      "cell_type": "code",
      "execution_count": null,
      "id": "aed390b3-6aeb-41a5-9422-4ac52d2f7434",
      "metadata": {
        "tags": [],
        "id": "aed390b3-6aeb-41a5-9422-4ac52d2f7434",
        "outputId": "70c732da-39f8-4506-f73c-6a28635f8df1"
      },
      "outputs": [
        {
          "name": "stdout",
          "output_type": "stream",
          "text": [
            "Creating Model\n",
            "Create Model backing LRO: projects/672658926390/locations/us-central1/models/4383314154803429376/operations/4497787368387903488\n",
            "Model created. Resource name: projects/672658926390/locations/us-central1/models/4383314154803429376@1\n",
            "To use this Model in another session:\n",
            "model = aiplatform.Model('projects/672658926390/locations/us-central1/models/4383314154803429376@1')\n"
          ]
        }
      ],
      "source": [
        "# Create Model Resource\n",
        "model = aip.Model.upload(\n",
        "    display_name=MODEL_NAME,\n",
        "    artifact_uri= f'gs://{BUCKET_NAME}/model',\n",
        "    serving_container_image_uri=\"us-docker.pkg.dev/vertex-ai/prediction/tf2-cpu.2-8:latest\",\n",
        ")"
      ]
    },
    {
      "cell_type": "markdown",
      "id": "9ac34f34-e20c-4b44-bbe8-9dd2e9b3fe2c",
      "metadata": {
        "id": "9ac34f34-e20c-4b44-bbe8-9dd2e9b3fe2c"
      },
      "source": [
        "#### Deploy model to Vertex AI endpoint"
      ]
    },
    {
      "cell_type": "code",
      "execution_count": null,
      "id": "88057567-1fae-4d53-bcf0-c509cec7322c",
      "metadata": {
        "tags": [],
        "id": "88057567-1fae-4d53-bcf0-c509cec7322c",
        "outputId": "9bd239f2-e4a2-4165-8a37-5e3a35541782"
      },
      "outputs": [
        {
          "name": "stdout",
          "output_type": "stream",
          "text": [
            "Creating Endpoint\n",
            "Create Endpoint backing LRO: projects/672658926390/locations/us-central1/endpoints/3289437524119781376/operations/9109473386815291392\n",
            "Endpoint created. Resource name: projects/672658926390/locations/us-central1/endpoints/3289437524119781376\n",
            "To use this Endpoint in another session:\n",
            "endpoint = aiplatform.Endpoint('projects/672658926390/locations/us-central1/endpoints/3289437524119781376')\n",
            "Deploying model to Endpoint : projects/672658926390/locations/us-central1/endpoints/3289437524119781376\n",
            "Deploy Endpoint model backing LRO: projects/672658926390/locations/us-central1/endpoints/3289437524119781376/operations/937691862951526400\n",
            "Endpoint model deployed. Resource name: projects/672658926390/locations/us-central1/endpoints/3289437524119781376\n"
          ]
        }
      ],
      "source": [
        "#model = vertex_ai.Model(model_name=model.resource_name)\n",
        "\n",
        "endpoint = model.deploy(\n",
        "    deployed_model_display_name=ENDPOINT_NAME,\n",
        "    machine_type=\"n1-standard-4\",  # Or choose a suitable machine type\n",
        "    min_replica_count=1,\n",
        "    max_replica_count=1,\n",
        ")"
      ]
    },
    {
      "cell_type": "markdown",
      "id": "82700cd6-00b8-49e3-9046-34366eceb60c",
      "metadata": {
        "id": "82700cd6-00b8-49e3-9046-34366eceb60c"
      },
      "source": [
        "### Deploy model monitoring"
      ]
    },
    {
      "cell_type": "markdown",
      "id": "07aad740-c088-485a-a927-e6c387d287ea",
      "metadata": {
        "id": "07aad740-c088-485a-a927-e6c387d287ea"
      },
      "source": [
        "##### Put BigQuery table into Pandas data frame"
      ]
    },
    {
      "cell_type": "code",
      "execution_count": null,
      "id": "8c06b82c-0fae-49f2-8eb8-9157ad062e0f",
      "metadata": {
        "tags": [],
        "id": "8c06b82c-0fae-49f2-8eb8-9157ad062e0f",
        "outputId": "b63216cb-c277-40ae-a056-98e1c0d8f48f"
      },
      "outputs": [
        {
          "name": "stderr",
          "output_type": "stream",
          "text": [
            "/opt/conda/lib/python3.10/site-packages/google/cloud/bigquery/table.py:2309: UserWarning: Unable to represent RANGE schema as struct using pandas ArrowDtype. Using `object` instead. To use ArrowDtype, use pandas >= 1.5 and pyarrow >= 10.0.1.\n",
            "  warnings.warn(_RANGE_PYARROW_WARNING)\n",
            "/opt/conda/lib/python3.10/site-packages/google/cloud/bigquery/table.py:2323: UserWarning: Unable to represent RANGE schema as struct using pandas ArrowDtype. Using `object` instead. To use ArrowDtype, use pandas >= 1.5 and pyarrow >= 10.0.1.\n",
            "  warnings.warn(_RANGE_PYARROW_WARNING)\n",
            "/opt/conda/lib/python3.10/site-packages/google/cloud/bigquery/table.py:2337: UserWarning: Unable to represent RANGE schema as struct using pandas ArrowDtype. Using `object` instead. To use ArrowDtype, use pandas >= 1.5 and pyarrow >= 10.0.1.\n",
            "  warnings.warn(_RANGE_PYARROW_WARNING)\n"
          ]
        }
      ],
      "source": [
        "query = f\"\"\"\n",
        "    SELECT *\n",
        "    FROM `{DATASET_NAME}.{TABLE_NAME}`\n",
        "\"\"\"\n",
        "\n",
        "# Read from BigQuery into Pandas DataFrame\n",
        "df = pd.read_gbq(query=query,project_id=PROJECT_ID)\n",
        "\n",
        "#print(df.head())"
      ]
    },
    {
      "cell_type": "markdown",
      "id": "7503669a-cc81-4cc2-b7b1-bc1d90bd3ad5",
      "metadata": {
        "id": "7503669a-cc81-4cc2-b7b1-bc1d90bd3ad5"
      },
      "source": [
        "##### Take a brief look at data frame metadata"
      ]
    },
    {
      "cell_type": "code",
      "execution_count": null,
      "id": "a6bead2d-ff73-47a5-882f-a26ab36fe123",
      "metadata": {
        "tags": [],
        "id": "a6bead2d-ff73-47a5-882f-a26ab36fe123",
        "outputId": "8815accb-6365-449a-e405-a5c801eef2fd"
      },
      "outputs": [
        {
          "name": "stdout",
          "output_type": "stream",
          "text": [
            "<class 'pandas.core.frame.DataFrame'>\n",
            "RangeIndex: 361064 entries, 0 to 361063\n",
            "Data columns (total 28 columns):\n",
            " #   Column                     Non-Null Count   Dtype \n",
            "---  ------                     --------------   ----- \n",
            " 0   fullVisitorId              361064 non-null  object\n",
            " 1   ga_session_id              361064 non-null  Int64 \n",
            " 2   churned                    361064 non-null  Int64 \n",
            " 3   event_date                 361064 non-null  object\n",
            " 4   isMobile                   361064 non-null  Int64 \n",
            " 5   operatingSystem            361064 non-null  object\n",
            " 6   browser                    361064 non-null  object\n",
            " 7   country                    361064 non-null  object\n",
            " 8   city                       361064 non-null  object\n",
            " 9   firstSource                361064 non-null  object\n",
            " 10  firstMedium                361064 non-null  object\n",
            " 11  sessionNumber              361064 non-null  Int64 \n",
            " 12  latest_ecommerce_progress  361064 non-null  Int64 \n",
            " 13  isFirstVisit               361064 non-null  Int64 \n",
            " 14  productPagesViewed         361064 non-null  Int64 \n",
            " 15  addedToCart                361064 non-null  Int64 \n",
            " 16  purchase                   361064 non-null  Int64 \n",
            " 17  totalHits                  361064 non-null  Int64 \n",
            " 18  totalPageviews             361064 non-null  Int64 \n",
            " 19  totalVisits                361064 non-null  Int64 \n",
            " 20  totalTimeOnSite            291692 non-null  Int64 \n",
            " 21  engagement_seconds         361064 non-null  Int64 \n",
            " 22  engagement_minutes         361064 non-null  Int64 \n",
            " 23  engagement_avg_seconds     361064 non-null  Int64 \n",
            " 24  engagement_avg_minutes     361064 non-null  Int64 \n",
            " 25  source                     265676 non-null  object\n",
            " 26  medium                     266441 non-null  object\n",
            " 27  campaign                   266425 non-null  object\n",
            "dtypes: Int64(17), object(11)\n",
            "memory usage: 83.0+ MB\n"
          ]
        }
      ],
      "source": [
        "df.info()"
      ]
    },
    {
      "cell_type": "markdown",
      "id": "0044c747-1471-48f9-9f13-ae119ddd5230",
      "metadata": {
        "id": "0044c747-1471-48f9-9f13-ae119ddd5230"
      },
      "source": [
        "##### Convert all object columns to string"
      ]
    },
    {
      "cell_type": "code",
      "execution_count": null,
      "id": "af5fb4dc-45e4-45c9-bf69-9445e41ae5b7",
      "metadata": {
        "tags": [],
        "id": "af5fb4dc-45e4-45c9-bf69-9445e41ae5b7",
        "outputId": "f07c1905-a488-4dae-e47a-e5b8dd798e7f"
      },
      "outputs": [
        {
          "name": "stdout",
          "output_type": "stream",
          "text": [
            "<class 'pandas.core.frame.DataFrame'>\n",
            "RangeIndex: 361064 entries, 0 to 361063\n",
            "Data columns (total 28 columns):\n",
            " #   Column                     Non-Null Count   Dtype \n",
            "---  ------                     --------------   ----- \n",
            " 0   fullVisitorId              361064 non-null  string\n",
            " 1   ga_session_id              361064 non-null  Int64 \n",
            " 2   churned                    361064 non-null  Int64 \n",
            " 3   event_date                 361064 non-null  string\n",
            " 4   isMobile                   361064 non-null  Int64 \n",
            " 5   operatingSystem            361064 non-null  string\n",
            " 6   browser                    361064 non-null  string\n",
            " 7   country                    361064 non-null  string\n",
            " 8   city                       361064 non-null  string\n",
            " 9   firstSource                361064 non-null  string\n",
            " 10  firstMedium                361064 non-null  string\n",
            " 11  sessionNumber              361064 non-null  Int64 \n",
            " 12  latest_ecommerce_progress  361064 non-null  Int64 \n",
            " 13  isFirstVisit               361064 non-null  Int64 \n",
            " 14  productPagesViewed         361064 non-null  Int64 \n",
            " 15  addedToCart                361064 non-null  Int64 \n",
            " 16  purchase                   361064 non-null  Int64 \n",
            " 17  totalHits                  361064 non-null  Int64 \n",
            " 18  totalPageviews             361064 non-null  Int64 \n",
            " 19  totalVisits                361064 non-null  Int64 \n",
            " 20  totalTimeOnSite            291692 non-null  Int64 \n",
            " 21  engagement_seconds         361064 non-null  Int64 \n",
            " 22  engagement_minutes         361064 non-null  Int64 \n",
            " 23  engagement_avg_seconds     361064 non-null  Int64 \n",
            " 24  engagement_avg_minutes     361064 non-null  Int64 \n",
            " 25  source                     265676 non-null  string\n",
            " 26  medium                     266441 non-null  string\n",
            " 27  campaign                   266425 non-null  string\n",
            "dtypes: Int64(17), string(11)\n",
            "memory usage: 83.0 MB\n"
          ]
        }
      ],
      "source": [
        "df[df.select_dtypes(['object']).columns] = df.select_dtypes(['object']).astype('string')\n",
        "df.info()"
      ]
    },
    {
      "cell_type": "markdown",
      "id": "7ccf1cf5-9219-4bd8-bd0d-40b3c4571d8d",
      "metadata": {
        "id": "7ccf1cf5-9219-4bd8-bd0d-40b3c4571d8d"
      },
      "source": [
        "##### Drop target column"
      ]
    },
    {
      "cell_type": "code",
      "execution_count": null,
      "id": "e8f34997-49e4-4a30-9656-0659f582b0c4",
      "metadata": {
        "tags": [],
        "id": "e8f34997-49e4-4a30-9656-0659f582b0c4"
      },
      "outputs": [],
      "source": [
        "df_nt = df.drop(TARGET, axis=1)"
      ]
    },
    {
      "cell_type": "markdown",
      "id": "23f1dd4d-6b1c-4e54-aa2e-a5a2050f5bfa",
      "metadata": {
        "id": "23f1dd4d-6b1c-4e54-aa2e-a5a2050f5bfa"
      },
      "source": [
        "##### Transform testing examples into list od dictionaries"
      ]
    },
    {
      "cell_type": "code",
      "execution_count": null,
      "id": "3bdab309-840a-41a7-a39e-12135fc50fe8",
      "metadata": {
        "tags": [],
        "id": "3bdab309-840a-41a7-a39e-12135fc50fe8"
      },
      "outputs": [],
      "source": [
        "# Extract specific rows\n",
        "start_row = 17000\n",
        "end_row = 18000\n",
        "extracted_df = df_nt.iloc[start_row:end_row].copy()\n",
        "\n",
        "# Get column names and their data types\n",
        "column_dtypes = extracted_df.dtypes.to_dict()\n",
        "\n",
        "# Fill missing values in the extracted DataFrame (if any), handling StringArrays\n",
        "for col_name, col_dtype in column_dtypes.items():\n",
        "    if col_dtype == 'string':  # or isinstance(extracted_df[col_name].dtype, pd.StringDtype)\n",
        "        extracted_df[col_name] = extracted_df[col_name].fillna('')  # Fill with empty string\n",
        "    else:\n",
        "        extracted_df[col_name] = extracted_df[col_name].fillna(0)  # Fill numeric columns with 0\n",
        "\n",
        "# Get column names and their data types\n",
        "column_dtypes = extracted_df.dtypes.to_dict()\n",
        "\n",
        "# Create the list of dictionaries\n",
        "abc = []\n",
        "for _, row in extracted_df.iterrows():\n",
        "    row_dict = {}\n",
        "    for col_name, col_value in row.items():\n",
        "        # Convert data types based on column_dtypes\n",
        "        if column_dtypes[col_name] == 'Int64':\n",
        "            row_dict[col_name] = int(col_value) if pd.notnull(col_value) else 0\n",
        "        elif column_dtypes[col_name] == 'Float64':\n",
        "            row_dict[col_name] = float(col_value) if pd.notnull(col_value) else 0.0\n",
        "        else:\n",
        "            row_dict[col_name] = str(col_value) if pd.notnull(col_value) else \"\"\n",
        "\n",
        "    abc.append(row_dict)\n",
        "\n",
        "#endpoint.predict(instances=abc)"
      ]
    },
    {
      "cell_type": "markdown",
      "source": [
        "##Querying the model located in Vertex"
      ],
      "metadata": {
        "id": "lL9L5BcGZRnc"
      },
      "id": "lL9L5BcGZRnc"
    },
    {
      "cell_type": "code",
      "source": [
        "{\n",
        "  \"instances\": [\n",
        "    {\n",
        "      \"addedToCart\": 0,\n",
        "      \"browser\": \"Chrome\",\n",
        "      \"campaign\": \"referral\",\n",
        "      \"churned\": 1,\n",
        "      \"city\": \"Barcelona\",\n",
        "      \"country\": \"Spain\",\n",
        "      \"engagement_avg_minutes\": 0,\n",
        "      \"engagement_avg_seconds\": 0,\n",
        "      \"engagement_minutes\": 0,\n",
        "      \"engagement_seconds\": 61,\n",
        "      \"event_date\": \"20210108\",\n",
        "      \"firstMedium\": \"referral\",\n",
        "      \"firstSource\": \"shop.googlemerchandisestore.com\",\n",
        "      \"fullVisitorId\": \"6457394.0467289981\",\n",
        "      \"ga_session_id\": 6006978527,\n",
        "      \"isFirstVisit\": 1,\n",
        "      \"isMobile\": 0,\n",
        "      \"latest_ecommerce_progress\": 5,\n",
        "      \"medium\": \"referral\",\n",
        "      \"operatingSystem\": \"Web\",\n",
        "      \"productPagesViewed\": 25,\n",
        "      \"sessionNumber\": 1,\n",
        "      \"source\": \"shop.googlemerchandisestore.com\",\n",
        "      \"totalHits\": 256,\n",
        "      \"totalPageviews\": 25,\n",
        "      \"totalTimeOnSite\": 74378,\n",
        "      \"totalVisits\": 1\n",
        "    }\n",
        "  ]\n",
        "}"
      ],
      "metadata": {
        "id": "m-g2dJ2RZUB6"
      },
      "id": "m-g2dJ2RZUB6",
      "execution_count": null,
      "outputs": []
    },
    {
      "cell_type": "markdown",
      "id": "d2bf08bb-9e8e-4e35-b165-e5f2106ea781",
      "metadata": {
        "id": "d2bf08bb-9e8e-4e35-b165-e5f2106ea781"
      },
      "source": [
        "## Monitoring"
      ]
    },
    {
      "cell_type": "markdown",
      "id": "6e947eb2-a782-433d-855a-6ae368d1b7fe",
      "metadata": {
        "id": "6e947eb2-a782-433d-855a-6ae368d1b7fe"
      },
      "source": [
        "##### Define prerequisities to monitoring job"
      ]
    },
    {
      "cell_type": "code",
      "execution_count": null,
      "id": "17947b2d-2dd8-4a81-b0dd-d26635b63f2d",
      "metadata": {
        "tags": [],
        "id": "17947b2d-2dd8-4a81-b0dd-d26635b63f2d"
      },
      "outputs": [],
      "source": [
        "# Sampling rate (optional, default=.8)\n",
        "LOG_SAMPLE_RATE = 0.8  # @param {type:\"number\"}\n",
        "\n",
        "# Monitoring Interval in hours (optional, default=1).\n",
        "MONITOR_INTERVAL = 1  # @param {type:\"number\"}\n",
        "\n",
        "# Skew and drift thresholds.\n",
        "\n",
        "SKEW_THRESHOLDS = {\n",
        "    \"churned\": 0.003,\n",
        "    \"isMobile\": 0.003,\n",
        "    \"sessionNumber\": 0.003,\n",
        "    \"latest_ecommerce_progress\": 0.003,\n",
        "    \"isFirstVisit\": 0.003,\n",
        "    \"productPagesViewed\": 0.003,\n",
        "    \"addedToCart\": 0.003,\n",
        "    \"totalHits\": 0.003,\n",
        "    \"totalPageviews\": 0.003,\n",
        "    \"totalVisits\": 0.003,\n",
        "    \"totalTimeOnSite\": 0.003,\n",
        "    \"engagement_seconds\": 0.003,\n",
        "    \"engagement_minutes\": 0.003,\n",
        "    \"engagement_avg_seconds\": 0.003,\n",
        "    \"engagement_avg_minutes\": 0.003,\n",
        "}\n",
        "DRIFT_THRESHOLDS = {\n",
        "    \"churned\": 0.003,\n",
        "    \"isMobile\": 0.003,\n",
        "    \"sessionNumber\": 0.003,\n",
        "    \"latest_ecommerce_progress\": 0.003,\n",
        "    \"isFirstVisit\": 0.003,\n",
        "    \"productPagesViewed\": 0.003,\n",
        "    \"addedToCart\": 0.003,\n",
        "    \"totalHits\": 0.003,\n",
        "    \"totalPageviews\": 0.003,\n",
        "    \"totalVisits\": 0.003,\n",
        "    \"totalTimeOnSite\": 0.003,\n",
        "    \"engagement_seconds\": 0.003,\n",
        "    \"engagement_minutes\": 0.003,\n",
        "    \"engagement_avg_seconds\": 0.003,\n",
        "    \"engagement_avg_minutes\": 0.003,\n",
        "}\n",
        "ATTRIB_SKEW_THRESHOLDS = {\n",
        "    \"churned\": 0.003,\n",
        "    \"isMobile\": 0.003,\n",
        "    \"sessionNumber\": 0.003,\n",
        "    \"latest_ecommerce_progress\": 0.003,\n",
        "    \"isFirstVisit\": 0.003,\n",
        "    \"productPagesViewed\": 0.003,\n",
        "    \"addedToCart\": 0.003,\n",
        "    \"totalHits\": 0.003,\n",
        "    \"totalPageviews\": 0.003,\n",
        "    \"totalVisits\": 0.003,\n",
        "    \"totalTimeOnSite\": 0.003,\n",
        "    \"engagement_seconds\": 0.003,\n",
        "    \"engagement_minutes\": 0.003,\n",
        "    \"engagement_avg_seconds\": 0.003,\n",
        "    \"engagement_avg_minutes\": 0.003,\n",
        "}\n",
        "ATTRIB_DRIFT_THRESHOLDS = {\n",
        "    \"churned\": 0.003,\n",
        "    \"isMobile\": 0.003,\n",
        "    \"sessionNumber\": 0.003,\n",
        "    \"latest_ecommerce_progress\": 0.003,\n",
        "    \"isFirstVisit\": 0.003,\n",
        "    \"productPagesViewed\": 0.003,\n",
        "    \"addedToCart\": 0.003,\n",
        "    \"totalHits\": 0.003,\n",
        "    \"totalPageviews\": 0.003,\n",
        "    \"totalVisits\": 0.003,\n",
        "    \"totalTimeOnSite\": 0.003,\n",
        "    \"engagement_seconds\": 0.003,\n",
        "    \"engagement_minutes\": 0.003,\n",
        "    \"engagement_avg_seconds\": 0.003,\n",
        "    \"engagement_avg_minutes\": 0.003,\n",
        "}"
      ]
    },
    {
      "cell_type": "code",
      "execution_count": null,
      "id": "5a7670cb-24ef-49e2-beca-c0ef5c6bb70f",
      "metadata": {
        "tags": [],
        "id": "5a7670cb-24ef-49e2-beca-c0ef5c6bb70f"
      },
      "outputs": [],
      "source": [
        "skew_config = model_monitoring.SkewDetectionConfig(\n",
        "    data_source=f\"bq://{PROJECT_ID}.{DATASET_NAME}.{TABLE_NAME}\",\n",
        "    skew_thresholds=SKEW_THRESHOLDS,\n",
        "    attribute_skew_thresholds=ATTRIB_SKEW_THRESHOLDS,\n",
        "    target_field=TARGET,\n",
        ")\n",
        "\n",
        "drift_config = model_monitoring.DriftDetectionConfig(\n",
        "    drift_thresholds=DRIFT_THRESHOLDS,\n",
        "    attribute_drift_thresholds=ATTRIB_DRIFT_THRESHOLDS,\n",
        ")\n",
        "\n",
        "objective_config = model_monitoring.ObjectiveConfig(\n",
        "    skew_config, drift_config\n",
        ")\n",
        "\n",
        "# Create sampling configuration\n",
        "random_sampling = model_monitoring.RandomSampleConfig(sample_rate=LOG_SAMPLE_RATE)\n",
        "\n",
        "# Create schedule configuration\n",
        "schedule_config = model_monitoring.ScheduleConfig(monitor_interval=MONITOR_INTERVAL)\n",
        "\n",
        "# Create alerting configuration.\n",
        "emails = [\"dprzek@google.com\"]\n",
        "alerting_config = model_monitoring.EmailAlertConfig(\n",
        "    user_emails=emails, enable_logging=True\n",
        ")"
      ]
    },
    {
      "cell_type": "markdown",
      "id": "7118a695-809d-4cf4-897a-7a0705ddc4f1",
      "metadata": {
        "id": "7118a695-809d-4cf4-897a-7a0705ddc4f1"
      },
      "source": [
        "#### Create monitoring job"
      ]
    },
    {
      "cell_type": "code",
      "execution_count": null,
      "id": "e7622a63-3368-4096-952a-76ba7a8d2931",
      "metadata": {
        "tags": [],
        "id": "e7622a63-3368-4096-952a-76ba7a8d2931",
        "outputId": "444434a2-40fa-47f5-dc62-df6f53805da9"
      },
      "outputs": [
        {
          "name": "stdout",
          "output_type": "stream",
          "text": [
            "Creating ModelDeploymentMonitoringJob\n",
            "ModelDeploymentMonitoringJob created. Resource name: projects/672658926390/locations/us-central1/modelDeploymentMonitoringJobs/3970082122755997696\n",
            "To use this ModelDeploymentMonitoringJob in another session:\n",
            "mdm_job = aiplatform.ModelDeploymentMonitoringJob('projects/672658926390/locations/us-central1/modelDeploymentMonitoringJobs/3970082122755997696')\n",
            "View Model Deployment Monitoring Job:\n",
            "https://console.cloud.google.com/ai/platform/locations/us-central1/model-deployment-monitoring/3970082122755997696?project=672658926390\n"
          ]
        }
      ],
      "source": [
        "job_new = vertex_ai.ModelDeploymentMonitoringJob.create(\n",
        "    display_name=MONITORING_JOB_NAME,\n",
        "    logging_sampling_strategy=random_sampling,\n",
        "    schedule_config=schedule_config,\n",
        "    alert_config=alerting_config,\n",
        "    objective_configs=objective_config,\n",
        "    project=PROJECT_ID,\n",
        "    location=REGION,\n",
        "    endpoint=endpoint,\n",
        ")"
      ]
    },
    {
      "cell_type": "markdown",
      "id": "a0dd28b6-bc68-4aea-8c81-ee0a9827ac04",
      "metadata": {
        "id": "a0dd28b6-bc68-4aea-8c81-ee0a9827ac04"
      },
      "source": [
        "#### Request the endpoint"
      ]
    },
    {
      "cell_type": "code",
      "execution_count": null,
      "id": "3df9811e-fff2-411c-af99-01df7055246e",
      "metadata": {
        "tags": [],
        "id": "3df9811e-fff2-411c-af99-01df7055246e",
        "outputId": "36ff1a68-f4e4-4ec3-9f71-b9d16d4964b9"
      },
      "outputs": [
        {
          "data": {
            "text/plain": [
              "Prediction(predictions=[{'purchase_values': ['1', '0'], 'predicted_purchase': ['0'], 'purchase_probs': [0.008055729954017866, 0.9919442700459822]}, {'purchase_values': ['1', '0'], 'predicted_purchase': ['0'], 'purchase_probs': [0.01114383868854333, 0.9888561613114567]}, {'purchase_values': ['1', '0'], 'predicted_purchase': ['0'], 'purchase_probs': [0.01272586307482471, 0.9872741369251753]}, {'purchase_values': ['1', '0'], 'predicted_purchase': ['0'], 'purchase_probs': [0.008754648175721082, 0.9912453518242789]}, {'purchase_values': ['1', '0'], 'predicted_purchase': ['0'], 'purchase_probs': [0.01028921542630697, 0.989710784573693]}, {'purchase_values': ['1', '0'], 'predicted_purchase': ['0'], 'purchase_probs': [0.01317432577823125, 0.9868256742217687]}, {'purchase_values': ['1', '0'], 'predicted_purchase': ['0'], 'purchase_probs': [0.01182719898366105, 0.988172801016339]}, {'purchase_values': ['1', '0'], 'predicted_purchase': ['0'], 'purchase_probs': [0.01320804350020643, 0.9867919564997936]}, {'purchase_values': ['1', '0'], 'predicted_purchase': ['0'], 'purchase_probs': [0.01333714422050772, 0.9866628557794923]}, {'purchase_values': ['1', '0'], 'predicted_purchase': ['0'], 'purchase_probs': [0.01341620098474325, 0.9865837990152567]}, {'purchase_values': ['1', '0'], 'predicted_purchase': ['0'], 'purchase_probs': [0.0123151748175623, 0.9876848251824377]}, {'purchase_values': ['1', '0'], 'predicted_purchase': ['0'], 'purchase_probs': [0.006195434260595263, 0.9938045657394048]}, {'purchase_values': ['1', '0'], 'predicted_purchase': ['0'], 'purchase_probs': [0.01195661518587302, 0.988043384814127]}, {'purchase_values': ['1', '0'], 'predicted_purchase': ['0'], 'purchase_probs': [0.01283587041386127, 0.9871641295861387]}, {'purchase_values': ['1', '0'], 'predicted_purchase': ['0'], 'purchase_probs': [0.01219947922506753, 0.9878005207749324]}, {'purchase_values': ['1', '0'], 'predicted_purchase': ['0'], 'purchase_probs': [0.008860557275671399, 0.9911394427243286]}, {'purchase_values': ['1', '0'], 'predicted_purchase': ['0'], 'purchase_probs': [0.005050423402361857, 0.9949495765976382]}, {'purchase_values': ['1', '0'], 'predicted_purchase': ['0'], 'purchase_probs': [0.005128835441024145, 0.9948711645589758]}, {'purchase_values': ['1', '0'], 'predicted_purchase': ['0'], 'purchase_probs': [0.003831496293279013, 0.9961685037067209]}, {'purchase_values': ['1', '0'], 'predicted_purchase': ['0'], 'purchase_probs': [0.01160722358940101, 0.988392776410599]}, {'purchase_values': ['1', '0'], 'predicted_purchase': ['0'], 'purchase_probs': [0.00685915527585496, 0.993140844724145]}, {'purchase_values': ['1', '0'], 'predicted_purchase': ['0'], 'purchase_probs': [0.01043956241932449, 0.9895604375806755]}, {'purchase_values': ['1', '0'], 'predicted_purchase': ['0'], 'purchase_probs': [0.01229587411040994, 0.9877041258895901]}, {'purchase_values': ['1', '0'], 'predicted_purchase': ['0'], 'purchase_probs': [0.01253355342147711, 0.9874664465785229]}, {'purchase_values': ['1', '0'], 'predicted_purchase': ['0'], 'purchase_probs': [0.0130806650508071, 0.9869193349491929]}, {'purchase_values': ['1', '0'], 'predicted_purchase': ['0'], 'purchase_probs': [0.00829572488729721, 0.9917042751127028]}, {'purchase_values': ['1', '0'], 'predicted_purchase': ['0'], 'purchase_probs': [0.02094957037170343, 0.9790504296282966]}, {'purchase_values': ['1', '0'], 'predicted_purchase': ['0'], 'purchase_probs': [0.01220999690661584, 0.9877900030933842]}, {'purchase_values': ['1', '0'], 'predicted_purchase': ['0'], 'purchase_probs': [0.01356589624429636, 0.9864341037557036]}, {'purchase_values': ['1', '0'], 'predicted_purchase': ['0'], 'purchase_probs': [0.01344698317580575, 0.9865530168241943]}, {'purchase_values': ['1', '0'], 'predicted_purchase': ['0'], 'purchase_probs': [0.01555351449426404, 0.984446485505736]}, {'purchase_values': ['1', '0'], 'predicted_purchase': ['0'], 'purchase_probs': [0.01378124044400692, 0.986218759555993]}, {'purchase_values': ['1', '0'], 'predicted_purchase': ['0'], 'purchase_probs': [0.01206132971289583, 0.9879386702871041]}, {'purchase_values': ['1', '0'], 'predicted_purchase': ['0'], 'purchase_probs': [0.01310064684280941, 0.9868993531571906]}, {'purchase_values': ['1', '0'], 'predicted_purchase': ['0'], 'purchase_probs': [0.01151691212037581, 0.9884830878796242]}, {'purchase_values': ['1', '0'], 'predicted_purchase': ['0'], 'purchase_probs': [0.01180190047822187, 0.9881980995217782]}, {'purchase_values': ['1', '0'], 'predicted_purchase': ['0'], 'purchase_probs': [0.01244426594905707, 0.9875557340509429]}, {'purchase_values': ['1', '0'], 'predicted_purchase': ['0'], 'purchase_probs': [0.01284859374911168, 0.9871514062508883]}, {'purchase_values': ['1', '0'], 'predicted_purchase': ['0'], 'purchase_probs': [0.01135074842382826, 0.9886492515761718]}, {'purchase_values': ['1', '0'], 'predicted_purchase': ['0'], 'purchase_probs': [0.01237925772986698, 0.987620742270133]}, {'purchase_values': ['1', '0'], 'predicted_purchase': ['0'], 'purchase_probs': [0.007908206074453842, 0.9920917939255461]}, {'purchase_values': ['1', '0'], 'predicted_purchase': ['0'], 'purchase_probs': [0.01262445912470579, 0.9873755408752942]}, {'purchase_values': ['1', '0'], 'predicted_purchase': ['0'], 'purchase_probs': [0.01154376989769518, 0.9884562301023048]}, {'purchase_values': ['1', '0'], 'predicted_purchase': ['0'], 'purchase_probs': [0.01191313599891285, 0.9880868640010871]}, {'purchase_values': ['1', '0'], 'predicted_purchase': ['0'], 'purchase_probs': [0.01297850125595287, 0.9870214987440471]}, {'purchase_values': ['1', '0'], 'predicted_purchase': ['0'], 'purchase_probs': [0.01059007657625754, 0.9894099234237425]}, {'purchase_values': ['1', '0'], 'predicted_purchase': ['0'], 'purchase_probs': [0.01313588898437899, 0.986864111015621]}, {'purchase_values': ['1', '0'], 'predicted_purchase': ['0'], 'purchase_probs': [0.01210444995356274, 0.9878955500464373]}, {'purchase_values': ['1', '0'], 'predicted_purchase': ['0'], 'purchase_probs': [0.01129264178112612, 0.9887073582188739]}, {'purchase_values': ['1', '0'], 'predicted_purchase': ['0'], 'purchase_probs': [0.005158138357069173, 0.9948418616429309]}, {'purchase_values': ['1', '0'], 'predicted_purchase': ['0'], 'purchase_probs': [0.00905334034862663, 0.9909466596513734]}, {'purchase_values': ['1', '0'], 'predicted_purchase': ['0'], 'purchase_probs': [0.01428323165944074, 0.9857167683405592]}, {'purchase_values': ['1', '0'], 'predicted_purchase': ['0'], 'purchase_probs': [0.009988578700915275, 0.9900114212990847]}, {'purchase_values': ['1', '0'], 'predicted_purchase': ['0'], 'purchase_probs': [0.01353757604817008, 0.9864624239518299]}, {'purchase_values': ['1', '0'], 'predicted_purchase': ['0'], 'purchase_probs': [0.01262184313361309, 0.9873781568663869]}, {'purchase_values': ['1', '0'], 'predicted_purchase': ['0'], 'purchase_probs': [0.01278666527804161, 0.9872133347219584]}, {'purchase_values': ['1', '0'], 'predicted_purchase': ['0'], 'purchase_probs': [0.01137737814792495, 0.9886226218520751]}, {'purchase_values': ['1', '0'], 'predicted_purchase': ['0'], 'purchase_probs': [0.004595652372256671, 0.9954043476277433]}, {'purchase_values': ['1', '0'], 'predicted_purchase': ['0'], 'purchase_probs': [0.01297935420870341, 0.9870206457912966]}, {'purchase_values': ['1', '0'], 'predicted_purchase': ['0'], 'purchase_probs': [0.01485804062330593, 0.985141959376694]}, {'purchase_values': ['1', '0'], 'predicted_purchase': ['0'], 'purchase_probs': [0.005096860307573558, 0.9949031396924265]}, {'purchase_values': ['1', '0'], 'predicted_purchase': ['0'], 'purchase_probs': [0.01387258119385944, 0.9861274188061405]}, {'purchase_values': ['1', '0'], 'predicted_purchase': ['0'], 'purchase_probs': [0.01978508286409949, 0.9802149171359005]}, {'purchase_values': ['1', '0'], 'predicted_purchase': ['0'], 'purchase_probs': [0.01097115901186996, 0.98902884098813]}, {'purchase_values': ['1', '0'], 'predicted_purchase': ['0'], 'purchase_probs': [0.01355042142473601, 0.9864495785752639]}, {'purchase_values': ['1', '0'], 'predicted_purchase': ['0'], 'purchase_probs': [0.01341882351033578, 0.9865811764896643]}, {'purchase_values': ['1', '0'], 'predicted_purchase': ['0'], 'purchase_probs': [0.007452281592905549, 0.9925477184070944]}, {'purchase_values': ['1', '0'], 'predicted_purchase': ['0'], 'purchase_probs': [0.0109317680499248, 0.9890682319500752]}, {'purchase_values': ['1', '0'], 'predicted_purchase': ['0'], 'purchase_probs': [0.01208290353860909, 0.9879170964613909]}, {'purchase_values': ['1', '0'], 'predicted_purchase': ['0'], 'purchase_probs': [0.01363157409453469, 0.9863684259054654]}, {'purchase_values': ['1', '0'], 'predicted_purchase': ['0'], 'purchase_probs': [0.01286173273779376, 0.9871382672622062]}, {'purchase_values': ['1', '0'], 'predicted_purchase': ['0'], 'purchase_probs': [0.005494012787922962, 0.9945059872120771]}, {'purchase_values': ['1', '0'], 'predicted_purchase': ['0'], 'purchase_probs': [0.004920698510065579, 0.9950793014899344]}, {'purchase_values': ['1', '0'], 'predicted_purchase': ['0'], 'purchase_probs': [0.01197053893008522, 0.9880294610699147]}, {'purchase_values': ['1', '0'], 'predicted_purchase': ['0'], 'purchase_probs': [0.01124416030877355, 0.9887558396912265]}, {'purchase_values': ['1', '0'], 'predicted_purchase': ['0'], 'purchase_probs': [0.01219241704309977, 0.9878075829569002]}, {'purchase_values': ['1', '0'], 'predicted_purchase': ['0'], 'purchase_probs': [0.02368173537282613, 0.9763182646271739]}, {'purchase_values': ['1', '0'], 'predicted_purchase': ['0'], 'purchase_probs': [0.007698132629614102, 0.992301867370386]}, {'purchase_values': ['1', '0'], 'predicted_purchase': ['0'], 'purchase_probs': [0.008940936643348213, 0.9910590633566518]}, {'purchase_values': ['1', '0'], 'predicted_purchase': ['0'], 'purchase_probs': [0.01242807814485471, 0.9875719218551453]}, {'purchase_values': ['1', '0'], 'predicted_purchase': ['0'], 'purchase_probs': [0.01231926790798639, 0.9876807320920136]}, {'purchase_values': ['1', '0'], 'predicted_purchase': ['0'], 'purchase_probs': [0.0119145252489567, 0.9880854747510432]}, {'purchase_values': ['1', '0'], 'predicted_purchase': ['0'], 'purchase_probs': [0.004866654064304985, 0.995133345935695]}, {'purchase_values': ['1', '0'], 'predicted_purchase': ['0'], 'purchase_probs': [0.01385645759636564, 0.9861435424036343]}, {'purchase_values': ['1', '0'], 'predicted_purchase': ['0'], 'purchase_probs': [0.007290779085630894, 0.9927092209143691]}, {'purchase_values': ['1', '0'], 'predicted_purchase': ['0'], 'purchase_probs': [0.008563100644034705, 0.9914368993559652]}, {'purchase_values': ['1', '0'], 'predicted_purchase': ['0'], 'purchase_probs': [0.01309765971682792, 0.986902340283172]}, {'purchase_values': ['1', '0'], 'predicted_purchase': ['0'], 'purchase_probs': [0.01323302085168813, 0.9867669791483119]}, {'purchase_values': ['1', '0'], 'predicted_purchase': ['0'], 'purchase_probs': [0.01162602636965966, 0.9883739736303403]}, {'purchase_values': ['1', '0'], 'predicted_purchase': ['0'], 'purchase_probs': [0.01105671013398457, 0.9889432898660154]}, {'purchase_values': ['1', '0'], 'predicted_purchase': ['0'], 'purchase_probs': [0.01672455205986334, 0.9832754479401367]}, {'purchase_values': ['1', '0'], 'predicted_purchase': ['0'], 'purchase_probs': [0.005591404900944505, 0.9944085950990555]}, {'purchase_values': ['1', '0'], 'predicted_purchase': ['0'], 'purchase_probs': [0.008548968670521948, 0.9914510313294781]}, {'purchase_values': ['1', '0'], 'predicted_purchase': ['0'], 'purchase_probs': [0.01347595427330219, 0.9865240457266978]}, {'purchase_values': ['1', '0'], 'predicted_purchase': ['0'], 'purchase_probs': [0.01147061919112133, 0.9885293808088786]}, {'purchase_values': ['1', '0'], 'predicted_purchase': ['0'], 'purchase_probs': [0.01291558914439289, 0.9870844108556072]}, {'purchase_values': ['1', '0'], 'predicted_purchase': ['0'], 'purchase_probs': [0.01159977150054655, 0.9884002284994534]}, {'purchase_values': ['1', '0'], 'predicted_purchase': ['0'], 'purchase_probs': [0.005236847948933926, 0.994763152051066]}, {'purchase_values': ['1', '0'], 'predicted_purchase': ['0'], 'purchase_probs': [0.004770874439097993, 0.995229125560902]}, {'purchase_values': ['1', '0'], 'predicted_purchase': ['0'], 'purchase_probs': [0.008404331575915108, 0.9915956684240849]}, {'purchase_values': ['1', '0'], 'predicted_purchase': ['0'], 'purchase_probs': [0.01002669036438259, 0.9899733096356174]}, {'purchase_values': ['1', '0'], 'predicted_purchase': ['0'], 'purchase_probs': [0.00416936872473045, 0.9958306312752695]}, {'purchase_values': ['1', '0'], 'predicted_purchase': ['0'], 'purchase_probs': [0.01340859898182249, 0.9865914010181775]}, {'purchase_values': ['1', '0'], 'predicted_purchase': ['0'], 'purchase_probs': [0.01235746229372527, 0.9876425377062747]}, {'purchase_values': ['1', '0'], 'predicted_purchase': ['0'], 'purchase_probs': [0.01209335689699864, 0.9879066431030014]}, {'purchase_values': ['1', '0'], 'predicted_purchase': ['0'], 'purchase_probs': [0.004159815743288922, 0.9958401842567111]}, {'purchase_values': ['1', '0'], 'predicted_purchase': ['0'], 'purchase_probs': [0.01322504011850761, 0.9867749598814924]}, {'purchase_values': ['1', '0'], 'predicted_purchase': ['0'], 'purchase_probs': [0.01146090056937945, 0.9885390994306206]}, {'purchase_values': ['1', '0'], 'predicted_purchase': ['0'], 'purchase_probs': [0.01297596113357773, 0.9870240388664223]}, {'purchase_values': ['1', '0'], 'predicted_purchase': ['0'], 'purchase_probs': [0.01371354494379361, 0.9862864550562064]}, {'purchase_values': ['1', '0'], 'predicted_purchase': ['0'], 'purchase_probs': [0.01290001156443363, 0.9870999884355663]}, {'purchase_values': ['1', '0'], 'predicted_purchase': ['0'], 'purchase_probs': [0.007716617053239372, 0.9922833829467607]}, {'purchase_values': ['1', '0'], 'predicted_purchase': ['0'], 'purchase_probs': [0.01247089394568308, 0.9875291060543169]}, {'purchase_values': ['1', '0'], 'predicted_purchase': ['0'], 'purchase_probs': [0.01318425079092035, 0.9868157492090797]}, {'purchase_values': ['1', '0'], 'predicted_purchase': ['0'], 'purchase_probs': [0.01232853850647832, 0.9876714614935217]}, {'purchase_values': ['1', '0'], 'predicted_purchase': ['0'], 'purchase_probs': [0.01689285937918657, 0.9831071406208134]}, {'purchase_values': ['1', '0'], 'predicted_purchase': ['0'], 'purchase_probs': [0.01211620954548528, 0.9878837904545147]}, {'purchase_values': ['1', '0'], 'predicted_purchase': ['0'], 'purchase_probs': [0.1138953922605697, 0.8861046077394302]}, {'purchase_values': ['1', '0'], 'predicted_purchase': ['0'], 'purchase_probs': [0.01377384620414118, 0.9862261537958588]}, {'purchase_values': ['1', '0'], 'predicted_purchase': ['0'], 'purchase_probs': [0.01209886831869114, 0.9879011316813089]}, {'purchase_values': ['1', '0'], 'predicted_purchase': ['0'], 'purchase_probs': [0.01191950691945077, 0.9880804930805492]}, {'purchase_values': ['1', '0'], 'predicted_purchase': ['0'], 'purchase_probs': [0.01428513022651288, 0.9857148697734871]}, {'purchase_values': ['1', '0'], 'predicted_purchase': ['0'], 'purchase_probs': [0.01231833334885361, 0.9876816666511464]}, {'purchase_values': ['1', '0'], 'predicted_purchase': ['0'], 'purchase_probs': [0.01362020253731871, 0.9863797974626813]}, {'purchase_values': ['1', '0'], 'predicted_purchase': ['0'], 'purchase_probs': [0.01554915054526291, 0.984450849454737]}, {'purchase_values': ['1', '0'], 'predicted_purchase': ['0'], 'purchase_probs': [0.01095199976522901, 0.989048000234771]}, {'purchase_values': ['1', '0'], 'predicted_purchase': ['0'], 'purchase_probs': [0.009228859931242542, 0.9907711400687574]}, {'purchase_values': ['1', '0'], 'predicted_purchase': ['0'], 'purchase_probs': [0.01349702226007101, 0.986502977739929]}, {'purchase_values': ['1', '0'], 'predicted_purchase': ['0'], 'purchase_probs': [0.01361698532039938, 0.9863830146796007]}, {'purchase_values': ['1', '0'], 'predicted_purchase': ['0'], 'purchase_probs': [0.01182777441741824, 0.9881722255825818]}, {'purchase_values': ['1', '0'], 'predicted_purchase': ['0'], 'purchase_probs': [0.01051562080978364, 0.9894843791902164]}, {'purchase_values': ['1', '0'], 'predicted_purchase': ['0'], 'purchase_probs': [0.01233714754295913, 0.9876628524570409]}, {'purchase_values': ['1', '0'], 'predicted_purchase': ['0'], 'purchase_probs': [0.0158898392849107, 0.9841101607150893]}, {'purchase_values': ['1', '0'], 'predicted_purchase': ['0'], 'purchase_probs': [0.005565564420361117, 0.9944344355796388]}, {'purchase_values': ['1', '0'], 'predicted_purchase': ['0'], 'purchase_probs': [0.004811474984792743, 0.9951885250152073]}, {'purchase_values': ['1', '0'], 'predicted_purchase': ['0'], 'purchase_probs': [0.01104432245256268, 0.9889556775474373]}, {'purchase_values': ['1', '0'], 'predicted_purchase': ['0'], 'purchase_probs': [0.01355422170187356, 0.9864457782981264]}, {'purchase_values': ['1', '0'], 'predicted_purchase': ['0'], 'purchase_probs': [0.01056463073505671, 0.9894353692649432]}, {'purchase_values': ['1', '0'], 'predicted_purchase': ['0'], 'purchase_probs': [0.01240661125645576, 0.9875933887435442]}, {'purchase_values': ['1', '0'], 'predicted_purchase': ['0'], 'purchase_probs': [0.01620124717898344, 0.9837987528210166]}, {'purchase_values': ['1', '0'], 'predicted_purchase': ['0'], 'purchase_probs': [0.008885507590046363, 0.9911144924099536]}, {'purchase_values': ['1', '0'], 'predicted_purchase': ['0'], 'purchase_probs': [0.01225699963827607, 0.9877430003617239]}, {'purchase_values': ['1', '0'], 'predicted_purchase': ['0'], 'purchase_probs': [0.01405844522834041, 0.9859415547716596]}, {'purchase_values': ['1', '0'], 'predicted_purchase': ['0'], 'purchase_probs': [0.011277674914129, 0.988722325085871]}, {'purchase_values': ['1', '0'], 'predicted_purchase': ['0'], 'purchase_probs': [0.01513130309873579, 0.9848686969012642]}, {'purchase_values': ['1', '0'], 'predicted_purchase': ['0'], 'purchase_probs': [0.01529443358055184, 0.9847055664194482]}, {'purchase_values': ['1', '0'], 'predicted_purchase': ['0'], 'purchase_probs': [0.00866482027057991, 0.9913351797294201]}, {'purchase_values': ['1', '0'], 'predicted_purchase': ['0'], 'purchase_probs': [0.01169652640161963, 0.9883034735983803]}, {'purchase_values': ['1', '0'], 'predicted_purchase': ['0'], 'purchase_probs': [0.014165575061065, 0.985834424938935]}, {'purchase_values': ['1', '0'], 'predicted_purchase': ['0'], 'purchase_probs': [0.01344290459304435, 0.9865570954069557]}, {'purchase_values': ['1', '0'], 'predicted_purchase': ['0'], 'purchase_probs': [0.00489200231674419, 0.9951079976832559]}, {'purchase_values': ['1', '0'], 'predicted_purchase': ['0'], 'purchase_probs': [0.005259093754304365, 0.9947409062456957]}, {'purchase_values': ['1', '0'], 'predicted_purchase': ['0'], 'purchase_probs': [0.0151603882102628, 0.9848396117897372]}, {'purchase_values': ['1', '0'], 'predicted_purchase': ['0'], 'purchase_probs': [0.0082196100379085, 0.9917803899620915]}, {'purchase_values': ['1', '0'], 'predicted_purchase': ['0'], 'purchase_probs': [0.01353270510645814, 0.9864672948935419]}, {'purchase_values': ['1', '0'], 'predicted_purchase': ['0'], 'purchase_probs': [0.0153216073206935, 0.9846783926793065]}, {'purchase_values': ['1', '0'], 'predicted_purchase': ['0'], 'purchase_probs': [0.01144758108922739, 0.9885524189107726]}, {'purchase_values': ['1', '0'], 'predicted_purchase': ['0'], 'purchase_probs': [0.01145190731090367, 0.9885480926890964]}, {'purchase_values': ['1', '0'], 'predicted_purchase': ['0'], 'purchase_probs': [0.0109718801082595, 0.9890281198917406]}, {'purchase_values': ['1', '0'], 'predicted_purchase': ['0'], 'purchase_probs': [0.008195237480051975, 0.991804762519948]}, {'purchase_values': ['1', '0'], 'predicted_purchase': ['0'], 'purchase_probs': [0.01036993486831614, 0.9896300651316838]}, {'purchase_values': ['1', '0'], 'predicted_purchase': ['0'], 'purchase_probs': [0.007349349443047576, 0.9926506505569525]}, {'purchase_values': ['1', '0'], 'predicted_purchase': ['0'], 'purchase_probs': [0.007655988547454872, 0.9923440114525451]}, {'purchase_values': ['1', '0'], 'predicted_purchase': ['0'], 'purchase_probs': [0.01292337336211133, 0.9870766266378886]}, {'purchase_values': ['1', '0'], 'predicted_purchase': ['0'], 'purchase_probs': [0.005180779354378775, 0.9948192206456212]}, {'purchase_values': ['1', '0'], 'predicted_purchase': ['0'], 'purchase_probs': [0.01271259269037686, 0.9872874073096232]}, {'purchase_values': ['1', '0'], 'predicted_purchase': ['0'], 'purchase_probs': [0.01351453550862329, 0.9864854644913768]}, {'purchase_values': ['1', '0'], 'predicted_purchase': ['0'], 'purchase_probs': [0.008227349857932022, 0.991772650142068]}, {'purchase_values': ['1', '0'], 'predicted_purchase': ['0'], 'purchase_probs': [0.01332471826947551, 0.9866752817305245]}, {'purchase_values': ['1', '0'], 'predicted_purchase': ['0'], 'purchase_probs': [0.01414549888486038, 0.9858545011151396]}, {'purchase_values': ['1', '0'], 'predicted_purchase': ['0'], 'purchase_probs': [0.0122450637870124, 0.9877549362129876]}, {'purchase_values': ['1', '0'], 'predicted_purchase': ['0'], 'purchase_probs': [0.007415905815976774, 0.9925840941840233]}, {'purchase_values': ['1', '0'], 'predicted_purchase': ['0'], 'purchase_probs': [0.01350439903866231, 0.9864956009613377]}, {'purchase_values': ['1', '0'], 'predicted_purchase': ['0'], 'purchase_probs': [0.01428702281064731, 0.9857129771893527]}, {'purchase_values': ['1', '0'], 'predicted_purchase': ['0'], 'purchase_probs': [0.01052597280146521, 0.9894740271985348]}, {'purchase_values': ['1', '0'], 'predicted_purchase': ['0'], 'purchase_probs': [0.01290636992408115, 0.9870936300759189]}, {'purchase_values': ['1', '0'], 'predicted_purchase': ['0'], 'purchase_probs': [0.01204187428197134, 0.9879581257180287]}, {'purchase_values': ['1', '0'], 'predicted_purchase': ['0'], 'purchase_probs': [0.01426392659736508, 0.9857360734026349]}, {'purchase_values': ['1', '0'], 'predicted_purchase': ['0'], 'purchase_probs': [0.01281846202038322, 0.9871815379796168]}, {'purchase_values': ['1', '0'], 'predicted_purchase': ['0'], 'purchase_probs': [0.01309112683939301, 0.986908873160607]}, {'purchase_values': ['1', '0'], 'predicted_purchase': ['0'], 'purchase_probs': [0.01286317802071327, 0.9871368219792868]}, {'purchase_values': ['1', '0'], 'predicted_purchase': ['0'], 'purchase_probs': [0.004776926965818292, 0.9952230730341817]}, {'purchase_values': ['1', '0'], 'predicted_purchase': ['0'], 'purchase_probs': [0.01433092244162457, 0.9856690775583754]}, {'purchase_values': ['1', '0'], 'predicted_purchase': ['0'], 'purchase_probs': [0.007485106851615971, 0.992514893148384]}, {'purchase_values': ['1', '0'], 'predicted_purchase': ['0'], 'purchase_probs': [0.01177441024967005, 0.9882255897503299]}, {'purchase_values': ['1', '0'], 'predicted_purchase': ['0'], 'purchase_probs': [0.01378209428265858, 0.9862179057173415]}, {'purchase_values': ['1', '0'], 'predicted_purchase': ['0'], 'purchase_probs': [0.01358006709521452, 0.9864199329047855]}, {'purchase_values': ['1', '0'], 'predicted_purchase': ['0'], 'purchase_probs': [0.0047614629348769, 0.9952385370651231]}, {'purchase_values': ['1', '0'], 'predicted_purchase': ['0'], 'purchase_probs': [0.00511433899830638, 0.9948856610016936]}, {'purchase_values': ['1', '0'], 'predicted_purchase': ['0'], 'purchase_probs': [0.01404164598013341, 0.9859583540198666]}, {'purchase_values': ['1', '0'], 'predicted_purchase': ['0'], 'purchase_probs': [0.0137687280646608, 0.9862312719353392]}, {'purchase_values': ['1', '0'], 'predicted_purchase': ['0'], 'purchase_probs': [0.006816649965596885, 0.9931833500344032]}, {'purchase_values': ['1', '0'], 'predicted_purchase': ['0'], 'purchase_probs': [0.01102912628832417, 0.9889708737116758]}, {'purchase_values': ['1', '0'], 'predicted_purchase': ['0'], 'purchase_probs': [0.01145447814395474, 0.9885455218560453]}, {'purchase_values': ['1', '0'], 'predicted_purchase': ['0'], 'purchase_probs': [0.01196235088584831, 0.9880376491141517]}, {'purchase_values': ['1', '0'], 'predicted_purchase': ['0'], 'purchase_probs': [0.004707977869729423, 0.9952920221302706]}, {'purchase_values': ['1', '0'], 'predicted_purchase': ['0'], 'purchase_probs': [0.01342165511228118, 0.9865783448877188]}, {'purchase_values': ['1', '0'], 'predicted_purchase': ['0'], 'purchase_probs': [0.01462756597735449, 0.9853724340226455]}, {'purchase_values': ['1', '0'], 'predicted_purchase': ['0'], 'purchase_probs': [0.01175228320543723, 0.9882477167945628]}, {'purchase_values': ['1', '0'], 'predicted_purchase': ['0'], 'purchase_probs': [0.01254972983268656, 0.9874502701673135]}, {'purchase_values': ['1', '0'], 'predicted_purchase': ['0'], 'purchase_probs': [0.008413678623064972, 0.991586321376935]}, {'purchase_values': ['1', '0'], 'predicted_purchase': ['0'], 'purchase_probs': [0.01220209878957359, 0.9877979012104264]}, {'purchase_values': ['1', '0'], 'predicted_purchase': ['0'], 'purchase_probs': [0.00461524924201586, 0.9953847507579842]}, {'purchase_values': ['1', '0'], 'predicted_purchase': ['0'], 'purchase_probs': [0.0111774873818836, 0.9888225126181164]}, {'purchase_values': ['1', '0'], 'predicted_purchase': ['0'], 'purchase_probs': [0.01221651755165529, 0.9877834824483447]}, {'purchase_values': ['1', '0'], 'predicted_purchase': ['0'], 'purchase_probs': [0.004051468307770131, 0.9959485316922299]}, {'purchase_values': ['1', '0'], 'predicted_purchase': ['0'], 'purchase_probs': [0.01209388157971522, 0.9879061184202848]}, {'purchase_values': ['1', '0'], 'predicted_purchase': ['0'], 'purchase_probs': [0.01141469234292769, 0.9885853076570723]}, {'purchase_values': ['1', '0'], 'predicted_purchase': ['0'], 'purchase_probs': [0.01108002487956754, 0.9889199751204325]}, {'purchase_values': ['1', '0'], 'predicted_purchase': ['0'], 'purchase_probs': [0.01521311577272683, 0.9847868842272731]}, {'purchase_values': ['1', '0'], 'predicted_purchase': ['0'], 'purchase_probs': [0.01266068845041175, 0.9873393115495882]}, {'purchase_values': ['1', '0'], 'predicted_purchase': ['0'], 'purchase_probs': [0.01179294212159872, 0.9882070578784012]}, {'purchase_values': ['1', '0'], 'predicted_purchase': ['0'], 'purchase_probs': [0.0085460402130928, 0.9914539597869072]}, {'purchase_values': ['1', '0'], 'predicted_purchase': ['0'], 'purchase_probs': [0.01232089283765865, 0.9876791071623413]}, {'purchase_values': ['1', '0'], 'predicted_purchase': ['0'], 'purchase_probs': [0.006697067146536452, 0.9933029328534635]}, {'purchase_values': ['1', '0'], 'predicted_purchase': ['0'], 'purchase_probs': [0.01431211323371048, 0.9856878867662895]}, {'purchase_values': ['1', '0'], 'predicted_purchase': ['0'], 'purchase_probs': [0.01127490875949957, 0.9887250912405005]}, {'purchase_values': ['1', '0'], 'predicted_purchase': ['0'], 'purchase_probs': [0.005413327543032718, 0.9945866724569673]}, {'purchase_values': ['1', '0'], 'predicted_purchase': ['0'], 'purchase_probs': [0.009604158201781773, 0.9903958417982183]}, {'purchase_values': ['1', '0'], 'predicted_purchase': ['0'], 'purchase_probs': [0.004983069310094628, 0.9950169306899054]}, {'purchase_values': ['1', '0'], 'predicted_purchase': ['0'], 'purchase_probs': [0.01131784804166856, 0.9886821519583314]}, {'purchase_values': ['1', '0'], 'predicted_purchase': ['0'], 'purchase_probs': [0.01282206838662069, 0.9871779316133793]}, {'purchase_values': ['1', '0'], 'predicted_purchase': ['0'], 'purchase_probs': [0.008535554669825309, 0.9914644453301746]}, {'purchase_values': ['1', '0'], 'predicted_purchase': ['0'], 'purchase_probs': [0.007645004431959262, 0.9923549955680407]}, {'purchase_values': ['1', '0'], 'predicted_purchase': ['0'], 'purchase_probs': [0.01170647452300551, 0.9882935254769944]}, {'purchase_values': ['1', '0'], 'predicted_purchase': ['0'], 'purchase_probs': [0.01170651768967033, 0.9882934823103297]}, {'purchase_values': ['1', '0'], 'predicted_purchase': ['0'], 'purchase_probs': [0.01391647536874047, 0.9860835246312595]}, {'purchase_values': ['1', '0'], 'predicted_purchase': ['0'], 'purchase_probs': [0.008048168256610363, 0.9919518317433896]}, {'purchase_values': ['1', '0'], 'predicted_purchase': ['0'], 'purchase_probs': [0.01231823304165561, 0.9876817669583444]}, {'purchase_values': ['1', '0'], 'predicted_purchase': ['0'], 'purchase_probs': [0.01375632504496266, 0.9862436749550373]}, {'purchase_values': ['1', '0'], 'predicted_purchase': ['0'], 'purchase_probs': [0.01476845198330244, 0.9852315480166975]}, {'purchase_values': ['1', '0'], 'predicted_purchase': ['0'], 'purchase_probs': [0.01137304048659549, 0.9886269595134045]}, {'purchase_values': ['1', '0'], 'predicted_purchase': ['0'], 'purchase_probs': [0.01098459262447945, 0.9890154073755205]}, {'purchase_values': ['1', '0'], 'predicted_purchase': ['0'], 'purchase_probs': [0.01504872877726542, 0.9849512712227346]}, {'purchase_values': ['1', '0'], 'predicted_purchase': ['0'], 'purchase_probs': [0.004921938722657858, 0.9950780612773421]}, {'purchase_values': ['1', '0'], 'predicted_purchase': ['0'], 'purchase_probs': [0.01193006371630637, 0.9880699362836937]}, {'purchase_values': ['1', '0'], 'predicted_purchase': ['0'], 'purchase_probs': [0.01343637601349622, 0.9865636239865038]}, {'purchase_values': ['1', '0'], 'predicted_purchase': ['0'], 'purchase_probs': [0.0115562366896991, 0.9884437633103009]}, {'purchase_values': ['1', '0'], 'predicted_purchase': ['0'], 'purchase_probs': [0.01737219840203105, 0.9826278015979689]}, {'purchase_values': ['1', '0'], 'predicted_purchase': ['0'], 'purchase_probs': [0.0068298569287969, 0.9931701430712031]}, {'purchase_values': ['1', '0'], 'predicted_purchase': ['0'], 'purchase_probs': [0.004877397126325918, 0.995122602873674]}, {'purchase_values': ['1', '0'], 'predicted_purchase': ['0'], 'purchase_probs': [0.00854203953210915, 0.9914579604678908]}, {'purchase_values': ['1', '0'], 'predicted_purchase': ['0'], 'purchase_probs': [0.01214870573450356, 0.9878512942654964]}, {'purchase_values': ['1', '0'], 'predicted_purchase': ['0'], 'purchase_probs': [0.0118357181317827, 0.9881642818682173]}, {'purchase_values': ['1', '0'], 'predicted_purchase': ['0'], 'purchase_probs': [0.005790524460061843, 0.9942094755399381]}, {'purchase_values': ['1', '0'], 'predicted_purchase': ['0'], 'purchase_probs': [0.008093319514283355, 0.9919066804857166]}, {'purchase_values': ['1', '0'], 'predicted_purchase': ['0'], 'purchase_probs': [0.00482202422307178, 0.9951779757769282]}, {'purchase_values': ['1', '0'], 'predicted_purchase': ['0'], 'purchase_probs': [0.01581510486029443, 0.9841848951397055]}, {'purchase_values': ['1', '0'], 'predicted_purchase': ['0'], 'purchase_probs': [0.1214125100916537, 0.8785874899083463]}, {'purchase_values': ['1', '0'], 'predicted_purchase': ['0'], 'purchase_probs': [0.01462669677367059, 0.9853733032263294]}, {'purchase_values': ['1', '0'], 'predicted_purchase': ['0'], 'purchase_probs': [0.008133737058631444, 0.9918662629413686]}, {'purchase_values': ['1', '0'], 'predicted_purchase': ['0'], 'purchase_probs': [0.01322140188648355, 0.9867785981135164]}, {'purchase_values': ['1', '0'], 'predicted_purchase': ['0'], 'purchase_probs': [0.008044814060135509, 0.9919551859398645]}, {'purchase_values': ['1', '0'], 'predicted_purchase': ['0'], 'purchase_probs': [0.01303885127794666, 0.9869611487220533]}, {'purchase_values': ['1', '0'], 'predicted_purchase': ['0'], 'purchase_probs': [0.01306132495468179, 0.9869386750453182]}, {'purchase_values': ['1', '0'], 'predicted_purchase': ['0'], 'purchase_probs': [0.01190292377419463, 0.9880970762258053]}, {'purchase_values': ['1', '0'], 'predicted_purchase': ['0'], 'purchase_probs': [0.01022988338449108, 0.989770116615509]}, {'purchase_values': ['1', '0'], 'predicted_purchase': ['0'], 'purchase_probs': [0.007516375351246662, 0.9924836246487534]}, {'purchase_values': ['1', '0'], 'predicted_purchase': ['0'], 'purchase_probs': [0.00890994305836691, 0.9910900569416331]}, {'purchase_values': ['1', '0'], 'predicted_purchase': ['0'], 'purchase_probs': [0.004919084484833198, 0.9950809155151668]}, {'purchase_values': ['1', '0'], 'predicted_purchase': ['0'], 'purchase_probs': [0.01220025395281841, 0.9877997460471816]}, {'purchase_values': ['1', '0'], 'predicted_purchase': ['0'], 'purchase_probs': [0.01342138419767836, 0.9865786158023216]}, {'purchase_values': ['1', '0'], 'predicted_purchase': ['0'], 'purchase_probs': [0.01270929219543747, 0.9872907078045625]}, {'purchase_values': ['1', '0'], 'predicted_purchase': ['0'], 'purchase_probs': [0.01196250925062709, 0.9880374907493729]}, {'purchase_values': ['1', '0'], 'predicted_purchase': ['0'], 'purchase_probs': [0.01413395549649523, 0.9858660445035048]}, {'purchase_values': ['1', '0'], 'predicted_purchase': ['0'], 'purchase_probs': [0.01291617469100206, 0.987083825308998]}, {'purchase_values': ['1', '0'], 'predicted_purchase': ['0'], 'purchase_probs': [0.01209619100609203, 0.987903808993908]}, {'purchase_values': ['1', '0'], 'predicted_purchase': ['0'], 'purchase_probs': [0.01116380268093226, 0.9888361973190677]}, {'purchase_values': ['1', '0'], 'predicted_purchase': ['0'], 'purchase_probs': [0.01738037917883006, 0.9826196208211699]}, {'purchase_values': ['1', '0'], 'predicted_purchase': ['0'], 'purchase_probs': [0.01099744068129071, 0.9890025593187093]}, {'purchase_values': ['1', '0'], 'predicted_purchase': ['0'], 'purchase_probs': [0.01312630745663451, 0.9868736925433654]}, {'purchase_values': ['1', '0'], 'predicted_purchase': ['0'], 'purchase_probs': [0.01224250321545404, 0.9877574967845459]}, {'purchase_values': ['1', '0'], 'predicted_purchase': ['0'], 'purchase_probs': [0.004884977755231642, 0.9951150222447683]}, {'purchase_values': ['1', '0'], 'predicted_purchase': ['0'], 'purchase_probs': [0.004842416280135363, 0.9951575837198646]}, {'purchase_values': ['1', '0'], 'predicted_purchase': ['0'], 'purchase_probs': [0.00809356256457698, 0.9919064374354231]}, {'purchase_values': ['1', '0'], 'predicted_purchase': ['0'], 'purchase_probs': [0.01230528084289113, 0.9876947191571088]}, {'purchase_values': ['1', '0'], 'predicted_purchase': ['0'], 'purchase_probs': [0.01192748047715926, 0.9880725195228407]}, {'purchase_values': ['1', '0'], 'predicted_purchase': ['0'], 'purchase_probs': [0.008897552940087561, 0.9911024470599125]}, {'purchase_values': ['1', '0'], 'predicted_purchase': ['0'], 'purchase_probs': [0.01121452511635838, 0.9887854748836417]}, {'purchase_values': ['1', '0'], 'predicted_purchase': ['0'], 'purchase_probs': [0.01325361174941324, 0.9867463882505868]}, {'purchase_values': ['1', '0'], 'predicted_purchase': ['0'], 'purchase_probs': [0.01242412658908821, 0.9875758734109118]}, {'purchase_values': ['1', '0'], 'predicted_purchase': ['0'], 'purchase_probs': [0.01199032380011624, 0.9880096761998838]}, {'purchase_values': ['1', '0'], 'predicted_purchase': ['0'], 'purchase_probs': [0.01159519617285584, 0.9884048038271441]}, {'purchase_values': ['1', '0'], 'predicted_purchase': ['0'], 'purchase_probs': [0.008716193436926284, 0.9912838065630737]}, {'purchase_values': ['1', '0'], 'predicted_purchase': ['0'], 'purchase_probs': [0.00872262051037114, 0.9912773794896289]}, {'purchase_values': ['1', '0'], 'predicted_purchase': ['0'], 'purchase_probs': [0.01389562622347651, 0.9861043737765235]}, {'purchase_values': ['1', '0'], 'predicted_purchase': ['0'], 'purchase_probs': [0.00891319959044614, 0.9910868004095539]}, {'purchase_values': ['1', '0'], 'predicted_purchase': ['0'], 'purchase_probs': [0.01196791994180335, 0.9880320800581966]}, {'purchase_values': ['1', '0'], 'predicted_purchase': ['0'], 'purchase_probs': [0.01231291910375561, 0.9876870808962444]}, {'purchase_values': ['1', '0'], 'predicted_purchase': ['0'], 'purchase_probs': [0.01266780605029572, 0.9873321939497043]}, {'purchase_values': ['1', '0'], 'predicted_purchase': ['0'], 'purchase_probs': [0.03924302851323581, 0.9607569714867642]}, {'purchase_values': ['1', '0'], 'predicted_purchase': ['0'], 'purchase_probs': [0.004026652930043916, 0.9959733470699561]}, {'purchase_values': ['1', '0'], 'predicted_purchase': ['0'], 'purchase_probs': [0.009407627197914077, 0.9905923728020859]}, {'purchase_values': ['1', '0'], 'predicted_purchase': ['0'], 'purchase_probs': [0.0139320601922536, 0.9860679398077464]}, {'purchase_values': ['1', '0'], 'predicted_purchase': ['0'], 'purchase_probs': [0.004923526448426472, 0.9950764735515736]}, {'purchase_values': ['1', '0'], 'predicted_purchase': ['0'], 'purchase_probs': [0.005051189932856802, 0.9949488100671432]}, {'purchase_values': ['1', '0'], 'predicted_purchase': ['0'], 'purchase_probs': [0.005843621733239632, 0.9941563782667604]}, {'purchase_values': ['1', '0'], 'predicted_purchase': ['0'], 'purchase_probs': [0.01285767534302049, 0.9871423246569795]}, {'purchase_values': ['1', '0'], 'predicted_purchase': ['0'], 'purchase_probs': [0.01211335732781093, 0.9878866426721891]}, {'purchase_values': ['1', '0'], 'predicted_purchase': ['0'], 'purchase_probs': [0.01182264746332682, 0.9881773525366732]}, {'purchase_values': ['1', '0'], 'predicted_purchase': ['0'], 'purchase_probs': [0.01376025680045724, 0.9862397431995428]}, {'purchase_values': ['1', '0'], 'predicted_purchase': ['0'], 'purchase_probs': [0.01303462520978439, 0.9869653747902156]}, {'purchase_values': ['1', '0'], 'predicted_purchase': ['0'], 'purchase_probs': [0.005076399240763179, 0.9949236007592368]}, {'purchase_values': ['1', '0'], 'predicted_purchase': ['0'], 'purchase_probs': [0.01060033043173574, 0.9893996695682643]}, {'purchase_values': ['1', '0'], 'predicted_purchase': ['0'], 'purchase_probs': [0.01278654708164949, 0.9872134529183505]}, {'purchase_values': ['1', '0'], 'predicted_purchase': ['0'], 'purchase_probs': [0.006695378960440225, 0.9933046210395597]}, {'purchase_values': ['1', '0'], 'predicted_purchase': ['0'], 'purchase_probs': [0.01098849481802401, 0.989011505181976]}, {'purchase_values': ['1', '0'], 'predicted_purchase': ['0'], 'purchase_probs': [0.005838333934268992, 0.994161666065731]}, {'purchase_values': ['1', '0'], 'predicted_purchase': ['0'], 'purchase_probs': [0.01151089522214475, 0.9884891047778552]}, {'purchase_values': ['1', '0'], 'predicted_purchase': ['0'], 'purchase_probs': [0.007481054820529225, 0.9925189451794708]}, {'purchase_values': ['1', '0'], 'predicted_purchase': ['0'], 'purchase_probs': [0.01189336379317915, 0.9881066362068208]}, {'purchase_values': ['1', '0'], 'predicted_purchase': ['0'], 'purchase_probs': [0.01344958603054971, 0.9865504139694503]}, {'purchase_values': ['1', '0'], 'predicted_purchase': ['0'], 'purchase_probs': [0.01181158538171531, 0.9881884146182847]}, {'purchase_values': ['1', '0'], 'predicted_purchase': ['0'], 'purchase_probs': [0.005628756959813845, 0.9943712430401862]}, {'purchase_values': ['1', '0'], 'predicted_purchase': ['0'], 'purchase_probs': [0.01227443701572004, 0.9877255629842799]}, {'purchase_values': ['1', '0'], 'predicted_purchase': ['0'], 'purchase_probs': [0.004950709657276882, 0.9950492903427232]}, {'purchase_values': ['1', '0'], 'predicted_purchase': ['0'], 'purchase_probs': [0.007168656677874647, 0.9928313433221253]}, {'purchase_values': ['1', '0'], 'predicted_purchase': ['0'], 'purchase_probs': [0.01379215512868704, 0.986207844871313]}, {'purchase_values': ['1', '0'], 'predicted_purchase': ['0'], 'purchase_probs': [0.01290707657579477, 0.9870929234242052]}, {'purchase_values': ['1', '0'], 'predicted_purchase': ['0'], 'purchase_probs': [0.01236930115092635, 0.9876306988490736]}, {'purchase_values': ['1', '0'], 'predicted_purchase': ['0'], 'purchase_probs': [0.01106283316148485, 0.9889371668385152]}, {'purchase_values': ['1', '0'], 'predicted_purchase': ['0'], 'purchase_probs': [0.01087553419820699, 0.989124465801793]}, {'purchase_values': ['1', '0'], 'predicted_purchase': ['0'], 'purchase_probs': [0.01224392051208217, 0.9877560794879179]}, {'purchase_values': ['1', '0'], 'predicted_purchase': ['0'], 'purchase_probs': [0.009062625484061637, 0.9909373745159383]}, {'purchase_values': ['1', '0'], 'predicted_purchase': ['0'], 'purchase_probs': [0.0123569014985741, 0.987643098501426]}, {'purchase_values': ['1', '0'], 'predicted_purchase': ['0'], 'purchase_probs': [0.01276320550325991, 0.9872367944967401]}, {'purchase_values': ['1', '0'], 'predicted_purchase': ['0'], 'purchase_probs': [0.009429571397601462, 0.9905704286023985]}, {'purchase_values': ['1', '0'], 'predicted_purchase': ['0'], 'purchase_probs': [0.0136626553740676, 0.9863373446259324]}, {'purchase_values': ['1', '0'], 'predicted_purchase': ['0'], 'purchase_probs': [0.01246453374195868, 0.9875354662580413]}, {'purchase_values': ['1', '0'], 'predicted_purchase': ['0'], 'purchase_probs': [0.0114337662685214, 0.9885662337314786]}, {'purchase_values': ['1', '0'], 'predicted_purchase': ['0'], 'purchase_probs': [0.004746768536446271, 0.9952532314635537]}, {'purchase_values': ['1', '0'], 'predicted_purchase': ['0'], 'purchase_probs': [0.009797706233725027, 0.990202293766275]}, {'purchase_values': ['1', '0'], 'predicted_purchase': ['0'], 'purchase_probs': [0.01182604606072187, 0.9881739539392781]}, {'purchase_values': ['1', '0'], 'predicted_purchase': ['0'], 'purchase_probs': [0.007332532314340314, 0.9926674676856597]}, {'purchase_values': ['1', '0'], 'predicted_purchase': ['0'], 'purchase_probs': [0.005055343224960905, 0.9949446567750391]}, {'purchase_values': ['1', '0'], 'predicted_purchase': ['0'], 'purchase_probs': [0.005026745729347444, 0.9949732542706525]}, {'purchase_values': ['1', '0'], 'predicted_purchase': ['0'], 'purchase_probs': [0.005418500812460283, 0.9945814991875397]}, {'purchase_values': ['1', '0'], 'predicted_purchase': ['0'], 'purchase_probs': [0.008373479665731662, 0.9916265203342683]}, {'purchase_values': ['1', '0'], 'predicted_purchase': ['0'], 'purchase_probs': [0.01087264386025017, 0.9891273561397498]}, {'purchase_values': ['1', '0'], 'predicted_purchase': ['0'], 'purchase_probs': [0.01188693790702473, 0.9881130620929752]}, {'purchase_values': ['1', '0'], 'predicted_purchase': ['0'], 'purchase_probs': [0.005155386753223952, 0.9948446132467761]}, {'purchase_values': ['1', '0'], 'predicted_purchase': ['0'], 'purchase_probs': [0.005491288955370635, 0.9945087110446293]}, {'purchase_values': ['1', '0'], 'predicted_purchase': ['0'], 'purchase_probs': [0.01223594755611002, 0.98776405244389]}, {'purchase_values': ['1', '0'], 'predicted_purchase': ['0'], 'purchase_probs': [0.01254890135192475, 0.9874510986480752]}, {'purchase_values': ['1', '0'], 'predicted_purchase': ['0'], 'purchase_probs': [0.00792838741757185, 0.9920716125824282]}, {'purchase_values': ['1', '0'], 'predicted_purchase': ['0'], 'purchase_probs': [0.01093946480128234, 0.9890605351987176]}, {'purchase_values': ['1', '0'], 'predicted_purchase': ['0'], 'purchase_probs': [0.01181012902779018, 0.9881898709722098]}, {'purchase_values': ['1', '0'], 'predicted_purchase': ['0'], 'purchase_probs': [0.01061402403981892, 0.9893859759601811]}, {'purchase_values': ['1', '0'], 'predicted_purchase': ['0'], 'purchase_probs': [0.01134657222741029, 0.9886534277725897]}, {'purchase_values': ['1', '0'], 'predicted_purchase': ['0'], 'purchase_probs': [0.01283200306589932, 0.9871679969341007]}, {'purchase_values': ['1', '0'], 'predicted_purchase': ['0'], 'purchase_probs': [0.01564350347093005, 0.98435649652907]}, {'purchase_values': ['1', '0'], 'predicted_purchase': ['0'], 'purchase_probs': [0.01156082532691161, 0.9884391746730884]}, {'purchase_values': ['1', '0'], 'predicted_purchase': ['0'], 'purchase_probs': [0.01125717621764203, 0.988742823782358]}, {'purchase_values': ['1', '0'], 'predicted_purchase': ['0'], 'purchase_probs': [0.01376908694628131, 0.9862309130537187]}, {'purchase_values': ['1', '0'], 'predicted_purchase': ['0'], 'purchase_probs': [0.007774598054438597, 0.9922254019455614]}, {'purchase_values': ['1', '0'], 'predicted_purchase': ['0'], 'purchase_probs': [0.01178604164887609, 0.9882139583511239]}, {'purchase_values': ['1', '0'], 'predicted_purchase': ['0'], 'purchase_probs': [0.008123381721439931, 0.9918766182785601]}, {'purchase_values': ['1', '0'], 'predicted_purchase': ['0'], 'purchase_probs': [0.01276625916835396, 0.9872337408316461]}, {'purchase_values': ['1', '0'], 'predicted_purchase': ['0'], 'purchase_probs': [0.01144201130006752, 0.9885579886999325]}, {'purchase_values': ['1', '0'], 'predicted_purchase': ['1'], 'purchase_probs': [0.6533983419709236, 0.3466016580290764]}, {'purchase_values': ['1', '0'], 'predicted_purchase': ['0'], 'purchase_probs': [0.01351935388640938, 0.9864806461135907]}, {'purchase_values': ['1', '0'], 'predicted_purchase': ['0'], 'purchase_probs': [0.01217833062893174, 0.9878216693710683]}, {'purchase_values': ['1', '0'], 'predicted_purchase': ['0'], 'purchase_probs': [0.006156509391975538, 0.9938434906080245]}, {'purchase_values': ['1', '0'], 'predicted_purchase': ['0'], 'purchase_probs': [0.00777992631431059, 0.9922200736856894]}, {'purchase_values': ['1', '0'], 'predicted_purchase': ['0'], 'purchase_probs': [0.01313771666596564, 0.9868622833340344]}, {'purchase_values': ['1', '0'], 'predicted_purchase': ['0'], 'purchase_probs': [0.01346700239595664, 0.9865329976040433]}, {'purchase_values': ['1', '0'], 'predicted_purchase': ['0'], 'purchase_probs': [0.01325127747644608, 0.986748722523554]}, {'purchase_values': ['1', '0'], 'predicted_purchase': ['0'], 'purchase_probs': [0.004578371645407244, 0.9954216283545928]}, {'purchase_values': ['1', '0'], 'predicted_purchase': ['0'], 'purchase_probs': [0.01436178747689529, 0.9856382125231047]}, {'purchase_values': ['1', '0'], 'predicted_purchase': ['0'], 'purchase_probs': [0.008571949685312236, 0.9914280503146877]}, {'purchase_values': ['1', '0'], 'predicted_purchase': ['0'], 'purchase_probs': [0.001138244795264528, 0.9988617552047355]}, {'purchase_values': ['1', '0'], 'predicted_purchase': ['0'], 'purchase_probs': [0.004783862870071214, 0.9952161371299287]}, {'purchase_values': ['1', '0'], 'predicted_purchase': ['0'], 'purchase_probs': [0.01065255388644687, 0.9893474461135532]}, {'purchase_values': ['1', '0'], 'predicted_purchase': ['0'], 'purchase_probs': [0.00500590714922478, 0.9949940928507752]}, {'purchase_values': ['1', '0'], 'predicted_purchase': ['0'], 'purchase_probs': [0.01214210739494209, 0.987857892605058]}, {'purchase_values': ['1', '0'], 'predicted_purchase': ['0'], 'purchase_probs': [0.01282584495589825, 0.9871741550441018]}, {'purchase_values': ['1', '0'], 'predicted_purchase': ['0'], 'purchase_probs': [0.01270591724404157, 0.9872940827559584]}, {'purchase_values': ['1', '0'], 'predicted_purchase': ['0'], 'purchase_probs': [0.01498517981825332, 0.9850148201817467]}, {'purchase_values': ['1', '0'], 'predicted_purchase': ['0'], 'purchase_probs': [0.01205423618623647, 0.9879457638137635]}, {'purchase_values': ['1', '0'], 'predicted_purchase': ['0'], 'purchase_probs': [0.005201355124861857, 0.9947986448751381]}, {'purchase_values': ['1', '0'], 'predicted_purchase': ['0'], 'purchase_probs': [0.01217919827079815, 0.9878208017292018]}, {'purchase_values': ['1', '0'], 'predicted_purchase': ['0'], 'purchase_probs': [0.1840975226401063, 0.8159024773598937]}, {'purchase_values': ['1', '0'], 'predicted_purchase': ['0'], 'purchase_probs': [0.01345907214594104, 0.986540927854059]}, {'purchase_values': ['1', '0'], 'predicted_purchase': ['0'], 'purchase_probs': [0.01172167087052958, 0.9882783291294704]}, {'purchase_values': ['1', '0'], 'predicted_purchase': ['0'], 'purchase_probs': [0.01309361311292507, 0.9869063868870749]}, {'purchase_values': ['1', '0'], 'predicted_purchase': ['0'], 'purchase_probs': [0.01876216315027553, 0.9812378368497244]}, {'purchase_values': ['1', '0'], 'predicted_purchase': ['0'], 'purchase_probs': [0.01256799638988305, 0.987432003610117]}, {'purchase_values': ['1', '0'], 'predicted_purchase': ['0'], 'purchase_probs': [0.01377368124078212, 0.9862263187592178]}, {'purchase_values': ['1', '0'], 'predicted_purchase': ['0'], 'purchase_probs': [0.01399825154380331, 0.9860017484561967]}, {'purchase_values': ['1', '0'], 'predicted_purchase': ['0'], 'purchase_probs': [0.0131924077119546, 0.9868075922880454]}, {'purchase_values': ['1', '0'], 'predicted_purchase': ['0'], 'purchase_probs': [0.01292031043052654, 0.9870796895694735]}, {'purchase_values': ['1', '0'], 'predicted_purchase': ['0'], 'purchase_probs': [0.01602235962843552, 0.9839776403715644]}, {'purchase_values': ['1', '0'], 'predicted_purchase': ['0'], 'purchase_probs': [0.01215259036601699, 0.987847409633983]}, {'purchase_values': ['1', '0'], 'predicted_purchase': ['0'], 'purchase_probs': [0.01077895568867667, 0.9892210443113233]}, {'purchase_values': ['1', '0'], 'predicted_purchase': ['0'], 'purchase_probs': [0.01327908944635867, 0.9867209105536413]}, {'purchase_values': ['1', '0'], 'predicted_purchase': ['0'], 'purchase_probs': [0.005155611721582188, 0.9948443882784178]}, {'purchase_values': ['1', '0'], 'predicted_purchase': ['0'], 'purchase_probs': [0.01358831236240314, 0.9864116876375969]}, {'purchase_values': ['1', '0'], 'predicted_purchase': ['0'], 'purchase_probs': [0.01371169352062104, 0.9862883064793789]}, {'purchase_values': ['1', '0'], 'predicted_purchase': ['0'], 'purchase_probs': [0.01246730703827124, 0.9875326929617287]}, {'purchase_values': ['1', '0'], 'predicted_purchase': ['0'], 'purchase_probs': [0.01348302539403961, 0.9865169746059604]}, {'purchase_values': ['1', '0'], 'predicted_purchase': ['0'], 'purchase_probs': [0.1274989359659176, 0.8725010640340825]}, {'purchase_values': ['1', '0'], 'predicted_purchase': ['0'], 'purchase_probs': [0.00944121915087593, 0.9905587808491241]}, {'purchase_values': ['1', '0'], 'predicted_purchase': ['0'], 'purchase_probs': [0.004628257179128808, 0.9953717428208712]}, {'purchase_values': ['1', '0'], 'predicted_purchase': ['0'], 'purchase_probs': [0.06474611578894011, 0.9352538842110599]}, {'purchase_values': ['1', '0'], 'predicted_purchase': ['0'], 'purchase_probs': [0.01427304486899566, 0.9857269551310044]}, {'purchase_values': ['1', '0'], 'predicted_purchase': ['0'], 'purchase_probs': [0.01215480739752203, 0.9878451926024779]}, {'purchase_values': ['1', '0'], 'predicted_purchase': ['0'], 'purchase_probs': [0.01294126159688982, 0.9870587384031102]}, {'purchase_values': ['1', '0'], 'predicted_purchase': ['0'], 'purchase_probs': [0.00877548489605911, 0.9912245151039409]}, {'purchase_values': ['1', '0'], 'predicted_purchase': ['0'], 'purchase_probs': [0.00863525690286743, 0.9913647430971325]}, {'purchase_values': ['1', '0'], 'predicted_purchase': ['0'], 'purchase_probs': [0.011681445700033, 0.988318554299967]}, {'purchase_values': ['1', '0'], 'predicted_purchase': ['0'], 'purchase_probs': [0.01180502441209475, 0.9881949755879053]}, {'purchase_values': ['1', '0'], 'predicted_purchase': ['0'], 'purchase_probs': [0.022809491128631, 0.977190508871369]}, {'purchase_values': ['1', '0'], 'predicted_purchase': ['0'], 'purchase_probs': [0.01128071234387335, 0.9887192876561266]}, {'purchase_values': ['1', '0'], 'predicted_purchase': ['0'], 'purchase_probs': [0.01220628089241193, 0.9877937191075881]}, {'purchase_values': ['1', '0'], 'predicted_purchase': ['0'], 'purchase_probs': [0.01305553228879304, 0.9869444677112069]}, {'purchase_values': ['1', '0'], 'predicted_purchase': ['0'], 'purchase_probs': [0.01118035840991671, 0.9888196415900833]}, {'purchase_values': ['1', '0'], 'predicted_purchase': ['0'], 'purchase_probs': [0.0138034343610831, 0.9861965656389169]}, {'purchase_values': ['1', '0'], 'predicted_purchase': ['0'], 'purchase_probs': [0.006752659197890628, 0.9932473408021094]}, {'purchase_values': ['1', '0'], 'predicted_purchase': ['0'], 'purchase_probs': [0.008256678510204491, 0.9917433214897955]}, {'purchase_values': ['1', '0'], 'predicted_purchase': ['0'], 'purchase_probs': [0.01209854733033364, 0.9879014526696663]}, {'purchase_values': ['1', '0'], 'predicted_purchase': ['0'], 'purchase_probs': [0.01484591972583573, 0.9851540802741643]}, {'purchase_values': ['1', '0'], 'predicted_purchase': ['0'], 'purchase_probs': [0.006117943925164951, 0.993882056074835]}, {'purchase_values': ['1', '0'], 'predicted_purchase': ['0'], 'purchase_probs': [0.01138482731962007, 0.9886151726803799]}, {'purchase_values': ['1', '0'], 'predicted_purchase': ['0'], 'purchase_probs': [0.005086512290051149, 0.9949134877099488]}, {'purchase_values': ['1', '0'], 'predicted_purchase': ['0'], 'purchase_probs': [0.01232917362863563, 0.9876708263713644]}, {'purchase_values': ['1', '0'], 'predicted_purchase': ['0'], 'purchase_probs': [0.01334637201253708, 0.9866536279874629]}, {'purchase_values': ['1', '0'], 'predicted_purchase': ['0'], 'purchase_probs': [0.01189014850752704, 0.988109851492473]}, {'purchase_values': ['1', '0'], 'predicted_purchase': ['0'], 'purchase_probs': [0.01147771505891761, 0.9885222849410824]}, {'purchase_values': ['1', '0'], 'predicted_purchase': ['0'], 'purchase_probs': [0.01257373714534231, 0.9874262628546577]}, {'purchase_values': ['1', '0'], 'predicted_purchase': ['0'], 'purchase_probs': [0.01252491915416539, 0.9874750808458346]}, {'purchase_values': ['1', '0'], 'predicted_purchase': ['0'], 'purchase_probs': [0.01112461556711984, 0.9888753844328801]}, {'purchase_values': ['1', '0'], 'predicted_purchase': ['0'], 'purchase_probs': [0.01210145203289544, 0.9878985479671045]}, {'purchase_values': ['1', '0'], 'predicted_purchase': ['0'], 'purchase_probs': [0.01141080889876265, 0.9885891911012373]}, {'purchase_values': ['1', '0'], 'predicted_purchase': ['0'], 'purchase_probs': [0.005500597804829982, 0.99449940219517]}, {'purchase_values': ['1', '0'], 'predicted_purchase': ['0'], 'purchase_probs': [0.008374142171102519, 0.9916258578288975]}, {'purchase_values': ['1', '0'], 'predicted_purchase': ['0'], 'purchase_probs': [0.01486103140154601, 0.985138968598454]}, {'purchase_values': ['1', '0'], 'predicted_purchase': ['0'], 'purchase_probs': [0.01456883598798963, 0.9854311640120104]}, {'purchase_values': ['1', '0'], 'predicted_purchase': ['0'], 'purchase_probs': [0.01175105081661452, 0.9882489491833855]}, {'purchase_values': ['1', '0'], 'predicted_purchase': ['0'], 'purchase_probs': [0.0135070406823416, 0.9864929593176583]}, {'purchase_values': ['1', '0'], 'predicted_purchase': ['0'], 'purchase_probs': [0.01257881356452219, 0.9874211864354778]}, {'purchase_values': ['1', '0'], 'predicted_purchase': ['0'], 'purchase_probs': [0.008428927009355458, 0.9915710729906445]}, {'purchase_values': ['1', '0'], 'predicted_purchase': ['0'], 'purchase_probs': [0.01270875188599336, 0.9872912481140066]}, {'purchase_values': ['1', '0'], 'predicted_purchase': ['0'], 'purchase_probs': [0.01285390931746196, 0.987146090682538]}, {'purchase_values': ['1', '0'], 'predicted_purchase': ['0'], 'purchase_probs': [0.01086686916934796, 0.989133130830652]}, {'purchase_values': ['1', '0'], 'predicted_purchase': ['0'], 'purchase_probs': [0.011185401174649, 0.988814598825351]}, {'purchase_values': ['1', '0'], 'predicted_purchase': ['0'], 'purchase_probs': [0.004710310246836154, 0.9952896897531639]}, {'purchase_values': ['1', '0'], 'predicted_purchase': ['0'], 'purchase_probs': [0.01332582475825079, 0.9866741752417492]}, {'purchase_values': ['1', '0'], 'predicted_purchase': ['0'], 'purchase_probs': [0.01395937127460777, 0.9860406287253922]}, {'purchase_values': ['1', '0'], 'predicted_purchase': ['0'], 'purchase_probs': [0.01124716568074816, 0.9887528343192519]}, {'purchase_values': ['1', '0'], 'predicted_purchase': ['0'], 'purchase_probs': [0.004748476604244577, 0.9952515233957554]}, {'purchase_values': ['1', '0'], 'predicted_purchase': ['0'], 'purchase_probs': [0.007167745346992061, 0.992832254653008]}, {'purchase_values': ['1', '0'], 'predicted_purchase': ['0'], 'purchase_probs': [0.01205833766141101, 0.987941662338589]}, {'purchase_values': ['1', '0'], 'predicted_purchase': ['0'], 'purchase_probs': [0.005402752940550107, 0.9945972470594499]}, {'purchase_values': ['1', '0'], 'predicted_purchase': ['0'], 'purchase_probs': [0.006270291585805818, 0.9937297084141942]}, {'purchase_values': ['1', '0'], 'predicted_purchase': ['0'], 'purchase_probs': [0.01275848051264734, 0.9872415194873526]}, {'purchase_values': ['1', '0'], 'predicted_purchase': ['0'], 'purchase_probs': [0.01373478135818428, 0.9862652186418157]}, {'purchase_values': ['1', '0'], 'predicted_purchase': ['0'], 'purchase_probs': [0.013223100371444, 0.986776899628556]}, {'purchase_values': ['1', '0'], 'predicted_purchase': ['0'], 'purchase_probs': [0.01199309049938506, 0.988006909500615]}, {'purchase_values': ['1', '0'], 'predicted_purchase': ['0'], 'purchase_probs': [0.01186412867959601, 0.988135871320404]}, {'purchase_values': ['1', '0'], 'predicted_purchase': ['0'], 'purchase_probs': [0.01392706467885285, 0.9860729353211471]}, {'purchase_values': ['1', '0'], 'predicted_purchase': ['0'], 'purchase_probs': [0.01293230439926359, 0.9870676956007364]}, {'purchase_values': ['1', '0'], 'predicted_purchase': ['0'], 'purchase_probs': [0.01493840125477073, 0.9850615987452292]}, {'purchase_values': ['1', '0'], 'predicted_purchase': ['0'], 'purchase_probs': [0.01388596704023409, 0.986114032959766]}, {'purchase_values': ['1', '0'], 'predicted_purchase': ['0'], 'purchase_probs': [0.01362964682280018, 0.9863703531771998]}, {'purchase_values': ['1', '0'], 'predicted_purchase': ['0'], 'purchase_probs': [0.01416638959072699, 0.985833610409273]}, {'purchase_values': ['1', '0'], 'predicted_purchase': ['0'], 'purchase_probs': [0.007100369155994799, 0.9928996308440052]}, {'purchase_values': ['1', '0'], 'predicted_purchase': ['0'], 'purchase_probs': [0.01335715988851198, 0.9866428401114881]}, {'purchase_values': ['1', '0'], 'predicted_purchase': ['0'], 'purchase_probs': [0.01161012292403136, 0.9883898770759686]}, {'purchase_values': ['1', '0'], 'predicted_purchase': ['0'], 'purchase_probs': [0.004627674210535187, 0.9953723257894648]}, {'purchase_values': ['1', '0'], 'predicted_purchase': ['0'], 'purchase_probs': [0.01277199751650581, 0.9872280024834942]}, {'purchase_values': ['1', '0'], 'predicted_purchase': ['0'], 'purchase_probs': [0.01095764749242522, 0.9890423525075748]}, {'purchase_values': ['1', '0'], 'predicted_purchase': ['0'], 'purchase_probs': [0.01226430089053227, 0.9877356991094677]}, {'purchase_values': ['1', '0'], 'predicted_purchase': ['0'], 'purchase_probs': [0.01370592526496017, 0.9862940747350398]}, {'purchase_values': ['1', '0'], 'predicted_purchase': ['0'], 'purchase_probs': [0.01259819557493068, 0.9874018044250693]}, {'purchase_values': ['1', '0'], 'predicted_purchase': ['0'], 'purchase_probs': [0.01359829184092138, 0.9864017081590786]}, {'purchase_values': ['1', '0'], 'predicted_purchase': ['0'], 'purchase_probs': [0.008105024552712833, 0.9918949754472872]}, {'purchase_values': ['1', '0'], 'predicted_purchase': ['0'], 'purchase_probs': [0.01458491582776991, 0.9854150841722301]}, {'purchase_values': ['1', '0'], 'predicted_purchase': ['0'], 'purchase_probs': [0.01228830237344944, 0.9877116976265505]}, {'purchase_values': ['1', '0'], 'predicted_purchase': ['0'], 'purchase_probs': [0.007875228727297727, 0.9921247712727023]}, {'purchase_values': ['1', '0'], 'predicted_purchase': ['0'], 'purchase_probs': [0.01281588990739389, 0.9871841100926061]}, {'purchase_values': ['1', '0'], 'predicted_purchase': ['0'], 'purchase_probs': [0.0083985358703273, 0.9916014641296726]}, {'purchase_values': ['1', '0'], 'predicted_purchase': ['0'], 'purchase_probs': [0.005696361022143123, 0.9943036389778569]}, {'purchase_values': ['1', '0'], 'predicted_purchase': ['0'], 'purchase_probs': [0.004931891486281387, 0.9950681085137186]}, {'purchase_values': ['1', '0'], 'predicted_purchase': ['0'], 'purchase_probs': [0.01188088111865629, 0.9881191188813437]}, {'purchase_values': ['1', '0'], 'predicted_purchase': ['0'], 'purchase_probs': [0.01172439833795094, 0.9882756016620491]}, {'purchase_values': ['1', '0'], 'predicted_purchase': ['0'], 'purchase_probs': [0.01187595934222887, 0.9881240406577712]}, {'purchase_values': ['1', '0'], 'predicted_purchase': ['0'], 'purchase_probs': [0.01251305445814127, 0.9874869455418587]}, {'purchase_values': ['1', '0'], 'predicted_purchase': ['0'], 'purchase_probs': [0.01183776342156374, 0.9881622365784363]}, {'purchase_values': ['1', '0'], 'predicted_purchase': ['0'], 'purchase_probs': [0.0116295641668339, 0.9883704358331661]}, {'purchase_values': ['1', '0'], 'predicted_purchase': ['0'], 'purchase_probs': [0.01196791091623422, 0.9880320890837658]}, {'purchase_values': ['1', '0'], 'predicted_purchase': ['0'], 'purchase_probs': [0.005132724287805578, 0.9948672757121945]}, {'purchase_values': ['1', '0'], 'predicted_purchase': ['0'], 'purchase_probs': [0.007829693858592383, 0.9921703061414077]}, {'purchase_values': ['1', '0'], 'predicted_purchase': ['0'], 'purchase_probs': [0.0137817908355358, 0.9862182091644642]}, {'purchase_values': ['1', '0'], 'predicted_purchase': ['0'], 'purchase_probs': [0.007424148333363209, 0.9925758516666368]}, {'purchase_values': ['1', '0'], 'predicted_purchase': ['0'], 'purchase_probs': [0.01224137895726931, 0.9877586210427307]}, {'purchase_values': ['1', '0'], 'predicted_purchase': ['0'], 'purchase_probs': [0.01434631504677587, 0.9856536849532241]}, {'purchase_values': ['1', '0'], 'predicted_purchase': ['0'], 'purchase_probs': [0.01289063629728267, 0.9871093637027173]}, {'purchase_values': ['1', '0'], 'predicted_purchase': ['0'], 'purchase_probs': [0.01400059974313092, 0.985999400256869]}, {'purchase_values': ['1', '0'], 'predicted_purchase': ['0'], 'purchase_probs': [0.018750716716578, 0.981249283283422]}, {'purchase_values': ['1', '0'], 'predicted_purchase': ['0'], 'purchase_probs': [0.008263005477070538, 0.9917369945229295]}, {'purchase_values': ['1', '0'], 'predicted_purchase': ['0'], 'purchase_probs': [0.01238646944130721, 0.9876135305586928]}, {'purchase_values': ['1', '0'], 'predicted_purchase': ['0'], 'purchase_probs': [0.01176642447820505, 0.9882335755217949]}, {'purchase_values': ['1', '0'], 'predicted_purchase': ['0'], 'purchase_probs': [0.01068110822782804, 0.9893188917721719]}, {'purchase_values': ['1', '0'], 'predicted_purchase': ['0'], 'purchase_probs': [0.01654081465274591, 0.9834591853472541]}, {'purchase_values': ['1', '0'], 'predicted_purchase': ['0'], 'purchase_probs': [0.01170859493688696, 0.9882914050631131]}, {'purchase_values': ['1', '0'], 'predicted_purchase': ['0'], 'purchase_probs': [0.00946036895387863, 0.9905396310461214]}, {'purchase_values': ['1', '0'], 'predicted_purchase': ['0'], 'purchase_probs': [0.007967672207736495, 0.9920323277922635]}, {'purchase_values': ['1', '0'], 'predicted_purchase': ['0'], 'purchase_probs': [0.004934719468137442, 0.9950652805318626]}, {'purchase_values': ['1', '0'], 'predicted_purchase': ['0'], 'purchase_probs': [0.007876086936457862, 0.9921239130635421]}, {'purchase_values': ['1', '0'], 'predicted_purchase': ['0'], 'purchase_probs': [0.01253626991059794, 0.987463730089402]}, {'purchase_values': ['1', '0'], 'predicted_purchase': ['0'], 'purchase_probs': [0.008194408809185436, 0.9918055911908146]}, {'purchase_values': ['1', '0'], 'predicted_purchase': ['0'], 'purchase_probs': [0.007063989141720296, 0.9929360108582796]}, {'purchase_values': ['1', '0'], 'predicted_purchase': ['0'], 'purchase_probs': [0.0115197990800797, 0.9884802009199203]}, {'purchase_values': ['1', '0'], 'predicted_purchase': ['0'], 'purchase_probs': [0.008857071481894291, 0.9911429285181057]}, {'purchase_values': ['1', '0'], 'predicted_purchase': ['0'], 'purchase_probs': [0.004974750117513476, 0.9950252498824865]}, {'purchase_values': ['1', '0'], 'predicted_purchase': ['0'], 'purchase_probs': [0.01422444246780924, 0.9857755575321907]}, {'purchase_values': ['1', '0'], 'predicted_purchase': ['0'], 'purchase_probs': [0.01214385575384873, 0.9878561442461513]}, {'purchase_values': ['1', '0'], 'predicted_purchase': ['0'], 'purchase_probs': [0.005462146550778714, 0.9945378534492213]}, {'purchase_values': ['1', '0'], 'predicted_purchase': ['0'], 'purchase_probs': [0.008421490556721579, 0.9915785094432784]}, {'purchase_values': ['1', '0'], 'predicted_purchase': ['0'], 'purchase_probs': [0.01372364657779162, 0.9862763534222084]}, {'purchase_values': ['1', '0'], 'predicted_purchase': ['0'], 'purchase_probs': [0.01295216872608576, 0.9870478312739143]}, {'purchase_values': ['1', '0'], 'predicted_purchase': ['0'], 'purchase_probs': [0.01267740674747908, 0.9873225932525209]}, {'purchase_values': ['1', '0'], 'predicted_purchase': ['0'], 'purchase_probs': [0.01203234194475768, 0.9879676580552423]}, {'purchase_values': ['1', '0'], 'predicted_purchase': ['0'], 'purchase_probs': [0.01315713032485597, 0.986842869675144]}, {'purchase_values': ['1', '0'], 'predicted_purchase': ['0'], 'purchase_probs': [0.01164115970380427, 0.9883588402961957]}, {'purchase_values': ['1', '0'], 'predicted_purchase': ['0'], 'purchase_probs': [0.009192113499836842, 0.9908078865001632]}, {'purchase_values': ['1', '0'], 'predicted_purchase': ['0'], 'purchase_probs': [0.01568946296388767, 0.9843105370361124]}, {'purchase_values': ['1', '0'], 'predicted_purchase': ['0'], 'purchase_probs': [0.0138366176258811, 0.9861633823741189]}, {'purchase_values': ['1', '0'], 'predicted_purchase': ['0'], 'purchase_probs': [0.01360174704165085, 0.9863982529583492]}, {'purchase_values': ['1', '0'], 'predicted_purchase': ['0'], 'purchase_probs': [0.01425540292141848, 0.9857445970785815]}, {'purchase_values': ['1', '0'], 'predicted_purchase': ['0'], 'purchase_probs': [0.0113094540992505, 0.9886905459007495]}, {'purchase_values': ['1', '0'], 'predicted_purchase': ['0'], 'purchase_probs': [0.01177024907950326, 0.9882297509204967]}, {'purchase_values': ['1', '0'], 'predicted_purchase': ['0'], 'purchase_probs': [0.01345901556322243, 0.9865409844367776]}, {'purchase_values': ['1', '0'], 'predicted_purchase': ['0'], 'purchase_probs': [0.01448079308394683, 0.9855192069160532]}, {'purchase_values': ['1', '0'], 'predicted_purchase': ['0'], 'purchase_probs': [0.01266151159880438, 0.9873384884011956]}, {'purchase_values': ['1', '0'], 'predicted_purchase': ['0'], 'purchase_probs': [0.01304489222441996, 0.98695510777558]}, {'purchase_values': ['1', '0'], 'predicted_purchase': ['0'], 'purchase_probs': [0.01322018369027347, 0.9867798163097266]}, {'purchase_values': ['1', '0'], 'predicted_purchase': ['0'], 'purchase_probs': [0.01223961597758029, 0.9877603840224197]}, {'purchase_values': ['1', '0'], 'predicted_purchase': ['0'], 'purchase_probs': [0.01367602033026559, 0.9863239796697344]}, {'purchase_values': ['1', '0'], 'predicted_purchase': ['0'], 'purchase_probs': [0.01342406680514032, 0.9865759331948597]}, {'purchase_values': ['1', '0'], 'predicted_purchase': ['0'], 'purchase_probs': [0.01374392126222938, 0.9862560787377707]}, {'purchase_values': ['1', '0'], 'predicted_purchase': ['0'], 'purchase_probs': [0.01301883837994703, 0.986981161620053]}, {'purchase_values': ['1', '0'], 'predicted_purchase': ['0'], 'purchase_probs': [0.01148510275009352, 0.9885148972499065]}, {'purchase_values': ['1', '0'], 'predicted_purchase': ['0'], 'purchase_probs': [0.01283865222355209, 0.9871613477764479]}, {'purchase_values': ['1', '0'], 'predicted_purchase': ['0'], 'purchase_probs': [0.01201646272995461, 0.9879835372700454]}, {'purchase_values': ['1', '0'], 'predicted_purchase': ['0'], 'purchase_probs': [0.01399355245401492, 0.9860064475459851]}, {'purchase_values': ['1', '0'], 'predicted_purchase': ['0'], 'purchase_probs': [0.01167207982023817, 0.9883279201797618]}, {'purchase_values': ['1', '0'], 'predicted_purchase': ['0'], 'purchase_probs': [0.00874800458254975, 0.9912519954174502]}, {'purchase_values': ['1', '0'], 'predicted_purchase': ['0'], 'purchase_probs': [0.02027172187330371, 0.9797282781266963]}, {'purchase_values': ['1', '0'], 'predicted_purchase': ['0'], 'purchase_probs': [0.004379277511131238, 0.9956207224888688]}, {'purchase_values': ['1', '0'], 'predicted_purchase': ['0'], 'purchase_probs': [0.01355205574626645, 0.9864479442537335]}, {'purchase_values': ['1', '0'], 'predicted_purchase': ['0'], 'purchase_probs': [0.01739650048026601, 0.982603499519734]}, {'purchase_values': ['1', '0'], 'predicted_purchase': ['0'], 'purchase_probs': [0.01206538631385036, 0.9879346136861497]}, {'purchase_values': ['1', '0'], 'predicted_purchase': ['0'], 'purchase_probs': [0.02192266745341613, 0.9780773325465839]}, {'purchase_values': ['1', '0'], 'predicted_purchase': ['0'], 'purchase_probs': [0.0158610113195179, 0.9841389886804821]}, {'purchase_values': ['1', '0'], 'predicted_purchase': ['0'], 'purchase_probs': [0.01186807284082811, 0.9881319271591719]}, {'purchase_values': ['1', '0'], 'predicted_purchase': ['0'], 'purchase_probs': [0.01146615976428603, 0.988533840235714]}, {'purchase_values': ['1', '0'], 'predicted_purchase': ['0'], 'purchase_probs': [0.01365917500368862, 0.9863408249963114]}, {'purchase_values': ['1', '0'], 'predicted_purchase': ['0'], 'purchase_probs': [0.01344961781294048, 0.9865503821870595]}, {'purchase_values': ['1', '0'], 'predicted_purchase': ['0'], 'purchase_probs': [0.00816693097820211, 0.9918330690217979]}, {'purchase_values': ['1', '0'], 'predicted_purchase': ['0'], 'purchase_probs': [0.005575408181616355, 0.9944245918183836]}, {'purchase_values': ['1', '0'], 'predicted_purchase': ['0'], 'purchase_probs': [0.005043933452441551, 0.9949560665475584]}, {'purchase_values': ['1', '0'], 'predicted_purchase': ['0'], 'purchase_probs': [0.01134842746572543, 0.9886515725342746]}, {'purchase_values': ['1', '0'], 'predicted_purchase': ['0'], 'purchase_probs': [0.004600781719264801, 0.9953992182807352]}, {'purchase_values': ['1', '0'], 'predicted_purchase': ['0'], 'purchase_probs': [0.0139446715578444, 0.9860553284421556]}, {'purchase_values': ['1', '0'], 'predicted_purchase': ['0'], 'purchase_probs': [0.01226123083555598, 0.987738769164444]}, {'purchase_values': ['1', '0'], 'predicted_purchase': ['0'], 'purchase_probs': [0.01206684321077736, 0.9879331567892227]}, {'purchase_values': ['1', '0'], 'predicted_purchase': ['0'], 'purchase_probs': [0.007086443025053409, 0.9929135569749465]}, {'purchase_values': ['1', '0'], 'predicted_purchase': ['0'], 'purchase_probs': [0.01168995094281407, 0.9883100490571859]}, {'purchase_values': ['1', '0'], 'predicted_purchase': ['0'], 'purchase_probs': [0.01249943239519432, 0.9875005676048056]}, {'purchase_values': ['1', '0'], 'predicted_purchase': ['0'], 'purchase_probs': [0.007228140218082411, 0.9927718597819176]}, {'purchase_values': ['1', '0'], 'predicted_purchase': ['0'], 'purchase_probs': [0.01160044564916729, 0.9883995543508327]}, {'purchase_values': ['1', '0'], 'predicted_purchase': ['0'], 'purchase_probs': [0.01392300186023774, 0.9860769981397622]}, {'purchase_values': ['1', '0'], 'predicted_purchase': ['0'], 'purchase_probs': [0.007013496071380022, 0.99298650392862]}, {'purchase_values': ['1', '0'], 'predicted_purchase': ['0'], 'purchase_probs': [0.006424408193386011, 0.993575591806614]}, {'purchase_values': ['1', '0'], 'predicted_purchase': ['0'], 'purchase_probs': [0.315189946121524, 0.684810053878476]}, {'purchase_values': ['1', '0'], 'predicted_purchase': ['0'], 'purchase_probs': [0.007778437435989359, 0.9922215625640106]}, {'purchase_values': ['1', '0'], 'predicted_purchase': ['0'], 'purchase_probs': [0.01206216229038898, 0.987937837709611]}, {'purchase_values': ['1', '0'], 'predicted_purchase': ['0'], 'purchase_probs': [0.01356949749158809, 0.9864305025084119]}, {'purchase_values': ['1', '0'], 'predicted_purchase': ['0'], 'purchase_probs': [0.006081008573355941, 0.9939189914266441]}, {'purchase_values': ['1', '0'], 'predicted_purchase': ['0'], 'purchase_probs': [0.01234946174706353, 0.9876505382529365]}, {'purchase_values': ['1', '0'], 'predicted_purchase': ['0'], 'purchase_probs': [0.01398678481932165, 0.9860132151806783]}, {'purchase_values': ['1', '0'], 'predicted_purchase': ['0'], 'purchase_probs': [0.01330684879041146, 0.9866931512095886]}, {'purchase_values': ['1', '0'], 'predicted_purchase': ['0'], 'purchase_probs': [0.01179384422370785, 0.9882061557762921]}, {'purchase_values': ['1', '0'], 'predicted_purchase': ['0'], 'purchase_probs': [0.004669959908927789, 0.9953300400910722]}, {'purchase_values': ['1', '0'], 'predicted_purchase': ['0'], 'purchase_probs': [0.01122103406072596, 0.9887789659392741]}, {'purchase_values': ['1', '0'], 'predicted_purchase': ['0'], 'purchase_probs': [0.01199388937183594, 0.988006110628164]}, {'purchase_values': ['1', '0'], 'predicted_purchase': ['0'], 'purchase_probs': [0.01535880579354245, 0.9846411942064576]}, {'purchase_values': ['1', '0'], 'predicted_purchase': ['0'], 'purchase_probs': [0.01379095432622044, 0.9862090456737795]}, {'purchase_values': ['1', '0'], 'predicted_purchase': ['0'], 'purchase_probs': [0.005703112030552984, 0.994296887969447]}, {'purchase_values': ['1', '0'], 'predicted_purchase': ['0'], 'purchase_probs': [0.008494682809956003, 0.991505317190044]}, {'purchase_values': ['1', '0'], 'predicted_purchase': ['0'], 'purchase_probs': [0.01051229617353647, 0.9894877038264636]}, {'purchase_values': ['1', '0'], 'predicted_purchase': ['0'], 'purchase_probs': [0.01277496090827416, 0.9872250390917259]}, {'purchase_values': ['1', '0'], 'predicted_purchase': ['0'], 'purchase_probs': [0.01459399451897367, 0.9854060054810263]}, {'purchase_values': ['1', '0'], 'predicted_purchase': ['0'], 'purchase_probs': [0.01399147558140947, 0.9860085244185905]}, {'purchase_values': ['1', '0'], 'predicted_purchase': ['0'], 'purchase_probs': [0.008510320211513822, 0.9914896797884862]}, {'purchase_values': ['1', '0'], 'predicted_purchase': ['0'], 'purchase_probs': [0.1038212322928028, 0.8961787677071973]}, {'purchase_values': ['1', '0'], 'predicted_purchase': ['0'], 'purchase_probs': [0.01109488644384921, 0.9889051135561507]}, {'purchase_values': ['1', '0'], 'predicted_purchase': ['0'], 'purchase_probs': [0.005509067048591196, 0.9944909329514088]}, {'purchase_values': ['1', '0'], 'predicted_purchase': ['0'], 'purchase_probs': [0.01205030058223507, 0.9879496994177649]}, {'purchase_values': ['1', '0'], 'predicted_purchase': ['0'], 'purchase_probs': [0.01247664062955408, 0.9875233593704459]}, {'purchase_values': ['1', '0'], 'predicted_purchase': ['0'], 'purchase_probs': [0.01416552011396829, 0.9858344798860317]}, {'purchase_values': ['1', '0'], 'predicted_purchase': ['0'], 'purchase_probs': [0.00952948576447786, 0.9904705142355221]}, {'purchase_values': ['1', '0'], 'predicted_purchase': ['0'], 'purchase_probs': [0.004641279418773737, 0.9953587205812262]}, {'purchase_values': ['1', '0'], 'predicted_purchase': ['0'], 'purchase_probs': [0.009019957621261494, 0.9909800423787385]}, {'purchase_values': ['1', '0'], 'predicted_purchase': ['0'], 'purchase_probs': [0.01199075431291888, 0.9880092456870812]}, {'purchase_values': ['1', '0'], 'predicted_purchase': ['0'], 'purchase_probs': [0.01147730342316107, 0.9885226965768389]}, {'purchase_values': ['1', '0'], 'predicted_purchase': ['0'], 'purchase_probs': [0.0131208539326526, 0.9868791460673474]}, {'purchase_values': ['1', '0'], 'predicted_purchase': ['0'], 'purchase_probs': [0.008988285186973243, 0.9910117148130267]}, {'purchase_values': ['1', '0'], 'predicted_purchase': ['0'], 'purchase_probs': [0.01297175147914087, 0.9870282485208591]}, {'purchase_values': ['1', '0'], 'predicted_purchase': ['0'], 'purchase_probs': [0.01333309532451726, 0.9866669046754828]}, {'purchase_values': ['1', '0'], 'predicted_purchase': ['0'], 'purchase_probs': [0.01276386485055067, 0.9872361351494493]}, {'purchase_values': ['1', '0'], 'predicted_purchase': ['0'], 'purchase_probs': [0.01385790842456468, 0.9861420915754353]}, {'purchase_values': ['1', '0'], 'predicted_purchase': ['0'], 'purchase_probs': [0.004467657531273511, 0.9955323424687265]}, {'purchase_values': ['1', '0'], 'predicted_purchase': ['0'], 'purchase_probs': [0.01488611689193531, 0.9851138831080647]}, {'purchase_values': ['1', '0'], 'predicted_purchase': ['0'], 'purchase_probs': [0.01116926815765865, 0.9888307318423414]}, {'purchase_values': ['1', '0'], 'predicted_purchase': ['0'], 'purchase_probs': [0.01110223234895178, 0.9888977676510482]}, {'purchase_values': ['1', '0'], 'predicted_purchase': ['0'], 'purchase_probs': [0.01361932862635569, 0.9863806713736443]}, {'purchase_values': ['1', '0'], 'predicted_purchase': ['1'], 'purchase_probs': [0.7015946652614555, 0.2984053347385445]}, {'purchase_values': ['1', '0'], 'predicted_purchase': ['0'], 'purchase_probs': [0.01241025691625285, 0.9875897430837471]}, {'purchase_values': ['1', '0'], 'predicted_purchase': ['0'], 'purchase_probs': [0.01498217696205191, 0.985017823037948]}, {'purchase_values': ['1', '0'], 'predicted_purchase': ['0'], 'purchase_probs': [0.008547021102435118, 0.9914529788975649]}, {'purchase_values': ['1', '0'], 'predicted_purchase': ['0'], 'purchase_probs': [0.0117201312398705, 0.9882798687601295]}, {'purchase_values': ['1', '0'], 'predicted_purchase': ['0'], 'purchase_probs': [0.006993252821475674, 0.9930067471785243]}, {'purchase_values': ['1', '0'], 'predicted_purchase': ['0'], 'purchase_probs': [0.01136354133581391, 0.988636458664186]}, {'purchase_values': ['1', '0'], 'predicted_purchase': ['0'], 'purchase_probs': [0.01285915493327716, 0.9871408450667228]}, {'purchase_values': ['1', '0'], 'predicted_purchase': ['0'], 'purchase_probs': [0.01200879927243449, 0.9879912007275655]}, {'purchase_values': ['1', '0'], 'predicted_purchase': ['0'], 'purchase_probs': [0.009554978656159594, 0.9904450213438404]}, {'purchase_values': ['1', '0'], 'predicted_purchase': ['0'], 'purchase_probs': [0.01405013150952366, 0.9859498684904764]}, {'purchase_values': ['1', '0'], 'predicted_purchase': ['0'], 'purchase_probs': [0.01303322572767743, 0.9869667742723226]}, {'purchase_values': ['1', '0'], 'predicted_purchase': ['0'], 'purchase_probs': [0.01325990418083576, 0.9867400958191642]}, {'purchase_values': ['1', '0'], 'predicted_purchase': ['0'], 'purchase_probs': [0.01390361142095265, 0.9860963885790474]}, {'purchase_values': ['1', '0'], 'predicted_purchase': ['0'], 'purchase_probs': [0.01201287365795507, 0.9879871263420449]}, {'purchase_values': ['1', '0'], 'predicted_purchase': ['0'], 'purchase_probs': [0.00495827404827536, 0.9950417259517247]}, {'purchase_values': ['1', '0'], 'predicted_purchase': ['0'], 'purchase_probs': [0.004441316134527338, 0.9955586838654726]}, {'purchase_values': ['1', '0'], 'predicted_purchase': ['0'], 'purchase_probs': [0.01420008179551779, 0.9857999182044822]}, {'purchase_values': ['1', '0'], 'predicted_purchase': ['0'], 'purchase_probs': [0.01292049792424235, 0.9870795020757577]}, {'purchase_values': ['1', '0'], 'predicted_purchase': ['0'], 'purchase_probs': [0.01136305612569633, 0.9886369438743037]}, {'purchase_values': ['1', '0'], 'predicted_purchase': ['0'], 'purchase_probs': [0.01220387712866755, 0.9877961228713324]}, {'purchase_values': ['1', '0'], 'predicted_purchase': ['0'], 'purchase_probs': [0.01037832603474801, 0.989621673965252]}, {'purchase_values': ['1', '0'], 'predicted_purchase': ['0'], 'purchase_probs': [0.01099895064587684, 0.9890010493541231]}, {'purchase_values': ['1', '0'], 'predicted_purchase': ['0'], 'purchase_probs': [0.01234515438542286, 0.9876548456145772]}, {'purchase_values': ['1', '0'], 'predicted_purchase': ['0'], 'purchase_probs': [0.01327331409659688, 0.9867266859034032]}, {'purchase_values': ['1', '0'], 'predicted_purchase': ['0'], 'purchase_probs': [0.01506687806468656, 0.9849331219353135]}, {'purchase_values': ['1', '0'], 'predicted_purchase': ['0'], 'purchase_probs': [0.01041822714857095, 0.989581772851429]}, {'purchase_values': ['1', '0'], 'predicted_purchase': ['0'], 'purchase_probs': [0.007189431575884597, 0.9928105684241154]}, {'purchase_values': ['1', '0'], 'predicted_purchase': ['0'], 'purchase_probs': [0.006023728846933332, 0.9939762711530666]}, {'purchase_values': ['1', '0'], 'predicted_purchase': ['0'], 'purchase_probs': [0.01247464910938532, 0.9875253508906147]}, {'purchase_values': ['1', '0'], 'predicted_purchase': ['0'], 'purchase_probs': [0.007400632860759973, 0.99259936713924]}, {'purchase_values': ['1', '0'], 'predicted_purchase': ['0'], 'purchase_probs': [0.008283527631921278, 0.9917164723680787]}, {'purchase_values': ['1', '0'], 'predicted_purchase': ['0'], 'purchase_probs': [0.007580624868452287, 0.9924193751315478]}, {'purchase_values': ['1', '0'], 'predicted_purchase': ['0'], 'purchase_probs': [0.01356858910952502, 0.9864314108904749]}, {'purchase_values': ['1', '0'], 'predicted_purchase': ['0'], 'purchase_probs': [0.01322137675251917, 0.9867786232474808]}, {'purchase_values': ['1', '0'], 'predicted_purchase': ['0'], 'purchase_probs': [0.01170088376429629, 0.9882991162357038]}, {'purchase_values': ['1', '0'], 'predicted_purchase': ['0'], 'purchase_probs': [0.0119870512287662, 0.9880129487712338]}, {'purchase_values': ['1', '0'], 'predicted_purchase': ['0'], 'purchase_probs': [0.01210175252773286, 0.9878982474722672]}, {'purchase_values': ['1', '0'], 'predicted_purchase': ['0'], 'purchase_probs': [0.01123432380685262, 0.9887656761931474]}, {'purchase_values': ['1', '0'], 'predicted_purchase': ['0'], 'purchase_probs': [0.0129016501800108, 0.9870983498199892]}, {'purchase_values': ['1', '0'], 'predicted_purchase': ['0'], 'purchase_probs': [0.01363137318599419, 0.9863686268140058]}, {'purchase_values': ['1', '0'], 'predicted_purchase': ['0'], 'purchase_probs': [0.01387915845512831, 0.9861208415448717]}, {'purchase_values': ['1', '0'], 'predicted_purchase': ['0'], 'purchase_probs': [0.004852380339034811, 0.9951476196609652]}, {'purchase_values': ['1', '0'], 'predicted_purchase': ['0'], 'purchase_probs': [0.01311355997532882, 0.9868864400246712]}, {'purchase_values': ['1', '0'], 'predicted_purchase': ['0'], 'purchase_probs': [0.01225568253876554, 0.9877443174612345]}, {'purchase_values': ['1', '0'], 'predicted_purchase': ['0'], 'purchase_probs': [0.01351001852634591, 0.9864899814736541]}, {'purchase_values': ['1', '0'], 'predicted_purchase': ['0'], 'purchase_probs': [0.00550344648332728, 0.9944965535166728]}, {'purchase_values': ['1', '0'], 'predicted_purchase': ['0'], 'purchase_probs': [0.0121166862292343, 0.9878833137707657]}, {'purchase_values': ['1', '0'], 'predicted_purchase': ['0'], 'purchase_probs': [0.008410280018143713, 0.9915897199818563]}, {'purchase_values': ['1', '0'], 'predicted_purchase': ['0'], 'purchase_probs': [0.008537381278183041, 0.991462618721817]}, {'purchase_values': ['1', '0'], 'predicted_purchase': ['0'], 'purchase_probs': [0.00498804604915168, 0.9950119539508483]}, {'purchase_values': ['1', '0'], 'predicted_purchase': ['0'], 'purchase_probs': [0.004671791987537682, 0.9953282080124624]}, {'purchase_values': ['1', '0'], 'predicted_purchase': ['0'], 'purchase_probs': [0.01198263141660647, 0.9880173685833935]}, {'purchase_values': ['1', '0'], 'predicted_purchase': ['0'], 'purchase_probs': [0.01240049379315744, 0.9875995062068426]}, {'purchase_values': ['1', '0'], 'predicted_purchase': ['0'], 'purchase_probs': [0.007819653947785814, 0.9921803460522142]}, {'purchase_values': ['1', '0'], 'predicted_purchase': ['0'], 'purchase_probs': [0.0116777715526653, 0.9883222284473347]}, {'purchase_values': ['1', '0'], 'predicted_purchase': ['0'], 'purchase_probs': [0.01266858612267923, 0.9873314138773208]}, {'purchase_values': ['1', '0'], 'predicted_purchase': ['0'], 'purchase_probs': [0.01169768532408215, 0.9883023146759179]}, {'purchase_values': ['1', '0'], 'predicted_purchase': ['0'], 'purchase_probs': [0.004553493700512531, 0.9954465062994875]}, {'purchase_values': ['1', '0'], 'predicted_purchase': ['0'], 'purchase_probs': [0.01427558612463667, 0.9857244138753634]}, {'purchase_values': ['1', '0'], 'predicted_purchase': ['0'], 'purchase_probs': [0.00987660767153896, 0.990123392328461]}, {'purchase_values': ['1', '0'], 'predicted_purchase': ['0'], 'purchase_probs': [0.01090621414374502, 0.989093785856255]}, {'purchase_values': ['1', '0'], 'predicted_purchase': ['0'], 'purchase_probs': [0.004892480598213862, 0.9951075194017861]}, {'purchase_values': ['1', '0'], 'predicted_purchase': ['0'], 'purchase_probs': [0.005808474778219469, 0.9941915252217806]}, {'purchase_values': ['1', '0'], 'predicted_purchase': ['0'], 'purchase_probs': [0.00542035485787843, 0.9945796451421216]}, {'purchase_values': ['1', '0'], 'predicted_purchase': ['0'], 'purchase_probs': [0.01295920673419408, 0.987040793265806]}, {'purchase_values': ['1', '0'], 'predicted_purchase': ['0'], 'purchase_probs': [0.01222158648621547, 0.9877784135137845]}, {'purchase_values': ['1', '0'], 'predicted_purchase': ['0'], 'purchase_probs': [0.004466146177746939, 0.995533853822253]}, {'purchase_values': ['1', '0'], 'predicted_purchase': ['0'], 'purchase_probs': [0.0129624422772419, 0.9870375577227581]}, {'purchase_values': ['1', '0'], 'predicted_purchase': ['0'], 'purchase_probs': [0.0118017991302719, 0.9881982008697281]}, {'purchase_values': ['1', '0'], 'predicted_purchase': ['0'], 'purchase_probs': [0.01213402365085341, 0.9878659763491466]}, {'purchase_values': ['1', '0'], 'predicted_purchase': ['0'], 'purchase_probs': [0.01430762637071014, 0.9856923736292899]}, {'purchase_values': ['1', '0'], 'predicted_purchase': ['0'], 'purchase_probs': [0.01356799656138744, 0.9864320034386126]}, {'purchase_values': ['1', '0'], 'predicted_purchase': ['0'], 'purchase_probs': [0.01204897259920984, 0.9879510274007902]}, {'purchase_values': ['1', '0'], 'predicted_purchase': ['0'], 'purchase_probs': [0.01285094673459894, 0.987149053265401]}, {'purchase_values': ['1', '0'], 'predicted_purchase': ['0'], 'purchase_probs': [0.01220449991295933, 0.9877955000870406]}, {'purchase_values': ['1', '0'], 'predicted_purchase': ['0'], 'purchase_probs': [0.01238037092083937, 0.9876196290791607]}, {'purchase_values': ['1', '0'], 'predicted_purchase': ['0'], 'purchase_probs': [0.01266416914476823, 0.9873358308552318]}, {'purchase_values': ['1', '0'], 'predicted_purchase': ['0'], 'purchase_probs': [0.0128092078477084, 0.9871907921522916]}, {'purchase_values': ['1', '0'], 'predicted_purchase': ['0'], 'purchase_probs': [0.01295784787016915, 0.9870421521298308]}, {'purchase_values': ['1', '0'], 'predicted_purchase': ['0'], 'purchase_probs': [0.01070401322807913, 0.9892959867719209]}, {'purchase_values': ['1', '0'], 'predicted_purchase': ['0'], 'purchase_probs': [0.01371635837242661, 0.9862836416275734]}, {'purchase_values': ['1', '0'], 'predicted_purchase': ['0'], 'purchase_probs': [0.01456951026132543, 0.9854304897386745]}, {'purchase_values': ['1', '0'], 'predicted_purchase': ['0'], 'purchase_probs': [0.01122857822229506, 0.9887714217777049]}, {'purchase_values': ['1', '0'], 'predicted_purchase': ['0'], 'purchase_probs': [0.01264335468601155, 0.9873566453139885]}, {'purchase_values': ['1', '0'], 'predicted_purchase': ['0'], 'purchase_probs': [0.01233902620263269, 0.9876609737973673]}, {'purchase_values': ['1', '0'], 'predicted_purchase': ['0'], 'purchase_probs': [0.005512945422001231, 0.9944870545779988]}, {'purchase_values': ['1', '0'], 'predicted_purchase': ['0'], 'purchase_probs': [0.004283924344835256, 0.9957160756551647]}, {'purchase_values': ['1', '0'], 'predicted_purchase': ['0'], 'purchase_probs': [0.01296184586857619, 0.9870381541314238]}, {'purchase_values': ['1', '0'], 'predicted_purchase': ['0'], 'purchase_probs': [0.01127797264788569, 0.9887220273521143]}, {'purchase_values': ['1', '0'], 'predicted_purchase': ['0'], 'purchase_probs': [0.01228601671320375, 0.9877139832867963]}, {'purchase_values': ['1', '0'], 'predicted_purchase': ['0'], 'purchase_probs': [0.01246703315640238, 0.9875329668435976]}, {'purchase_values': ['1', '0'], 'predicted_purchase': ['0'], 'purchase_probs': [0.00784271762102865, 0.9921572823789714]}, {'purchase_values': ['1', '0'], 'predicted_purchase': ['0'], 'purchase_probs': [0.009144258538708788, 0.9908557414612912]}, {'purchase_values': ['1', '0'], 'predicted_purchase': ['0'], 'purchase_probs': [0.0115767971077247, 0.9884232028922753]}, {'purchase_values': ['1', '0'], 'predicted_purchase': ['0'], 'purchase_probs': [0.01286358330321097, 0.9871364166967891]}, {'purchase_values': ['1', '0'], 'predicted_purchase': ['0'], 'purchase_probs': [0.01247309752714308, 0.9875269024728569]}, {'purchase_values': ['1', '0'], 'predicted_purchase': ['0'], 'purchase_probs': [0.01347275875599628, 0.9865272412440037]}, {'purchase_values': ['1', '0'], 'predicted_purchase': ['0'], 'purchase_probs': [0.01181357169687313, 0.9881864283031269]}, {'purchase_values': ['1', '0'], 'predicted_purchase': ['0'], 'purchase_probs': [0.007076529190821279, 0.9929234708091788]}, {'purchase_values': ['1', '0'], 'predicted_purchase': ['0'], 'purchase_probs': [0.01362786245133589, 0.9863721375486642]}, {'purchase_values': ['1', '0'], 'predicted_purchase': ['0'], 'purchase_probs': [0.01310842518269112, 0.9868915748173088]}, {'purchase_values': ['1', '0'], 'predicted_purchase': ['0'], 'purchase_probs': [0.0127075640470865, 0.9872924359529135]}, {'purchase_values': ['1', '0'], 'predicted_purchase': ['0'], 'purchase_probs': [0.01236183117294703, 0.987638168827053]}, {'purchase_values': ['1', '0'], 'predicted_purchase': ['0'], 'purchase_probs': [0.01215565476870032, 0.9878443452312997]}, {'purchase_values': ['1', '0'], 'predicted_purchase': ['0'], 'purchase_probs': [0.01254561505021702, 0.987454384949783]}, {'purchase_values': ['1', '0'], 'predicted_purchase': ['0'], 'purchase_probs': [0.01240882935549848, 0.9875911706445015]}, {'purchase_values': ['1', '0'], 'predicted_purchase': ['0'], 'purchase_probs': [0.00853666711656663, 0.9914633328834334]}, {'purchase_values': ['1', '0'], 'predicted_purchase': ['0'], 'purchase_probs': [0.01261047707665484, 0.9873895229233451]}, {'purchase_values': ['1', '0'], 'predicted_purchase': ['0'], 'purchase_probs': [0.01975422907485953, 0.9802457709251404]}, {'purchase_values': ['1', '0'], 'predicted_purchase': ['0'], 'purchase_probs': [0.006109833543430814, 0.9938901664565691]}, {'purchase_values': ['1', '0'], 'predicted_purchase': ['0'], 'purchase_probs': [0.004689149269345835, 0.9953108507306542]}, {'purchase_values': ['1', '0'], 'predicted_purchase': ['0'], 'purchase_probs': [0.01293636202656679, 0.9870636379734332]}, {'purchase_values': ['1', '0'], 'predicted_purchase': ['0'], 'purchase_probs': [0.01423916674965985, 0.9857608332503401]}, {'purchase_values': ['1', '0'], 'predicted_purchase': ['0'], 'purchase_probs': [0.01187364575905407, 0.988126354240946]}, {'purchase_values': ['1', '0'], 'predicted_purchase': ['0'], 'purchase_probs': [0.005642518188302162, 0.9943574818116978]}, {'purchase_values': ['1', '0'], 'predicted_purchase': ['0'], 'purchase_probs': [0.005276436423010082, 0.9947235635769899]}, {'purchase_values': ['1', '0'], 'predicted_purchase': ['0'], 'purchase_probs': [0.01260528510226664, 0.9873947148977333]}, {'purchase_values': ['1', '0'], 'predicted_purchase': ['0'], 'purchase_probs': [0.01372697487741561, 0.9862730251225844]}, {'purchase_values': ['1', '0'], 'predicted_purchase': ['0'], 'purchase_probs': [0.01666347165373829, 0.9833365283462617]}, {'purchase_values': ['1', '0'], 'predicted_purchase': ['0'], 'purchase_probs': [0.01240942016716561, 0.9875905798328344]}, {'purchase_values': ['1', '0'], 'predicted_purchase': ['0'], 'purchase_probs': [0.01135307047440613, 0.9886469295255939]}, {'purchase_values': ['1', '0'], 'predicted_purchase': ['0'], 'purchase_probs': [0.0139758442404499, 0.98602415575955]}, {'purchase_values': ['1', '0'], 'predicted_purchase': ['0'], 'purchase_probs': [0.01349350666303434, 0.9865064933369656]}, {'purchase_values': ['1', '0'], 'predicted_purchase': ['0'], 'purchase_probs': [0.01076383577967131, 0.9892361642203287]}, {'purchase_values': ['1', '0'], 'predicted_purchase': ['0'], 'purchase_probs': [0.01182351944224423, 0.9881764805577558]}, {'purchase_values': ['1', '0'], 'predicted_purchase': ['0'], 'purchase_probs': [0.007278919789623134, 0.9927210802103769]}, {'purchase_values': ['1', '0'], 'predicted_purchase': ['0'], 'purchase_probs': [0.01453377915211061, 0.9854662208478894]}, {'purchase_values': ['1', '0'], 'predicted_purchase': ['0'], 'purchase_probs': [0.01162037435759325, 0.9883796256424068]}, {'purchase_values': ['1', '0'], 'predicted_purchase': ['0'], 'purchase_probs': [0.004844180848574477, 0.9951558191514255]}, {'purchase_values': ['1', '0'], 'predicted_purchase': ['0'], 'purchase_probs': [0.01252128552921011, 0.9874787144707899]}, {'purchase_values': ['1', '0'], 'predicted_purchase': ['0'], 'purchase_probs': [0.01207319314259262, 0.9879268068574074]}, {'purchase_values': ['1', '0'], 'predicted_purchase': ['0'], 'purchase_probs': [0.01297517226256555, 0.9870248277374345]}, {'purchase_values': ['1', '0'], 'predicted_purchase': ['0'], 'purchase_probs': [0.01170013577129394, 0.9882998642287061]}, {'purchase_values': ['1', '0'], 'predicted_purchase': ['0'], 'purchase_probs': [0.01127574988037592, 0.9887242501196241]}, {'purchase_values': ['1', '0'], 'predicted_purchase': ['0'], 'purchase_probs': [0.01875619726492539, 0.9812438027350746]}, {'purchase_values': ['1', '0'], 'predicted_purchase': ['0'], 'purchase_probs': [0.01253893211161861, 0.9874610678883814]}, {'purchase_values': ['1', '0'], 'predicted_purchase': ['0'], 'purchase_probs': [0.006936870341140346, 0.9930631296588597]}, {'purchase_values': ['1', '0'], 'predicted_purchase': ['0'], 'purchase_probs': [0.007567822644063682, 0.9924321773559364]}, {'purchase_values': ['1', '0'], 'predicted_purchase': ['0'], 'purchase_probs': [0.008365277756839463, 0.9916347222431605]}, {'purchase_values': ['1', '0'], 'predicted_purchase': ['0'], 'purchase_probs': [0.01229179654618967, 0.9877082034538104]}, {'purchase_values': ['1', '0'], 'predicted_purchase': ['0'], 'purchase_probs': [0.01094745666137329, 0.9890525433386267]}, {'purchase_values': ['1', '0'], 'predicted_purchase': ['0'], 'purchase_probs': [0.01210324128313962, 0.9878967587168603]}, {'purchase_values': ['1', '0'], 'predicted_purchase': ['0'], 'purchase_probs': [0.005834204563535779, 0.9941657954364642]}, {'purchase_values': ['1', '0'], 'predicted_purchase': ['0'], 'purchase_probs': [0.01385442813275765, 0.9861455718672424]}, {'purchase_values': ['1', '0'], 'predicted_purchase': ['0'], 'purchase_probs': [0.01180136059258884, 0.9881986394074112]}, {'purchase_values': ['1', '0'], 'predicted_purchase': ['0'], 'purchase_probs': [0.01175217506970799, 0.9882478249302921]}, {'purchase_values': ['1', '0'], 'predicted_purchase': ['0'], 'purchase_probs': [0.01321552650667812, 0.9867844734933219]}, {'purchase_values': ['1', '0'], 'predicted_purchase': ['0'], 'purchase_probs': [0.01175706374119201, 0.988242936258808]}, {'purchase_values': ['1', '0'], 'predicted_purchase': ['0'], 'purchase_probs': [0.0117551894697254, 0.9882448105302746]}, {'purchase_values': ['1', '0'], 'predicted_purchase': ['0'], 'purchase_probs': [0.01352816539587979, 0.9864718346041202]}, {'purchase_values': ['1', '0'], 'predicted_purchase': ['0'], 'purchase_probs': [0.01290321376715245, 0.9870967862328476]}, {'purchase_values': ['1', '0'], 'predicted_purchase': ['0'], 'purchase_probs': [0.01391631770790311, 0.9860836822920969]}, {'purchase_values': ['1', '0'], 'predicted_purchase': ['0'], 'purchase_probs': [0.01320838255863535, 0.9867916174413647]}, {'purchase_values': ['1', '0'], 'predicted_purchase': ['0'], 'purchase_probs': [0.01342989544027225, 0.9865701045597277]}, {'purchase_values': ['1', '0'], 'predicted_purchase': ['0'], 'purchase_probs': [0.01196195809807475, 0.9880380419019252]}, {'purchase_values': ['1', '0'], 'predicted_purchase': ['0'], 'purchase_probs': [0.01077286720710365, 0.9892271327928963]}, {'purchase_values': ['1', '0'], 'predicted_purchase': ['0'], 'purchase_probs': [0.01243344760290062, 0.9875665523970993]}, {'purchase_values': ['1', '0'], 'predicted_purchase': ['0'], 'purchase_probs': [0.01184368237198628, 0.9881563176280137]}, {'purchase_values': ['1', '0'], 'predicted_purchase': ['0'], 'purchase_probs': [0.01332172980943027, 0.9866782701905698]}, {'purchase_values': ['1', '0'], 'predicted_purchase': ['0'], 'purchase_probs': [0.01205871556438703, 0.987941284435613]}, {'purchase_values': ['1', '0'], 'predicted_purchase': ['0'], 'purchase_probs': [0.01296724002957289, 0.9870327599704272]}, {'purchase_values': ['1', '0'], 'predicted_purchase': ['0'], 'purchase_probs': [0.005365986357170049, 0.99463401364283]}, {'purchase_values': ['1', '0'], 'predicted_purchase': ['0'], 'purchase_probs': [0.007604871421552475, 0.9923951285784475]}, {'purchase_values': ['1', '0'], 'predicted_purchase': ['0'], 'purchase_probs': [0.01313426769764086, 0.9868657323023592]}, {'purchase_values': ['1', '0'], 'predicted_purchase': ['0'], 'purchase_probs': [0.00776103243219396, 0.992238967567806]}, {'purchase_values': ['1', '0'], 'predicted_purchase': ['0'], 'purchase_probs': [0.01185897950711689, 0.9881410204928831]}, {'purchase_values': ['1', '0'], 'predicted_purchase': ['0'], 'purchase_probs': [0.009100254814075934, 0.990899745185924]}, {'purchase_values': ['1', '0'], 'predicted_purchase': ['0'], 'purchase_probs': [0.01327837230821446, 0.9867216276917855]}, {'purchase_values': ['1', '0'], 'predicted_purchase': ['0'], 'purchase_probs': [0.01457232875755163, 0.9854276712424483]}, {'purchase_values': ['1', '0'], 'predicted_purchase': ['0'], 'purchase_probs': [0.01306280151212719, 0.9869371984878728]}, {'purchase_values': ['1', '0'], 'predicted_purchase': ['0'], 'purchase_probs': [0.01197832245600874, 0.9880216775439913]}, {'purchase_values': ['1', '0'], 'predicted_purchase': ['0'], 'purchase_probs': [0.0120280077461184, 0.9879719922538815]}, {'purchase_values': ['1', '0'], 'predicted_purchase': ['0'], 'purchase_probs': [0.0145785244803035, 0.9854214755196965]}, {'purchase_values': ['1', '0'], 'predicted_purchase': ['0'], 'purchase_probs': [0.007777790762194047, 0.9922222092378059]}, {'purchase_values': ['1', '0'], 'predicted_purchase': ['0'], 'purchase_probs': [0.01355132116326802, 0.9864486788367319]}, {'purchase_values': ['1', '0'], 'predicted_purchase': ['0'], 'purchase_probs': [0.01165193714791176, 0.9883480628520882]}, {'purchase_values': ['1', '0'], 'predicted_purchase': ['0'], 'purchase_probs': [0.008870769530515563, 0.9911292304694844]}, {'purchase_values': ['1', '0'], 'predicted_purchase': ['0'], 'purchase_probs': [0.009544631186614248, 0.9904553688133858]}, {'purchase_values': ['1', '0'], 'predicted_purchase': ['0'], 'purchase_probs': [0.005382408165085647, 0.9946175918349144]}, {'purchase_values': ['1', '0'], 'predicted_purchase': ['0'], 'purchase_probs': [0.004420797433890938, 0.9955792025661091]}, {'purchase_values': ['1', '0'], 'predicted_purchase': ['0'], 'purchase_probs': [0.01091205634827062, 0.9890879436517294]}, {'purchase_values': ['1', '0'], 'predicted_purchase': ['0'], 'purchase_probs': [0.01110489163379819, 0.9888951083662019]}, {'purchase_values': ['1', '0'], 'predicted_purchase': ['0'], 'purchase_probs': [0.007615235010312511, 0.9923847649896875]}, {'purchase_values': ['1', '0'], 'predicted_purchase': ['0'], 'purchase_probs': [0.01192262000599775, 0.9880773799940022]}, {'purchase_values': ['1', '0'], 'predicted_purchase': ['0'], 'purchase_probs': [0.01269125285207299, 0.987308747147927]}, {'purchase_values': ['1', '0'], 'predicted_purchase': ['0'], 'purchase_probs': [0.01371878233364177, 0.9862812176663582]}, {'purchase_values': ['1', '0'], 'predicted_purchase': ['0'], 'purchase_probs': [0.01394383884075292, 0.9860561611592471]}, {'purchase_values': ['1', '0'], 'predicted_purchase': ['0'], 'purchase_probs': [0.009927341689070762, 0.9900726583109293]}, {'purchase_values': ['1', '0'], 'predicted_purchase': ['0'], 'purchase_probs': [0.01203633474670613, 0.9879636652532938]}, {'purchase_values': ['1', '0'], 'predicted_purchase': ['0'], 'purchase_probs': [0.01182554931526369, 0.9881744506847363]}, {'purchase_values': ['1', '0'], 'predicted_purchase': ['0'], 'purchase_probs': [0.004474066716058579, 0.9955259332839415]}, {'purchase_values': ['1', '0'], 'predicted_purchase': ['0'], 'purchase_probs': [0.0117173957145971, 0.9882826042854029]}, {'purchase_values': ['1', '0'], 'predicted_purchase': ['0'], 'purchase_probs': [0.01189351847455456, 0.9881064815254454]}, {'purchase_values': ['1', '0'], 'predicted_purchase': ['0'], 'purchase_probs': [0.004836749707864636, 0.9951632502921354]}, {'purchase_values': ['1', '0'], 'predicted_purchase': ['0'], 'purchase_probs': [0.005127753926791588, 0.9948722460732085]}, {'purchase_values': ['1', '0'], 'predicted_purchase': ['0'], 'purchase_probs': [0.009539125167553, 0.990460874832447]}, {'purchase_values': ['1', '0'], 'predicted_purchase': ['0'], 'purchase_probs': [0.008657876298587068, 0.991342123701413]}, {'purchase_values': ['1', '0'], 'predicted_purchase': ['0'], 'purchase_probs': [0.01109230897325097, 0.988907691026749]}, {'purchase_values': ['1', '0'], 'predicted_purchase': ['0'], 'purchase_probs': [0.01228899027722401, 0.987711009722776]}, {'purchase_values': ['1', '0'], 'predicted_purchase': ['0'], 'purchase_probs': [0.008952321747079873, 0.9910476782529202]}, {'purchase_values': ['1', '0'], 'predicted_purchase': ['0'], 'purchase_probs': [0.01194364044488804, 0.988056359555112]}, {'purchase_values': ['1', '0'], 'predicted_purchase': ['0'], 'purchase_probs': [0.01248435385704169, 0.9875156461429583]}, {'purchase_values': ['1', '0'], 'predicted_purchase': ['0'], 'purchase_probs': [0.01175833390545244, 0.9882416660945476]}, {'purchase_values': ['1', '0'], 'predicted_purchase': ['0'], 'purchase_probs': [0.007282907520667208, 0.9927170924793328]}, {'purchase_values': ['1', '0'], 'predicted_purchase': ['0'], 'purchase_probs': [0.004633742371427121, 0.9953662576285729]}, {'purchase_values': ['1', '0'], 'predicted_purchase': ['0'], 'purchase_probs': [0.005362498452552767, 0.9946375015474472]}, {'purchase_values': ['1', '0'], 'predicted_purchase': ['0'], 'purchase_probs': [0.004126363755716368, 0.9958736362442836]}, {'purchase_values': ['1', '0'], 'predicted_purchase': ['0'], 'purchase_probs': [0.005773291491175052, 0.994226708508825]}, {'purchase_values': ['1', '0'], 'predicted_purchase': ['0'], 'purchase_probs': [0.005186679241257802, 0.9948133207587422]}, {'purchase_values': ['1', '0'], 'predicted_purchase': ['0'], 'purchase_probs': [0.01075516645653088, 0.9892448335434691]}, {'purchase_values': ['1', '0'], 'predicted_purchase': ['0'], 'purchase_probs': [0.008913000276649142, 0.9910869997233509]}, {'purchase_values': ['1', '0'], 'predicted_purchase': ['0'], 'purchase_probs': [0.008444691077825283, 0.9915553089221747]}, {'purchase_values': ['1', '0'], 'predicted_purchase': ['0'], 'purchase_probs': [0.01395904848725926, 0.9860409515127407]}, {'purchase_values': ['1', '0'], 'predicted_purchase': ['0'], 'purchase_probs': [0.01686043853578021, 0.9831395614642198]}, {'purchase_values': ['1', '0'], 'predicted_purchase': ['0'], 'purchase_probs': [0.01522283864179386, 0.9847771613582061]}, {'purchase_values': ['1', '0'], 'predicted_purchase': ['0'], 'purchase_probs': [0.004702913959950665, 0.9952970860400493]}, {'purchase_values': ['1', '0'], 'predicted_purchase': ['0'], 'purchase_probs': [0.008517408555819188, 0.9914825914441808]}, {'purchase_values': ['1', '0'], 'predicted_purchase': ['0'], 'purchase_probs': [0.01282381626258215, 0.9871761837374179]}, {'purchase_values': ['1', '0'], 'predicted_purchase': ['0'], 'purchase_probs': [0.01284156558380236, 0.9871584344161977]}, {'purchase_values': ['1', '0'], 'predicted_purchase': ['0'], 'purchase_probs': [0.01249292706594836, 0.9875070729340516]}, {'purchase_values': ['1', '0'], 'predicted_purchase': ['0'], 'purchase_probs': [0.01256763714104596, 0.9874323628589541]}, {'purchase_values': ['1', '0'], 'predicted_purchase': ['0'], 'purchase_probs': [0.0133891998916172, 0.9866108001083828]}, {'purchase_values': ['1', '0'], 'predicted_purchase': ['0'], 'purchase_probs': [0.01346291331121865, 0.9865370866887814]}, {'purchase_values': ['1', '0'], 'predicted_purchase': ['0'], 'purchase_probs': [0.01240760835788026, 0.9875923916421198]}, {'purchase_values': ['1', '0'], 'predicted_purchase': ['0'], 'purchase_probs': [0.0137281554902562, 0.9862718445097438]}, {'purchase_values': ['1', '0'], 'predicted_purchase': ['0'], 'purchase_probs': [0.008133006105671803, 0.9918669938943282]}, {'purchase_values': ['1', '0'], 'predicted_purchase': ['0'], 'purchase_probs': [0.007889318371544045, 0.992110681628456]}, {'purchase_values': ['1', '0'], 'predicted_purchase': ['0'], 'purchase_probs': [0.009101213141518266, 0.9908987868584818]}, {'purchase_values': ['1', '0'], 'predicted_purchase': ['0'], 'purchase_probs': [0.01210784951924013, 0.9878921504807598]}, {'purchase_values': ['1', '0'], 'predicted_purchase': ['0'], 'purchase_probs': [0.01077237476225975, 0.9892276252377402]}, {'purchase_values': ['1', '0'], 'predicted_purchase': ['0'], 'purchase_probs': [0.0122869573017185, 0.9877130426982815]}, {'purchase_values': ['1', '0'], 'predicted_purchase': ['0'], 'purchase_probs': [0.01200433112063874, 0.9879956688793613]}, {'purchase_values': ['1', '0'], 'predicted_purchase': ['0'], 'purchase_probs': [0.008558787561012405, 0.9914412124389876]}, {'purchase_values': ['1', '0'], 'predicted_purchase': ['0'], 'purchase_probs': [0.008456021302626422, 0.9915439786973735]}, {'purchase_values': ['1', '0'], 'predicted_purchase': ['0'], 'purchase_probs': [0.008639790314927334, 0.9913602096850727]}, {'purchase_values': ['1', '0'], 'predicted_purchase': ['0'], 'purchase_probs': [0.01213953115951438, 0.9878604688404856]}, {'purchase_values': ['1', '0'], 'predicted_purchase': ['0'], 'purchase_probs': [0.1110370614551694, 0.8889629385448307]}, {'purchase_values': ['1', '0'], 'predicted_purchase': ['0'], 'purchase_probs': [0.01230108339791225, 0.9876989166020878]}, {'purchase_values': ['1', '0'], 'predicted_purchase': ['0'], 'purchase_probs': [0.01303772304406712, 0.9869622769559329]}, {'purchase_values': ['1', '0'], 'predicted_purchase': ['0'], 'purchase_probs': [0.008413776613093274, 0.9915862233869067]}, {'purchase_values': ['1', '0'], 'predicted_purchase': ['0'], 'purchase_probs': [0.004753284473551212, 0.9952467155264488]}, {'purchase_values': ['1', '0'], 'predicted_purchase': ['0'], 'purchase_probs': [0.0168951098885422, 0.9831048901114579]}, {'purchase_values': ['1', '0'], 'predicted_purchase': ['0'], 'purchase_probs': [0.01271360258174307, 0.987286397418257]}, {'purchase_values': ['1', '0'], 'predicted_purchase': ['0'], 'purchase_probs': [0.01372599903461561, 0.9862740009653844]}, {'purchase_values': ['1', '0'], 'predicted_purchase': ['0'], 'purchase_probs': [0.01256306838333551, 0.9874369316166645]}, {'purchase_values': ['1', '0'], 'predicted_purchase': ['0'], 'purchase_probs': [0.007713652548909506, 0.9922863474510905]}, {'purchase_values': ['1', '0'], 'predicted_purchase': ['0'], 'purchase_probs': [0.009303712095275493, 0.9906962879047245]}, {'purchase_values': ['1', '0'], 'predicted_purchase': ['0'], 'purchase_probs': [0.01460099019195039, 0.9853990098080496]}, {'purchase_values': ['1', '0'], 'predicted_purchase': ['0'], 'purchase_probs': [0.01107261122951179, 0.9889273887704882]}, {'purchase_values': ['1', '0'], 'predicted_purchase': ['0'], 'purchase_probs': [0.01844369049699787, 0.9815563095030021]}, {'purchase_values': ['1', '0'], 'predicted_purchase': ['0'], 'purchase_probs': [0.01591359535682447, 0.9840864046431755]}, {'purchase_values': ['1', '0'], 'predicted_purchase': ['0'], 'purchase_probs': [0.01196123892797022, 0.9880387610720298]}, {'purchase_values': ['1', '0'], 'predicted_purchase': ['0'], 'purchase_probs': [0.01243482234072313, 0.9875651776592769]}, {'purchase_values': ['1', '0'], 'predicted_purchase': ['0'], 'purchase_probs': [0.01427353331374365, 0.9857264666862563]}, {'purchase_values': ['1', '0'], 'predicted_purchase': ['0'], 'purchase_probs': [0.01172747535161997, 0.98827252464838]}, {'purchase_values': ['1', '0'], 'predicted_purchase': ['0'], 'purchase_probs': [0.0126948749359119, 0.9873051250640881]}, {'purchase_values': ['1', '0'], 'predicted_purchase': ['0'], 'purchase_probs': [0.008797642627610089, 0.9912023573723899]}, {'purchase_values': ['1', '0'], 'predicted_purchase': ['0'], 'purchase_probs': [0.01184600292747153, 0.9881539970725285]}, {'purchase_values': ['1', '0'], 'predicted_purchase': ['0'], 'purchase_probs': [0.006601393849933439, 0.9933986061500666]}, {'purchase_values': ['1', '0'], 'predicted_purchase': ['0'], 'purchase_probs': [0.01205155679949853, 0.9879484432005015]}, {'purchase_values': ['1', '0'], 'predicted_purchase': ['0'], 'purchase_probs': [0.01099449665612655, 0.9890055033438735]}, {'purchase_values': ['1', '0'], 'predicted_purchase': ['0'], 'purchase_probs': [0.01331839055823769, 0.9866816094417623]}, {'purchase_values': ['1', '0'], 'predicted_purchase': ['0'], 'purchase_probs': [0.01208478324793753, 0.9879152167520625]}, {'purchase_values': ['1', '0'], 'predicted_purchase': ['0'], 'purchase_probs': [0.01190611466605195, 0.988093885333948]}, {'purchase_values': ['1', '0'], 'predicted_purchase': ['0'], 'purchase_probs': [0.01210389019074193, 0.987896109809258]}, {'purchase_values': ['1', '0'], 'predicted_purchase': ['0'], 'purchase_probs': [0.01391773172128719, 0.9860822682787128]}, {'purchase_values': ['1', '0'], 'predicted_purchase': ['0'], 'purchase_probs': [0.0119429806277312, 0.9880570193722688]}, {'purchase_values': ['1', '0'], 'predicted_purchase': ['0'], 'purchase_probs': [0.01193586573894566, 0.9880641342610543]}, {'purchase_values': ['1', '0'], 'predicted_purchase': ['0'], 'purchase_probs': [0.00491341695235458, 0.9950865830476454]}, {'purchase_values': ['1', '0'], 'predicted_purchase': ['0'], 'purchase_probs': [0.00588752425970613, 0.9941124757402938]}, {'purchase_values': ['1', '0'], 'predicted_purchase': ['0'], 'purchase_probs': [0.01268364783782291, 0.9873163521621771]}, {'purchase_values': ['1', '0'], 'predicted_purchase': ['0'], 'purchase_probs': [0.004835426066311868, 0.9951645739336882]}, {'purchase_values': ['1', '0'], 'predicted_purchase': ['0'], 'purchase_probs': [0.01347888493482268, 0.9865211150651774]}, {'purchase_values': ['1', '0'], 'predicted_purchase': ['0'], 'purchase_probs': [0.02095675244009534, 0.9790432475599047]}, {'purchase_values': ['1', '0'], 'predicted_purchase': ['0'], 'purchase_probs': [0.008021397609993557, 0.9919786023900065]}, {'purchase_values': ['1', '0'], 'predicted_purchase': ['0'], 'purchase_probs': [0.005588194751724828, 0.9944118052482752]}, {'purchase_values': ['1', '0'], 'predicted_purchase': ['0'], 'purchase_probs': [0.01489742542975139, 0.9851025745702486]}, {'purchase_values': ['1', '0'], 'predicted_purchase': ['0'], 'purchase_probs': [0.01241456861893193, 0.987585431381068]}, {'purchase_values': ['1', '0'], 'predicted_purchase': ['0'], 'purchase_probs': [0.01377230922992041, 0.9862276907700795]}, {'purchase_values': ['1', '0'], 'predicted_purchase': ['0'], 'purchase_probs': [0.008091323481867052, 0.991908676518133]}, {'purchase_values': ['1', '0'], 'predicted_purchase': ['0'], 'purchase_probs': [0.0117410891565365, 0.9882589108434635]}, {'purchase_values': ['1', '0'], 'predicted_purchase': ['0'], 'purchase_probs': [0.01241733891669074, 0.9875826610833093]}, {'purchase_values': ['1', '0'], 'predicted_purchase': ['0'], 'purchase_probs': [0.00787395838592097, 0.992126041614079]}, {'purchase_values': ['1', '0'], 'predicted_purchase': ['0'], 'purchase_probs': [0.01344421185609921, 0.9865557881439008]}, {'purchase_values': ['1', '0'], 'predicted_purchase': ['0'], 'purchase_probs': [0.01437444229227711, 0.9856255577077229]}, {'purchase_values': ['1', '0'], 'predicted_purchase': ['0'], 'purchase_probs': [0.01300207164024774, 0.9869979283597523]}, {'purchase_values': ['1', '0'], 'predicted_purchase': ['0'], 'purchase_probs': [0.01322942656664512, 0.9867705734333548]}, {'purchase_values': ['1', '0'], 'predicted_purchase': ['0'], 'purchase_probs': [0.01105291140665766, 0.9889470885933423]}, {'purchase_values': ['1', '0'], 'predicted_purchase': ['0'], 'purchase_probs': [0.00796772818620835, 0.9920322718137916]}, {'purchase_values': ['1', '0'], 'predicted_purchase': ['0'], 'purchase_probs': [0.01203351504021489, 0.9879664849597851]}, {'purchase_values': ['1', '0'], 'predicted_purchase': ['0'], 'purchase_probs': [0.01534084738303754, 0.9846591526169625]}, {'purchase_values': ['1', '0'], 'predicted_purchase': ['0'], 'purchase_probs': [0.00698612808328862, 0.9930138719167114]}, {'purchase_values': ['1', '0'], 'predicted_purchase': ['0'], 'purchase_probs': [0.01048686173954412, 0.9895131382604558]}, {'purchase_values': ['1', '0'], 'predicted_purchase': ['0'], 'purchase_probs': [0.01320549856800081, 0.9867945014319992]}, {'purchase_values': ['1', '0'], 'predicted_purchase': ['0'], 'purchase_probs': [0.005178614424008198, 0.9948213855759918]}, {'purchase_values': ['1', '0'], 'predicted_purchase': ['0'], 'purchase_probs': [0.005520939806030411, 0.9944790601939696]}, {'purchase_values': ['1', '0'], 'predicted_purchase': ['0'], 'purchase_probs': [0.004708181372871423, 0.9952918186271286]}, {'purchase_values': ['1', '0'], 'predicted_purchase': ['0'], 'purchase_probs': [0.01283197449161142, 0.9871680255083886]}, {'purchase_values': ['1', '0'], 'predicted_purchase': ['0'], 'purchase_probs': [0.0133205062271245, 0.9866794937728756]}, {'purchase_values': ['1', '0'], 'predicted_purchase': ['0'], 'purchase_probs': [0.01268542836289648, 0.9873145716371036]}, {'purchase_values': ['1', '0'], 'predicted_purchase': ['0'], 'purchase_probs': [0.01289443240204825, 0.9871055675979518]}, {'purchase_values': ['1', '0'], 'predicted_purchase': ['0'], 'purchase_probs': [0.01436771233982362, 0.9856322876601764]}, {'purchase_values': ['1', '0'], 'predicted_purchase': ['0'], 'purchase_probs': [0.01426375537512505, 0.985736244624875]}, {'purchase_values': ['1', '0'], 'predicted_purchase': ['0'], 'purchase_probs': [0.01206268052063349, 0.9879373194793665]}, {'purchase_values': ['1', '0'], 'predicted_purchase': ['0'], 'purchase_probs': [0.01235941709948702, 0.9876405829005129]}, {'purchase_values': ['1', '0'], 'predicted_purchase': ['0'], 'purchase_probs': [0.007160947085248047, 0.9928390529147519]}, {'purchase_values': ['1', '0'], 'predicted_purchase': ['0'], 'purchase_probs': [0.007849240525090092, 0.9921507594749099]}, {'purchase_values': ['1', '0'], 'predicted_purchase': ['0'], 'purchase_probs': [0.01338780702451229, 0.9866121929754877]}, {'purchase_values': ['1', '0'], 'predicted_purchase': ['0'], 'purchase_probs': [0.01583258934356198, 0.984167410656438]}, {'purchase_values': ['1', '0'], 'predicted_purchase': ['0'], 'purchase_probs': [0.004679315243331067, 0.9953206847566689]}, {'purchase_values': ['1', '0'], 'predicted_purchase': ['0'], 'purchase_probs': [0.01175103179386056, 0.9882489682061394]}, {'purchase_values': ['1', '0'], 'predicted_purchase': ['0'], 'purchase_probs': [0.01128603017288315, 0.9887139698271168]}, {'purchase_values': ['1', '0'], 'predicted_purchase': ['0'], 'purchase_probs': [0.01184192737633945, 0.9881580726236605]}, {'purchase_values': ['1', '0'], 'predicted_purchase': ['0'], 'purchase_probs': [0.009621635827443114, 0.9903783641725569]}, {'purchase_values': ['1', '0'], 'predicted_purchase': ['0'], 'purchase_probs': [0.01356363579372774, 0.9864363642062722]}, {'purchase_values': ['1', '0'], 'predicted_purchase': ['0'], 'purchase_probs': [0.01292968443185531, 0.9870703155681447]}, {'purchase_values': ['1', '0'], 'predicted_purchase': ['0'], 'purchase_probs': [0.01203486397690789, 0.9879651360230921]}, {'purchase_values': ['1', '0'], 'predicted_purchase': ['0'], 'purchase_probs': [0.01326718092524725, 0.9867328190747527]}, {'purchase_values': ['1', '0'], 'predicted_purchase': ['0'], 'purchase_probs': [0.008108737723803989, 0.9918912622761961]}, {'purchase_values': ['1', '0'], 'predicted_purchase': ['0'], 'purchase_probs': [0.009404767632200741, 0.9905952323677992]}, {'purchase_values': ['1', '0'], 'predicted_purchase': ['0'], 'purchase_probs': [0.01181737679635593, 0.988182623203644]}, {'purchase_values': ['1', '0'], 'predicted_purchase': ['0'], 'purchase_probs': [0.01165970257577659, 0.9883402974242235]}, {'purchase_values': ['1', '0'], 'predicted_purchase': ['0'], 'purchase_probs': [0.01435844917711988, 0.9856415508228801]}, {'purchase_values': ['1', '0'], 'predicted_purchase': ['0'], 'purchase_probs': [0.01202350235170592, 0.9879764976482941]}, {'purchase_values': ['1', '0'], 'predicted_purchase': ['0'], 'purchase_probs': [0.01160048778379306, 0.9883995122162069]}, {'purchase_values': ['1', '0'], 'predicted_purchase': ['0'], 'purchase_probs': [0.005915121889386753, 0.9940848781106133]}, {'purchase_values': ['1', '0'], 'predicted_purchase': ['0'], 'purchase_probs': [0.01205765005563608, 0.9879423499443639]}, {'purchase_values': ['1', '0'], 'predicted_purchase': ['0'], 'purchase_probs': [0.01170706793236582, 0.9882929320676341]}, {'purchase_values': ['1', '0'], 'predicted_purchase': ['0'], 'purchase_probs': [0.01157956962454525, 0.9884204303754548]}, {'purchase_values': ['1', '0'], 'predicted_purchase': ['0'], 'purchase_probs': [0.0132092614110272, 0.9867907385889728]}, {'purchase_values': ['1', '0'], 'predicted_purchase': ['0'], 'purchase_probs': [0.01349257277619944, 0.9865074272238006]}, {'purchase_values': ['1', '0'], 'predicted_purchase': ['0'], 'purchase_probs': [0.007269935674543006, 0.992730064325457]}, {'purchase_values': ['1', '0'], 'predicted_purchase': ['0'], 'purchase_probs': [0.01381317673236804, 0.986186823267632]}, {'purchase_values': ['1', '0'], 'predicted_purchase': ['0'], 'purchase_probs': [0.01243569778329217, 0.9875643022167079]}, {'purchase_values': ['1', '0'], 'predicted_purchase': ['0'], 'purchase_probs': [0.01492557221517837, 0.9850744277848217]}, {'purchase_values': ['1', '0'], 'predicted_purchase': ['0'], 'purchase_probs': [0.0131480367339505, 0.9868519632660495]}, {'purchase_values': ['1', '0'], 'predicted_purchase': ['0'], 'purchase_probs': [0.01475256797622821, 0.9852474320237717]}, {'purchase_values': ['1', '0'], 'predicted_purchase': ['0'], 'purchase_probs': [0.01248322456471019, 0.9875167754352898]}, {'purchase_values': ['1', '0'], 'predicted_purchase': ['0'], 'purchase_probs': [0.01504018588424658, 0.9849598141157534]}, {'purchase_values': ['1', '0'], 'predicted_purchase': ['0'], 'purchase_probs': [0.01289725808117268, 0.9871027419188273]}, {'purchase_values': ['1', '0'], 'predicted_purchase': ['0'], 'purchase_probs': [0.01253473551300734, 0.9874652644869927]}, {'purchase_values': ['1', '0'], 'predicted_purchase': ['0'], 'purchase_probs': [0.01157427378182767, 0.9884257262181724]}, {'purchase_values': ['1', '0'], 'predicted_purchase': ['0'], 'purchase_probs': [0.01478195654720199, 0.9852180434527981]}, {'purchase_values': ['1', '0'], 'predicted_purchase': ['0'], 'purchase_probs': [0.008556511676869974, 0.99144348832313]}, {'purchase_values': ['1', '0'], 'predicted_purchase': ['0'], 'purchase_probs': [0.01240638387860431, 0.9875936161213957]}, {'purchase_values': ['1', '0'], 'predicted_purchase': ['0'], 'purchase_probs': [0.01309098378523808, 0.9869090162147619]}, {'purchase_values': ['1', '0'], 'predicted_purchase': ['0'], 'purchase_probs': [0.01072886041535469, 0.9892711395846453]}, {'purchase_values': ['1', '0'], 'predicted_purchase': ['0'], 'purchase_probs': [0.01117682050504958, 0.9888231794949505]}, {'purchase_values': ['1', '0'], 'predicted_purchase': ['0'], 'purchase_probs': [0.01243286981367405, 0.9875671301863259]}, {'purchase_values': ['1', '0'], 'predicted_purchase': ['0'], 'purchase_probs': [0.01313351211615677, 0.9868664878838432]}, {'purchase_values': ['1', '0'], 'predicted_purchase': ['0'], 'purchase_probs': [0.01135723185239534, 0.9886427681476047]}, {'purchase_values': ['1', '0'], 'predicted_purchase': ['0'], 'purchase_probs': [0.00526751254200985, 0.9947324874579901]}, {'purchase_values': ['1', '0'], 'predicted_purchase': ['0'], 'purchase_probs': [0.01298190844299127, 0.9870180915570087]}, {'purchase_values': ['1', '0'], 'predicted_purchase': ['0'], 'purchase_probs': [0.01078147687891731, 0.9892185231210827]}, {'purchase_values': ['1', '0'], 'predicted_purchase': ['0'], 'purchase_probs': [0.01213682947329933, 0.9878631705267007]}, {'purchase_values': ['1', '0'], 'predicted_purchase': ['0'], 'purchase_probs': [0.01047054194015764, 0.9895294580598424]}, {'purchase_values': ['1', '0'], 'predicted_purchase': ['0'], 'purchase_probs': [0.0125905525823932, 0.9874094474176068]}, {'purchase_values': ['1', '0'], 'predicted_purchase': ['0'], 'purchase_probs': [0.01166611651455389, 0.9883338834854462]}, {'purchase_values': ['1', '0'], 'predicted_purchase': ['0'], 'purchase_probs': [0.01398041519372504, 0.9860195848062749]}, {'purchase_values': ['1', '0'], 'predicted_purchase': ['0'], 'purchase_probs': [0.006000063656629113, 0.9939999363433709]}, {'purchase_values': ['1', '0'], 'predicted_purchase': ['0'], 'purchase_probs': [0.01266751645135412, 0.9873324835486459]}, {'purchase_values': ['1', '0'], 'predicted_purchase': ['0'], 'purchase_probs': [0.0121257121520068, 0.9878742878479932]}, {'purchase_values': ['1', '0'], 'predicted_purchase': ['0'], 'purchase_probs': [0.03085698323910437, 0.9691430167608956]}, {'purchase_values': ['1', '0'], 'predicted_purchase': ['0'], 'purchase_probs': [0.00778394254775827, 0.9922160574522417]}, {'purchase_values': ['1', '0'], 'predicted_purchase': ['0'], 'purchase_probs': [0.01348474154672304, 0.9865152584532769]}, {'purchase_values': ['1', '0'], 'predicted_purchase': ['0'], 'purchase_probs': [0.01130883811977848, 0.9886911618802215]}, {'purchase_values': ['1', '0'], 'predicted_purchase': ['0'], 'purchase_probs': [0.005840375413448791, 0.9941596245865512]}, {'purchase_values': ['1', '0'], 'predicted_purchase': ['0'], 'purchase_probs': [0.004860209683948396, 0.9951397903160516]}, {'purchase_values': ['1', '0'], 'predicted_purchase': ['0'], 'purchase_probs': [0.008758778979984883, 0.9912412210200151]}, {'purchase_values': ['1', '0'], 'predicted_purchase': ['0'], 'purchase_probs': [0.01282892243568681, 0.9871710775643132]}, {'purchase_values': ['1', '0'], 'predicted_purchase': ['0'], 'purchase_probs': [0.00538369427335116, 0.9946163057266488]}, {'purchase_values': ['1', '0'], 'predicted_purchase': ['0'], 'purchase_probs': [0.01303324200497228, 0.9869667579950278]}, {'purchase_values': ['1', '0'], 'predicted_purchase': ['0'], 'purchase_probs': [0.01341995994111108, 0.9865800400588889]}, {'purchase_values': ['1', '0'], 'predicted_purchase': ['0'], 'purchase_probs': [0.01295396661834544, 0.9870460333816545]}, {'purchase_values': ['1', '0'], 'predicted_purchase': ['0'], 'purchase_probs': [0.01236802418396067, 0.9876319758160393]}, {'purchase_values': ['1', '0'], 'predicted_purchase': ['0'], 'purchase_probs': [0.01198074089596896, 0.988019259104031]}, {'purchase_values': ['1', '0'], 'predicted_purchase': ['0'], 'purchase_probs': [0.01382816631407466, 0.9861718336859253]}, {'purchase_values': ['1', '0'], 'predicted_purchase': ['0'], 'purchase_probs': [0.01656069647445978, 0.9834393035255402]}, {'purchase_values': ['1', '0'], 'predicted_purchase': ['0'], 'purchase_probs': [0.01141319584627175, 0.9885868041537282]}, {'purchase_values': ['1', '0'], 'predicted_purchase': ['0'], 'purchase_probs': [0.01261322989703863, 0.9873867701029614]}, {'purchase_values': ['1', '0'], 'predicted_purchase': ['0'], 'purchase_probs': [0.007666004492681573, 0.9923339955073184]}], deployed_model_id='866609776245604352', metadata=None, model_version_id='1', model_resource_name='projects/672658926390/locations/us-central1/models/4383314154803429376', explanations=None)"
            ]
          },
          "execution_count": 21,
          "metadata": {},
          "output_type": "execute_result"
        }
      ],
      "source": [
        "endpoint.predict(instances=abc)"
      ]
    },
    {
      "cell_type": "code",
      "execution_count": null,
      "id": "d3c722a7-4a0a-4710-8e9a-2c1619f03e1a",
      "metadata": {
        "tags": [],
        "id": "d3c722a7-4a0a-4710-8e9a-2c1619f03e1a"
      },
      "outputs": [],
      "source": [
        "# #close resources:\n",
        "\n",
        "# # [1] storage bucket\n",
        "# !gsutil -m rm -r gs://{BUCKET_NAME}/**\n",
        "# !gsutil rb gs://{BUCKET_NAME}\n",
        "\n",
        "# # [2] models and endpoints\n",
        "# def delete_all_models(PROJECT_ID, REGION):\n",
        "\n",
        "#     vertex_ai.init(project=PROJECT_ID, location=REGION)\n",
        "#     endpoints = vertex_ai.Endpoint.list()  # Get all endpoints\n",
        "\n",
        "#     for endpoint in endpoints:\n",
        "#         endpoint.undeploy_all()\n",
        "#         print(f\"Undeployed endpoints\")\n",
        "\n",
        "#     for model in vertex_ai.Model.list():\n",
        "#         model.delete()\n",
        "#         print(f\"Deleted model: {model.name}\")\n",
        "\n",
        "# delete_all_models(PROJECT_ID, REGION)\n",
        "\n",
        "# # [3] experiments\n",
        "# experiments = vertex_ai.Experiment.list()\n",
        "# for experiment in experiments:\n",
        "#     experiment.delete(delete_backing_tensorboard_runs=True)\n",
        "\n",
        "# # [4] datasests\n",
        "# def delete_all_datasets():\n",
        "#     try:\n",
        "#         datasets = vertex_ai.TabularDataset.list() # or ImageDataset, TextDataset, etc.\n",
        "\n",
        "#         for dataset in datasets:\n",
        "#             dataset.delete()\n",
        "#             print(f\"Deleted dataset: {dataset.name}\")\n",
        "\n",
        "#         print(\"All datasets deleted successfully.\")\n",
        "\n",
        "#     except Exception as e:\n",
        "#         print(f\"Error deleting datasets: {e}\")\n",
        "\n",
        "# delete_all_datasets()\n",
        "\n",
        "# # [5] featurestores\n",
        "# featurestores = vertex_ai.Featurestore.list()\n",
        "# for featurestore in featurestores:\n",
        "#     featurestore.delete(force=True)  # Delete with force to bypass checks\n",
        "\n",
        "# # [6] artifact registry\n",
        "# client = artifactregistry_v1.ArtifactRegistryClient()\n",
        "# repositories = client.list_repositories(parent=f\"projects/{PROJECT_ID}/locations/{REGION}\")\n",
        "# for repository in repositories:\n",
        "#     try:\n",
        "#         client.delete_repository(name=repository.name)\n",
        "#         print(f\"Deleted repository: {repository.name}\")\n",
        "#     except Exception as e:\n",
        "#         print(f\"Error deleting repository {repository.name}: {e}\")\n",
        "#     print(f\"Deleted featurestore: {featurestore.name}\")\n",
        "\n",
        "# # [7] metadata\n",
        "# # Initialize Metadata Service Client\n",
        "# metadata_client = MetadataServiceClient(client_options={\"api_endpoint\": f\"{REGION}-aiplatform.googleapis.com\"})\n",
        "\n",
        "# def delete_artifacts(metadata_store_id=\"default\"):  # Use 'default' for the default store\n",
        "#     parent = f\"projects/{PROJECT_ID}/locations/{REGION}/metadataStores/{metadata_store_id}\"\n",
        "#     artifacts = metadata_client.list_artifacts(parent=parent)\n",
        "\n",
        "#     for artifact in artifacts:\n",
        "#         metadata_client.delete_artifact(name=artifact.name)\n",
        "#         print(f\"Deleted artifact: {artifact.name}\")\n",
        "\n",
        "# delete_artifacts()"
      ]
    }
  ],
  "metadata": {
    "environment": {
      "kernel": "python3",
      "name": "tf2-cpu.2-11.m123",
      "type": "gcloud",
      "uri": "us-docker.pkg.dev/deeplearning-platform-release/gcr.io/tf2-cpu.2-11:m123"
    },
    "kernelspec": {
      "display_name": "Python 3 (Local)",
      "language": "python",
      "name": "python3"
    },
    "language_info": {
      "codemirror_mode": {
        "name": "ipython",
        "version": 3
      },
      "file_extension": ".py",
      "mimetype": "text/x-python",
      "name": "python",
      "nbconvert_exporter": "python",
      "pygments_lexer": "ipython3",
      "version": "3.10.14"
    },
    "colab": {
      "provenance": [],
      "toc_visible": true
    }
  },
  "nbformat": 4,
  "nbformat_minor": 5
}