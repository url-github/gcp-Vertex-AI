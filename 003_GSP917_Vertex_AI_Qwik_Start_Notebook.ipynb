{
  "cells": [
    {
      "cell_type": "markdown",
      "id": "81e68768",
      "metadata": {
        "id": "81e68768"
      },
      "source": [
        "# Vertex AI: Qwik Start"
      ]
    },
    {
      "cell_type": "markdown",
      "id": "8f3be9d1",
      "metadata": {
        "id": "8f3be9d1"
      },
      "source": [
        "## Learning objectives\n",
        "\n",
        "* Train a TensorFlow model locally in a hosted [**Vertex Notebook**](https://cloud.google.com/vertex-ai/docs/general/notebooks?hl=sv).\n",
        "* Create a [**managed Tabular dataset**](https://cloud.google.com/vertex-ai/docs/training/using-managed-datasets?hl=sv) artifact for experiment tracking.\n"
      ]
    },
    {
      "cell_type": "markdown",
      "id": "c7a746be",
      "metadata": {
        "id": "c7a746be"
      },
      "source": [
        "## Introduction: customer lifetime value (CLV) prediction with BigQuery and TensorFlow on Vertex AI"
      ]
    },
    {
      "cell_type": "markdown",
      "id": "76bf82e0",
      "metadata": {
        "id": "76bf82e0"
      },
      "source": [
        "In this lab, you use [BigQuery](https://cloud.google.com/bigquery) for data processing and exploratory data analysis and the [Vertex AI](https://cloud.google.com/vertex-ai) platform to train and deploy a custom TensorFlow Regressor model to predict customer lifetime value (CLV). The goal of the lab is to introduce to Vertex AI through a high value real world use case - predictive CLV. You start with a local BigQuery and TensorFlow workflow that you may already be familiar with and progress toward training and deploying your model in the cloud with Vertex AI.\n",
        "\n",
        "![Vertex AI](./images/vertex-ai-overview.png \"Vertex AI Overview\")\n",
        "\n",
        "Vertex AI is Google Cloud's next generation, unified platform for machine learning development and the successor to AI Platform announced at Google I/O in May 2021. By developing machine learning solutions on Vertex AI, you can leverage the latest ML pre-built components and AutoML to significantly enhance development productivity, the ability to scale your workflow and decision making with your data, and accelerate time to value."
      ]
    },
    {
      "cell_type": "markdown",
      "id": "4fe3b8c6",
      "metadata": {
        "id": "4fe3b8c6"
      },
      "source": [
        "### Predictive CLV: how much monetary value existing customers will bring to the business in the future\n",
        "\n",
        "Predictive CLV is a high impact ML business use case. CLV is a customer's past value plus their predicted future value. The goal of predictive CLV is to predict how much monetary value a user will bring to the business in a defined future time range based on historical transactions.\n",
        "\n",
        "By knowing CLV, you can develop positive ROI strategies and make decisions about how much money to invest in acquiring new customers and retaining existing ones to grow revenue and profit.\n",
        "\n",
        "Once your ML model is a success, you can use the results to identify customers more likely to spend money than the others, and make them respond to your offers and discounts with a greater frequency. These customers, with higher lifetime value, are your main marketing target to increase revenue.\n",
        "\n",
        "By using the machine learning approach to predict your customers' value you will use in this lab, you can prioritize your next actions, such as the following:\n",
        "\n",
        "* Decide which customers to target with advertising to increase revenue.\n",
        "* Identify which customer segments are most profitable and plan how to move customers from one segment to another.\n",
        "\n",
        "Your task is to predict the future value for existing customers based on their known transaction history.\n",
        "\n",
        "![CLV](./images/clv-rfm.svg \"Customer Lifetime Value\")  \n",
        "Source: [Cloud Architecture Center - Predicting Customer Lifetime Value with AI Platform: training the models](https://cloud.google.com/architecture/clv-prediction-with-offline-training-train)\n",
        "\n",
        "There is a strong positive correlation between the recency, frequency, and amount of money spent on each purchase each customer makes and their CLV. Consequently, you leverage these features to in your ML model. For this lab, they are defined as:\n",
        "\n",
        "* **Recency**: The time between the last purchase and today, represented by the distance between the rightmost circle and the vertical dotted line that's labeled \"Now\".\n",
        "* **Frequency**: The time between purchases, represented by the distance between the circles on a single line.\n",
        "* **Monetary**: The amount of money spent on each purchase, represented by the size of the circle. This amount could be the average order value or the quantity of products that the customer ordered."
      ]
    },
    {
      "cell_type": "markdown",
      "id": "d46a1982",
      "metadata": {
        "id": "d46a1982"
      },
      "source": [
        "## Setup"
      ]
    },
    {
      "cell_type": "markdown",
      "id": "dc29eb23",
      "metadata": {
        "id": "dc29eb23"
      },
      "source": [
        "### Define constants"
      ]
    },
    {
      "cell_type": "code",
      "execution_count": null,
      "id": "fd4c2e53",
      "metadata": {
        "id": "fd4c2e53",
        "outputId": "ed8f27bf-af35-449d-e2d7-59897529b081"
      },
      "outputs": [
        {
          "name": "stdout",
          "output_type": "stream",
          "text": [
            "env: PATH=/usr/local/cuda/bin:/opt/conda/bin:/opt/conda/condabin:/usr/local/bin:/usr/bin:/bin:/usr/local/games:/usr/games:/home/jupyter/.local/bin\n"
          ]
        }
      ],
      "source": [
        "# Add installed library dependencies to Python PATH variable.\n",
        "PATH=%env PATH\n",
        "%env PATH={PATH}:/home/jupyter/.local/bin"
      ]
    },
    {
      "cell_type": "code",
      "execution_count": null,
      "id": "93ead7a0",
      "metadata": {
        "id": "93ead7a0"
      },
      "outputs": [],
      "source": [
        "# Retrieve and set PROJECT_ID and REGION environment variables.\n",
        "PROJECT_ID = !(gcloud config get-value core/project)\n",
        "PROJECT_ID = PROJECT_ID[0]\n",
        "REGION = 'us-central1'"
      ]
    },
    {
      "cell_type": "code",
      "execution_count": null,
      "id": "7d6d4df6",
      "metadata": {
        "id": "7d6d4df6"
      },
      "outputs": [],
      "source": [
        "# Create a globally unique Google Cloud Storage bucket for artifact storage.\n",
        "GCS_BUCKET = f\"{PROJECT_ID}-bucket\""
      ]
    },
    {
      "cell_type": "code",
      "execution_count": null,
      "id": "883ab23c",
      "metadata": {
        "id": "883ab23c",
        "outputId": "ce983dcf-be8c-4f6b-ce21-f8468b35b700"
      },
      "outputs": [
        {
          "name": "stdout",
          "output_type": "stream",
          "text": [
            "Creating gs://qwiklabs-gcp-03-f5cb208ccfca-bucket/...\n"
          ]
        }
      ],
      "source": [
        "!gsutil mb -l $REGION gs://$GCS_BUCKET"
      ]
    },
    {
      "cell_type": "markdown",
      "id": "8018cc87",
      "metadata": {
        "id": "8018cc87"
      },
      "source": [
        "### Import libraries"
      ]
    },
    {
      "cell_type": "code",
      "execution_count": null,
      "id": "412ffc51",
      "metadata": {
        "id": "412ffc51",
        "outputId": "05f3aee4-58b4-4add-c39d-9dc11b061309"
      },
      "outputs": [
        {
          "name": "stderr",
          "output_type": "stream",
          "text": [
            "2023-05-06 09:10:10.726078: I tensorflow/core/platform/cpu_feature_guard.cc:193] This TensorFlow binary is optimized with oneAPI Deep Neural Network Library (oneDNN) to use the following CPU instructions in performance-critical operations:  AVX2 FMA\n",
            "To enable them in other operations, rebuild TensorFlow with the appropriate compiler flags.\n",
            "2023-05-06 09:10:13.099694: W tensorflow/compiler/xla/stream_executor/platform/default/dso_loader.cc:64] Could not load dynamic library 'libnvinfer.so.7'; dlerror: libnvinfer.so.7: cannot open shared object file: No such file or directory; LD_LIBRARY_PATH: /usr/local/cuda/lib64:/usr/local/nccl2/lib:/usr/local/cuda/extras/CUPTI/lib64\n",
            "2023-05-06 09:10:13.099865: W tensorflow/compiler/xla/stream_executor/platform/default/dso_loader.cc:64] Could not load dynamic library 'libnvinfer_plugin.so.7'; dlerror: libnvinfer_plugin.so.7: cannot open shared object file: No such file or directory; LD_LIBRARY_PATH: /usr/local/cuda/lib64:/usr/local/nccl2/lib:/usr/local/cuda/extras/CUPTI/lib64\n",
            "2023-05-06 09:10:13.099879: W tensorflow/compiler/tf2tensorrt/utils/py_utils.cc:38] TF-TRT Warning: Cannot dlopen some TensorRT libraries. If you would like to use Nvidia GPU with TensorRT, please make sure the missing libraries mentioned above are installed properly.\n"
          ]
        }
      ],
      "source": [
        "import os\n",
        "import datetime\n",
        "import numpy as np\n",
        "import pandas as pd\n",
        "import tensorflow as tf\n",
        "import matplotlib.pyplot as plt\n",
        "\n",
        "from google.cloud import aiplatform"
      ]
    },
    {
      "cell_type": "markdown",
      "id": "aecf21cb",
      "metadata": {
        "id": "aecf21cb"
      },
      "source": [
        "### Initialize the Vertex Python SDK client"
      ]
    },
    {
      "cell_type": "markdown",
      "id": "a301853d",
      "metadata": {
        "id": "a301853d"
      },
      "source": [
        "Import the Vertex SDK for Python into your Python environment and initialize it."
      ]
    },
    {
      "cell_type": "code",
      "execution_count": null,
      "id": "ae6029df",
      "metadata": {
        "id": "ae6029df"
      },
      "outputs": [],
      "source": [
        "aiplatform.init(project=PROJECT_ID, location=REGION, staging_bucket=f\"gs://{GCS_BUCKET}\")"
      ]
    },
    {
      "cell_type": "markdown",
      "id": "cf880707",
      "metadata": {
        "id": "cf880707"
      },
      "source": [
        "## Download and process the lab data into BigQuery"
      ]
    },
    {
      "cell_type": "markdown",
      "id": "742ceefd",
      "metadata": {
        "id": "742ceefd"
      },
      "source": [
        "### Dataset\n",
        "\n",
        "In this lab, you use the publicly available [Online Retail data set](https://archive.ics.uci.edu/ml/datasets/online+retail) from the UCI Machine Learning Repository. This dataset contains 541,909 transnational customer transactions occuring between (YYYY-MM-DD) 2010-12-01 and 2011-12-09 for a UK-based and registered non-store retailer. The company primarily sells unique all-occasion gifts. Many of the company's customers are wholesalers.\n",
        "\n",
        "**Citation**  \n",
        "Dua, D. and Karra Taniskidou, E. (2017). UCI Machine Learning Repository http://archive.ics.uci.edu/ml. Irvine, CA: University of California, School of Information and Computer Science.\n",
        "\n",
        "This lab is also inspired by the Google Cloud Architect Guide Series [Predicting Customer Lifetime Value with AI Platform: introduction](https://cloud.google.com/architecture/clv-prediction-with-offline-training-intro)."
      ]
    },
    {
      "cell_type": "markdown",
      "id": "9c7d9d01",
      "metadata": {
        "id": "9c7d9d01"
      },
      "source": [
        "### Data ingestion"
      ]
    },
    {
      "cell_type": "markdown",
      "id": "df4efbb9",
      "metadata": {
        "id": "df4efbb9"
      },
      "source": [
        "Execute the command below to ingest the lab data from the UCI Machine Learning repository into `Cloud Storage` and then upload to `BigQuery` for data processing. The data ingestion and processing scripts are available under the `utils` folder in the lab directory."
      ]
    },
    {
      "cell_type": "code",
      "execution_count": null,
      "id": "7720d05e",
      "metadata": {
        "id": "7720d05e"
      },
      "outputs": [],
      "source": [
        "# BigQuery constants. Please leave these unchanged.\n",
        "BQ_DATASET_NAME=\"online_retail\"\n",
        "BQ_RAW_TABLE_NAME=\"online_retail_clv_raw\"\n",
        "BQ_CLEAN_TABLE_NAME=\"online_retail_clv_clean\"\n",
        "BQ_ML_TABLE_NAME=\"online_retail_clv_ml\"\n",
        "BQ_URI=f\"bq://{PROJECT_ID}.{BQ_DATASET_NAME}.{BQ_ML_TABLE_NAME}\""
      ]
    },
    {
      "cell_type": "markdown",
      "id": "557df7b2",
      "metadata": {
        "id": "557df7b2"
      },
      "source": [
        "**Note**: This Python script will take about 2-3 min to download and process the lab data file. Follow along with logging output in the cell below."
      ]
    },
    {
      "cell_type": "code",
      "execution_count": null,
      "id": "a42e87bc",
      "metadata": {
        "id": "a42e87bc",
        "outputId": "0a8eaa70-ed35-486e-9919-29de3b88c88c"
      },
      "outputs": [
        {
          "name": "stdout",
          "output_type": "stream",
          "text": [
            "\n",
            " 2023-05-06 09:10:38,329 [INFO] Downloading xlsx file...\n",
            "100% [....................................................] 23715344 / 23715344\n",
            " 2023-05-06 09:10:39,533 [INFO] Converting xlsx -> csv...\n",
            "\n",
            " 2023-05-06 09:11:49,388 [INFO] Uploading local csv file to GCS...\n",
            "\n",
            " 2023-05-06 09:11:49,809 [INFO] Copied local csv file to GCS.\n",
            "\n",
            " 2023-05-06 09:11:49,821 [INFO] Cleaning up local tmp data directory...\n",
            "\n",
            " 2023-05-06 09:11:49,867 [INFO] Initializing BigQuery dataset.\n",
            "\n",
            " 2023-05-06 09:11:50,363 [INFO] Created dataset qwiklabs-gcp-03-f5cb208ccfca.online_retail\n",
            "\n",
            " 2023-05-06 09:11:51,137 [INFO] BQ raw dataset load job starting...\n",
            "\n",
            " 2023-05-06 09:11:59,299 [INFO] BQ raw dataset load job complete.\n",
            "\n",
            " 2023-05-06 09:11:59,462 [INFO] Loaded 541909 rows into qwiklabs-gcp-03-f5cb208ccfca.online_retail.online_retail_clv_raw.\n",
            "\n",
            " 2023-05-06 09:11:59,474 [INFO] BQ make clean dataset starting...\n",
            "\n",
            " 2023-05-06 09:12:03,646 [INFO] BQ make clean dataset complete\n",
            "\n",
            " 2023-05-06 09:12:03,882 [INFO] Loaded 16766 rows into qwiklabs-gcp-03-f5cb208ccfca.online_retail.online_retail_clv_clean.\n",
            "\n",
            " 2023-05-06 09:12:03,892 [INFO] BQ make ML dataset starting...\n",
            "\n",
            " 2023-05-06 09:12:06,457 [INFO] BQ make ML dataset complete\n",
            "\n",
            " 2023-05-06 09:12:06,662 [INFO] Loaded 3330 rows into qwiklabs-gcp-03-f5cb208ccfca.online_retail.online_retail_clv_ml.\n"
          ]
        }
      ],
      "source": [
        "!python utils/data_download.py \\\n",
        "  --PROJECT_ID={PROJECT_ID} \\\n",
        "  --GCS_BUCKET={GCS_BUCKET} \\\n",
        "  --BQ_RAW_TABLE_NAME={BQ_RAW_TABLE_NAME} \\\n",
        "  --BQ_CLEAN_TABLE_NAME={BQ_CLEAN_TABLE_NAME} \\\n",
        "  --BQ_ML_TABLE_NAME={BQ_ML_TABLE_NAME} \\\n",
        "  --URL=\"https://archive.ics.uci.edu/ml/machine-learning-databases/00352/Online Retail.xlsx\""
      ]
    },
    {
      "cell_type": "markdown",
      "id": "6ca57a9f",
      "metadata": {
        "id": "6ca57a9f"
      },
      "source": [
        "### Data processing"
      ]
    },
    {
      "cell_type": "markdown",
      "id": "c7293fc2",
      "metadata": {
        "id": "c7293fc2"
      },
      "source": [
        "As is the case with many real-world datasets, the lab dataset required some cleanup for you to utilize this historical customer transaction data for predictive CLV.\n",
        "\n",
        "The following changes were applied:\n",
        "\n",
        "* Keep only records that have a Customer ID.\n",
        "* Aggregate transactions by day from Invoices.\n",
        "* Keep only records that have positive order quantities and monetary values.\n",
        "* Aggregate transactions by Customer ID and compute recency, frequency, monetary features as well as the prediction target.\n",
        "\n",
        "**Features**:\n",
        "- `customer_country` (CATEGORICAL): customer purchase country.\n",
        "- `n_purchases` (NUMERIC): number of purchases made in feature window. (frequency)\n",
        "- `avg_purchase_size` (NUMERIC): average unit purchase count in feature window. (monetary)\n",
        "- `avg_purchase_revenue` (NUMERIC): average GBP purchase amount in in feature window. (monetary)\n",
        "- `customer_age` (NUMERIC): days from first purchase in feature window.\n",
        "- `days_since_last_purchase` (NUMERIC): days from the most recent purchase in the feature window. (recency)  \n",
        "\n",
        "**Target**:\n",
        "- `target_monetary_value_3M` (NUMERIC): customer revenue from the entire study window including feature and prediction windows.\n",
        "\n",
        "Note: This lab demonstrates a simple way to use a DNN predict customer 3-month ahead CLV monetary value based solely on the available dataset historical transaction history. Additional factors to consider in practice when using CLV to inform interventions include customer acquisition costs, profit margins, and discount rates to arrive at the present value of future customer cash flows. One of a DNN's benefits over traditional probabilistic modeling approaches is their ability to incorporate additional categorical and unstructured features; this is a great feature engineering opportunity to explore beyond this lab which just explores the RFM numeric features."
      ]
    },
    {
      "cell_type": "markdown",
      "id": "402abff6",
      "metadata": {
        "id": "402abff6"
      },
      "source": [
        "## Exploratory data analysis (EDA) in BigQuery"
      ]
    },
    {
      "cell_type": "markdown",
      "id": "f4fa4d6c",
      "metadata": {
        "id": "f4fa4d6c"
      },
      "source": [
        "Below you use BigQuery from this notebook to do exploratory data analysis to get to know this dataset and identify opportunities for data cleanup and feature engineering."
      ]
    },
    {
      "cell_type": "markdown",
      "id": "91c50cbe",
      "metadata": {
        "id": "91c50cbe"
      },
      "source": [
        "### Recency: how recently have customers purchased?"
      ]
    },
    {
      "cell_type": "code",
      "execution_count": null,
      "id": "50110392",
      "metadata": {
        "id": "50110392",
        "outputId": "2373e258-0264-4378-c83a-1124b5ed4a3e",
        "colab": {
          "referenced_widgets": [
            "014d68725e5f46c4bad7493d157a1229",
            "2f1713a2a3ce477691c00f82a5830217"
          ]
        }
      },
      "outputs": [
        {
          "data": {
            "application/vnd.jupyter.widget-view+json": {
              "model_id": "014d68725e5f46c4bad7493d157a1229",
              "version_major": 2,
              "version_minor": 0
            },
            "text/plain": [
              "Query is running:   0%|          |"
            ]
          },
          "metadata": {},
          "output_type": "display_data"
        },
        {
          "data": {
            "application/vnd.jupyter.widget-view+json": {
              "model_id": "2f1713a2a3ce477691c00f82a5830217",
              "version_major": 2,
              "version_minor": 0
            },
            "text/plain": [
              "Downloading:   0%|          |"
            ]
          },
          "metadata": {},
          "output_type": "display_data"
        }
      ],
      "source": [
        "%%bigquery recency\n",
        "\n",
        "SELECT\n",
        "  days_since_last_purchase\n",
        "FROM\n",
        "  `online_retail.online_retail_clv_ml`"
      ]
    },
    {
      "cell_type": "code",
      "execution_count": null,
      "id": "75edeba1",
      "metadata": {
        "id": "75edeba1",
        "outputId": "e02b9524-0b7b-45b9-fca6-6211dd74dd55"
      },
      "outputs": [
        {
          "data": {
            "text/html": [
              "<div>\n",
              "<style scoped>\n",
              "    .dataframe tbody tr th:only-of-type {\n",
              "        vertical-align: middle;\n",
              "    }\n",
              "\n",
              "    .dataframe tbody tr th {\n",
              "        vertical-align: top;\n",
              "    }\n",
              "\n",
              "    .dataframe thead th {\n",
              "        text-align: right;\n",
              "    }\n",
              "</style>\n",
              "<table border=\"1\" class=\"dataframe\">\n",
              "  <thead>\n",
              "    <tr style=\"text-align: right;\">\n",
              "      <th></th>\n",
              "      <th>days_since_last_purchase</th>\n",
              "    </tr>\n",
              "  </thead>\n",
              "  <tbody>\n",
              "    <tr>\n",
              "      <th>count</th>\n",
              "      <td>3330.000000</td>\n",
              "    </tr>\n",
              "    <tr>\n",
              "      <th>mean</th>\n",
              "      <td>92.521021</td>\n",
              "    </tr>\n",
              "    <tr>\n",
              "      <th>std</th>\n",
              "      <td>77.240666</td>\n",
              "    </tr>\n",
              "    <tr>\n",
              "      <th>min</th>\n",
              "      <td>0.000000</td>\n",
              "    </tr>\n",
              "    <tr>\n",
              "      <th>25%</th>\n",
              "      <td>27.000000</td>\n",
              "    </tr>\n",
              "    <tr>\n",
              "      <th>50%</th>\n",
              "      <td>73.000000</td>\n",
              "    </tr>\n",
              "    <tr>\n",
              "      <th>75%</th>\n",
              "      <td>146.750000</td>\n",
              "    </tr>\n",
              "    <tr>\n",
              "      <th>max</th>\n",
              "      <td>274.000000</td>\n",
              "    </tr>\n",
              "  </tbody>\n",
              "</table>\n",
              "</div>"
            ],
            "text/plain": [
              "       days_since_last_purchase\n",
              "count               3330.000000\n",
              "mean                  92.521021\n",
              "std                   77.240666\n",
              "min                    0.000000\n",
              "25%                   27.000000\n",
              "50%                   73.000000\n",
              "75%                  146.750000\n",
              "max                  274.000000"
            ]
          },
          "execution_count": 10,
          "metadata": {},
          "output_type": "execute_result"
        }
      ],
      "source": [
        "recency.describe()"
      ]
    },
    {
      "cell_type": "code",
      "execution_count": null,
      "id": "89bc69b4",
      "metadata": {
        "id": "89bc69b4",
        "outputId": "7837a39f-430f-4763-c363-e2d3cfa817d0"
      },
      "outputs": [
        {
          "data": {
            "image/png": "[encoded data removed]",
            "text/plain": [
              "<Figure size 640x480 with 1 Axes>"
            ]
          },
          "metadata": {},
          "output_type": "display_data"
        }
      ],
      "source": [
        "recency.hist(bins=100);"
      ]
    },
    {
      "cell_type": "markdown",
      "id": "e857fb43",
      "metadata": {
        "id": "e857fb43"
      },
      "source": [
        "From the chart, there are clearly a few different customer groups here such as loyal customers that have made purchases in the last few days as well as inactive customers that have not purchased in 250+ days. Using CLV predictions and insights, you can strategize on marketing and promotional interventions to improve customer purchase recency and re-active dormant customers."
      ]
    },
    {
      "cell_type": "markdown",
      "id": "1d4d8860",
      "metadata": {
        "id": "1d4d8860"
      },
      "source": [
        "### Frequency: how often are customers purchasing?"
      ]
    },
    {
      "cell_type": "code",
      "execution_count": null,
      "id": "34402015",
      "metadata": {
        "id": "34402015",
        "outputId": "d78f93d1-ebaf-4ab4-e545-8013bfccb0ae",
        "colab": {
          "referenced_widgets": [
            "b5b06f28f2a84a7a883ea06fa3816a12",
            "9ad1cac460604b13bf63b2b787c8ed48"
          ]
        }
      },
      "outputs": [
        {
          "data": {
            "application/vnd.jupyter.widget-view+json": {
              "model_id": "b5b06f28f2a84a7a883ea06fa3816a12",
              "version_major": 2,
              "version_minor": 0
            },
            "text/plain": [
              "Query is running:   0%|          |"
            ]
          },
          "metadata": {},
          "output_type": "display_data"
        },
        {
          "data": {
            "application/vnd.jupyter.widget-view+json": {
              "model_id": "9ad1cac460604b13bf63b2b787c8ed48",
              "version_major": 2,
              "version_minor": 0
            },
            "text/plain": [
              "Downloading:   0%|          |"
            ]
          },
          "metadata": {},
          "output_type": "display_data"
        }
      ],
      "source": [
        "%%bigquery frequency\n",
        "\n",
        "SELECT\n",
        "  n_purchases\n",
        "FROM\n",
        "  `online_retail.online_retail_clv_ml`"
      ]
    },
    {
      "cell_type": "code",
      "execution_count": null,
      "id": "bc1fd5c2",
      "metadata": {
        "id": "bc1fd5c2",
        "outputId": "ae357706-513b-43d5-d207-0a6083aa2974"
      },
      "outputs": [
        {
          "data": {
            "text/html": [
              "<div>\n",
              "<style scoped>\n",
              "    .dataframe tbody tr th:only-of-type {\n",
              "        vertical-align: middle;\n",
              "    }\n",
              "\n",
              "    .dataframe tbody tr th {\n",
              "        vertical-align: top;\n",
              "    }\n",
              "\n",
              "    .dataframe thead th {\n",
              "        text-align: right;\n",
              "    }\n",
              "</style>\n",
              "<table border=\"1\" class=\"dataframe\">\n",
              "  <thead>\n",
              "    <tr style=\"text-align: right;\">\n",
              "      <th></th>\n",
              "      <th>n_purchases</th>\n",
              "    </tr>\n",
              "  </thead>\n",
              "  <tbody>\n",
              "    <tr>\n",
              "      <th>count</th>\n",
              "      <td>3330.000000</td>\n",
              "    </tr>\n",
              "    <tr>\n",
              "      <th>mean</th>\n",
              "      <td>3.134234</td>\n",
              "    </tr>\n",
              "    <tr>\n",
              "      <th>std</th>\n",
              "      <td>4.504362</td>\n",
              "    </tr>\n",
              "    <tr>\n",
              "      <th>min</th>\n",
              "      <td>1.000000</td>\n",
              "    </tr>\n",
              "    <tr>\n",
              "      <th>25%</th>\n",
              "      <td>1.000000</td>\n",
              "    </tr>\n",
              "    <tr>\n",
              "      <th>50%</th>\n",
              "      <td>2.000000</td>\n",
              "    </tr>\n",
              "    <tr>\n",
              "      <th>75%</th>\n",
              "      <td>3.000000</td>\n",
              "    </tr>\n",
              "    <tr>\n",
              "      <th>max</th>\n",
              "      <td>81.000000</td>\n",
              "    </tr>\n",
              "  </tbody>\n",
              "</table>\n",
              "</div>"
            ],
            "text/plain": [
              "       n_purchases\n",
              "count  3330.000000\n",
              "mean      3.134234\n",
              "std       4.504362\n",
              "min       1.000000\n",
              "25%       1.000000\n",
              "50%       2.000000\n",
              "75%       3.000000\n",
              "max      81.000000"
            ]
          },
          "execution_count": 13,
          "metadata": {},
          "output_type": "execute_result"
        }
      ],
      "source": [
        "frequency.describe()"
      ]
    },
    {
      "cell_type": "code",
      "execution_count": null,
      "id": "9cbeac7e",
      "metadata": {
        "id": "9cbeac7e",
        "outputId": "1837a55e-b8bd-47e8-de94-82929a1db8ad"
      },
      "outputs": [
        {
          "data": {
            "image/png": "[encoded data removed]",
            "text/plain": [
              "<Figure size 640x480 with 1 Axes>"
            ]
          },
          "metadata": {},
          "output_type": "display_data"
        }
      ],
      "source": [
        "frequency.hist(bins=100);"
      ]
    },
    {
      "cell_type": "markdown",
      "id": "00c933f5",
      "metadata": {
        "id": "00c933f5"
      },
      "source": [
        "From the chart and quantiles, you can see that half of the customers have less than or equal to only 2 purchases. You can also tell from the average purchases > median purchases and max purchases of 81 that there are customers, likely wholesalers, who have made significantly more purchases. This should have you already thinking about feature engineering opportunities such as bucketizing purchases and removing or clipping outlier customers. You can also explore alternative modeling strategies for CLV on new customers who have only made 1 purchase as the approach demonstrated in this lab will perform better on customers with more relationship transactional history."
      ]
    },
    {
      "cell_type": "markdown",
      "id": "00c0c043",
      "metadata": {
        "id": "00c0c043"
      },
      "source": [
        "### Monetary: how much are customers spending?"
      ]
    },
    {
      "cell_type": "code",
      "execution_count": null,
      "id": "8b8d00ea",
      "metadata": {
        "id": "8b8d00ea",
        "outputId": "38a0f025-7903-43dd-c1e5-10886020bc5f",
        "colab": {
          "referenced_widgets": [
            "7b025740f8ed4c469484651a5912cf60",
            "63082db7311548cb9b345e8490da6ccd"
          ]
        }
      },
      "outputs": [
        {
          "data": {
            "application/vnd.jupyter.widget-view+json": {
              "model_id": "7b025740f8ed4c469484651a5912cf60",
              "version_major": 2,
              "version_minor": 0
            },
            "text/plain": [
              "Query is running:   0%|          |"
            ]
          },
          "metadata": {},
          "output_type": "display_data"
        },
        {
          "data": {
            "application/vnd.jupyter.widget-view+json": {
              "model_id": "63082db7311548cb9b345e8490da6ccd",
              "version_major": 2,
              "version_minor": 0
            },
            "text/plain": [
              "Downloading:   0%|          |"
            ]
          },
          "metadata": {},
          "output_type": "display_data"
        }
      ],
      "source": [
        "%%bigquery monetary\n",
        "\n",
        "SELECT\n",
        "  target_monetary_value_3M\n",
        "FROM\n",
        "`online_retail.online_retail_clv_ml`"
      ]
    },
    {
      "cell_type": "code",
      "execution_count": null,
      "id": "636a5010",
      "metadata": {
        "id": "636a5010",
        "outputId": "ba1fba36-7e68-4be3-efee-feb74423d174"
      },
      "outputs": [
        {
          "data": {
            "text/html": [
              "<div>\n",
              "<style scoped>\n",
              "    .dataframe tbody tr th:only-of-type {\n",
              "        vertical-align: middle;\n",
              "    }\n",
              "\n",
              "    .dataframe tbody tr th {\n",
              "        vertical-align: top;\n",
              "    }\n",
              "\n",
              "    .dataframe thead th {\n",
              "        text-align: right;\n",
              "    }\n",
              "</style>\n",
              "<table border=\"1\" class=\"dataframe\">\n",
              "  <thead>\n",
              "    <tr style=\"text-align: right;\">\n",
              "      <th></th>\n",
              "      <th>target_monetary_value_3M</th>\n",
              "    </tr>\n",
              "  </thead>\n",
              "  <tbody>\n",
              "    <tr>\n",
              "      <th>count</th>\n",
              "      <td>3330.000000</td>\n",
              "    </tr>\n",
              "    <tr>\n",
              "      <th>mean</th>\n",
              "      <td>2355.838718</td>\n",
              "    </tr>\n",
              "    <tr>\n",
              "      <th>std</th>\n",
              "      <td>9445.870149</td>\n",
              "    </tr>\n",
              "    <tr>\n",
              "      <th>min</th>\n",
              "      <td>2.900000</td>\n",
              "    </tr>\n",
              "    <tr>\n",
              "      <th>25%</th>\n",
              "      <td>346.695000</td>\n",
              "    </tr>\n",
              "    <tr>\n",
              "      <th>50%</th>\n",
              "      <td>826.525000</td>\n",
              "    </tr>\n",
              "    <tr>\n",
              "      <th>75%</th>\n",
              "      <td>1977.495000</td>\n",
              "    </tr>\n",
              "    <tr>\n",
              "      <th>max</th>\n",
              "      <td>268478.000000</td>\n",
              "    </tr>\n",
              "  </tbody>\n",
              "</table>\n",
              "</div>"
            ],
            "text/plain": [
              "       target_monetary_value_3M\n",
              "count               3330.000000\n",
              "mean                2355.838718\n",
              "std                 9445.870149\n",
              "min                    2.900000\n",
              "25%                  346.695000\n",
              "50%                  826.525000\n",
              "75%                 1977.495000\n",
              "max               268478.000000"
            ]
          },
          "execution_count": 16,
          "metadata": {},
          "output_type": "execute_result"
        }
      ],
      "source": [
        "monetary.describe()"
      ]
    },
    {
      "cell_type": "code",
      "execution_count": null,
      "id": "08b651c5",
      "metadata": {
        "id": "08b651c5",
        "outputId": "4a0aadfa-4350-41bb-ddb2-750015f0eabd"
      },
      "outputs": [
        {
          "data": {
            "image/png": "[encoded data removed]",
            "text/plain": [
              "<Figure size 640x480 with 1 Axes>"
            ]
          },
          "metadata": {},
          "output_type": "display_data"
        }
      ],
      "source": [
        "monetary['target_monetary_value_3M'].plot(kind='box', title=\"Target Monetary Value 3M: wide range, long right tail distribution\", grid=True);"
      ]
    },
    {
      "cell_type": "markdown",
      "id": "7bc60b98",
      "metadata": {
        "id": "7bc60b98"
      },
      "source": [
        "From the chart and summary statistics, you can see there is a wide range in customer monetary value ranging from 2.90 to 268,478 GBP. Looking at the quantiles, it is clear there are a few outlier customers whose monetary value is greater than 3 standard deviations from the mean. With this small dataset, it is recommended to remove these outlier customer values to treat separately, change your model's loss function to be more resistant to outliers, log the target feature, or clip their values to a maximum threshold. You should also be revisiting your CLV business requirements to see if binning customer monetary value and reframing this as a ML classification problem would suit your needs."
      ]
    },
    {
      "cell_type": "markdown",
      "id": "02e553fd",
      "metadata": {
        "id": "02e553fd"
      },
      "source": [
        "### Establish a simple model performance baseline"
      ]
    },
    {
      "cell_type": "markdown",
      "id": "08221502",
      "metadata": {
        "id": "08221502"
      },
      "source": [
        "In order to evaluate the performance of your custom TensorFlow DNN Regressor model you will build in the next steps, it is a ML best practice to establish a simple performance baseline. Below is a simple SQL baseline that multiplies a customer's average purchase spent compounded by their daily purchase rate and computes standard regression metrics."
      ]
    },
    {
      "cell_type": "code",
      "execution_count": null,
      "id": "bf088864",
      "metadata": {
        "id": "bf088864",
        "outputId": "5ecb97cf-1735-440b-e163-6b77bfd2b4b3",
        "colab": {
          "referenced_widgets": [
            "0bd9ff19e7224e09957950f6d9df1b80",
            "ac29860d63a441c1b345806f0d667a57"
          ]
        }
      },
      "outputs": [
        {
          "data": {
            "application/vnd.jupyter.widget-view+json": {
              "model_id": "0bd9ff19e7224e09957950f6d9df1b80",
              "version_major": 2,
              "version_minor": 0
            },
            "text/plain": [
              "Query is running:   0%|          |"
            ]
          },
          "metadata": {},
          "output_type": "display_data"
        },
        {
          "data": {
            "application/vnd.jupyter.widget-view+json": {
              "model_id": "ac29860d63a441c1b345806f0d667a57",
              "version_major": 2,
              "version_minor": 0
            },
            "text/plain": [
              "Downloading:   0%|          |"
            ]
          },
          "metadata": {},
          "output_type": "display_data"
        },
        {
          "data": {
            "text/html": [
              "<div>\n",
              "<style scoped>\n",
              "    .dataframe tbody tr th:only-of-type {\n",
              "        vertical-align: middle;\n",
              "    }\n",
              "\n",
              "    .dataframe tbody tr th {\n",
              "        vertical-align: top;\n",
              "    }\n",
              "\n",
              "    .dataframe thead th {\n",
              "        text-align: right;\n",
              "    }\n",
              "</style>\n",
              "<table border=\"1\" class=\"dataframe\">\n",
              "  <thead>\n",
              "    <tr style=\"text-align: right;\">\n",
              "      <th></th>\n",
              "      <th>MAE</th>\n",
              "      <th>MSE</th>\n",
              "      <th>RMSE</th>\n",
              "    </tr>\n",
              "  </thead>\n",
              "  <tbody>\n",
              "    <tr>\n",
              "      <th>0</th>\n",
              "      <td>1762.06</td>\n",
              "      <td>81502420.93</td>\n",
              "      <td>9027.87</td>\n",
              "    </tr>\n",
              "  </tbody>\n",
              "</table>\n",
              "</div>"
            ],
            "text/plain": [
              "       MAE          MSE     RMSE\n",
              "0  1762.06  81502420.93  9027.87"
            ]
          },
          "execution_count": 18,
          "metadata": {},
          "output_type": "execute_result"
        }
      ],
      "source": [
        "%%bigquery\n",
        "\n",
        "WITH\n",
        "  day_intervals AS (\n",
        "  SELECT\n",
        "      customer_id,\n",
        "      DATE_DIFF(DATE('2011-12-01'), DATE('2011-09-01'), DAY) AS target_days,\n",
        "      DATE_DIFF(DATE('2011-09-01'), MIN(order_date), DAY) AS feature_days,\n",
        "  FROM\n",
        "    `online_retail.online_retail_clv_clean`\n",
        "  GROUP BY\n",
        "      customer_id\n",
        "  ),\n",
        "\n",
        "  predicted_clv AS (\n",
        "  SELECT\n",
        "      customer_id,\n",
        "      AVG(avg_purchase_revenue) * (COUNT(n_purchases) * (1 + SAFE_DIVIDE(COUNT(target_days),COUNT(feature_days)))) AS predicted_monetary_value_3M,\n",
        "      SUM(target_monetary_value_3M) AS target_monetary_value_3M\n",
        "  FROM\n",
        "    `online_retail.online_retail_clv_ml`\n",
        "  LEFT JOIN day_intervals USING(customer_id)\n",
        "  GROUP BY\n",
        "      customer_id\n",
        "  )\n",
        "\n",
        "# Calculate overall baseline regression metrics.\n",
        "SELECT\n",
        "  ROUND(AVG(ABS(predicted_monetary_value_3M - target_monetary_value_3M)), 2) AS MAE,\n",
        "  ROUND(AVG(POW(predicted_monetary_value_3M - target_monetary_value_3M, 2)), 2) AS MSE,\n",
        "  ROUND(SQRT(AVG(POW(predicted_monetary_value_3M - target_monetary_value_3M, 2))), 2) AS RMSE\n",
        "FROM\n",
        "  predicted_clv"
      ]
    },
    {
      "cell_type": "markdown",
      "id": "956ac010",
      "metadata": {
        "id": "956ac010"
      },
      "source": [
        "These baseline results provide further support for the strong impact of outliers. The extremely high MSE comes from the exponential penalty applied to missed predictions and the magnitude of error on a few predictions.\n",
        "\n",
        "Next, you should look to plot the baseline results to get a sense of opportunity areas for you ML model."
      ]
    },
    {
      "cell_type": "code",
      "execution_count": null,
      "id": "7e14ff67",
      "metadata": {
        "id": "7e14ff67",
        "outputId": "ebbb9e8d-54e8-4861-ae35-502bcf9a9e3b",
        "colab": {
          "referenced_widgets": [
            "085ad3e5210c494e873523bf1792f427",
            "0db38f7fc5a1438bb358206a92d39af0"
          ]
        }
      },
      "outputs": [
        {
          "data": {
            "application/vnd.jupyter.widget-view+json": {
              "model_id": "085ad3e5210c494e873523bf1792f427",
              "version_major": 2,
              "version_minor": 0
            },
            "text/plain": [
              "Query is running:   0%|          |"
            ]
          },
          "metadata": {},
          "output_type": "display_data"
        },
        {
          "data": {
            "application/vnd.jupyter.widget-view+json": {
              "model_id": "0db38f7fc5a1438bb358206a92d39af0",
              "version_major": 2,
              "version_minor": 0
            },
            "text/plain": [
              "Downloading:   0%|          |"
            ]
          },
          "metadata": {},
          "output_type": "display_data"
        }
      ],
      "source": [
        "%%bigquery baseline\n",
        "\n",
        "WITH\n",
        "  day_intervals AS (\n",
        "  SELECT\n",
        "      customer_id,\n",
        "      DATE_DIFF(DATE('2011-12-01'), DATE('2011-09-01'), DAY) AS target_days,\n",
        "      DATE_DIFF(DATE('2011-09-01'), MIN(order_date), DAY) AS feature_days,\n",
        "  FROM\n",
        "    `online_retail.online_retail_clv_clean`\n",
        "  GROUP BY\n",
        "      customer_id\n",
        "  ),\n",
        "\n",
        "  predicted_clv AS (\n",
        "  SELECT\n",
        "      customer_id,\n",
        "      AVG(avg_purchase_revenue) * (COUNT(n_purchases) * (1 + SAFE_DIVIDE(COUNT(target_days),COUNT(feature_days)))) AS predicted_monetary_value_3M,\n",
        "      SUM(target_monetary_value_3M) AS target_monetary_value_3M\n",
        "  FROM\n",
        "    `online_retail.online_retail_clv_ml`\n",
        "  INNER JOIN day_intervals USING(customer_id)\n",
        "  GROUP BY\n",
        "      customer_id\n",
        "  )\n",
        "\n",
        "SELECT\n",
        " *\n",
        "FROM\n",
        "  predicted_clv"
      ]
    },
    {
      "cell_type": "code",
      "execution_count": null,
      "id": "afda73aa",
      "metadata": {
        "id": "afda73aa",
        "outputId": "8380dafc-679e-4ad3-e29d-6c4ce8b8ed8f"
      },
      "outputs": [
        {
          "data": {
            "text/html": [
              "<div>\n",
              "<style scoped>\n",
              "    .dataframe tbody tr th:only-of-type {\n",
              "        vertical-align: middle;\n",
              "    }\n",
              "\n",
              "    .dataframe tbody tr th {\n",
              "        vertical-align: top;\n",
              "    }\n",
              "\n",
              "    .dataframe thead th {\n",
              "        text-align: right;\n",
              "    }\n",
              "</style>\n",
              "<table border=\"1\" class=\"dataframe\">\n",
              "  <thead>\n",
              "    <tr style=\"text-align: right;\">\n",
              "      <th></th>\n",
              "      <th>customer_id</th>\n",
              "      <th>predicted_monetary_value_3M</th>\n",
              "      <th>target_monetary_value_3M</th>\n",
              "    </tr>\n",
              "  </thead>\n",
              "  <tbody>\n",
              "    <tr>\n",
              "      <th>0</th>\n",
              "      <td>13276.0</td>\n",
              "      <td>274.76</td>\n",
              "      <td>590.93</td>\n",
              "    </tr>\n",
              "    <tr>\n",
              "      <th>1</th>\n",
              "      <td>13099.0</td>\n",
              "      <td>414.72</td>\n",
              "      <td>207.36</td>\n",
              "    </tr>\n",
              "    <tr>\n",
              "      <th>2</th>\n",
              "      <td>14420.0</td>\n",
              "      <td>775.04</td>\n",
              "      <td>387.52</td>\n",
              "    </tr>\n",
              "    <tr>\n",
              "      <th>3</th>\n",
              "      <td>12739.0</td>\n",
              "      <td>1951.08</td>\n",
              "      <td>1013.04</td>\n",
              "    </tr>\n",
              "    <tr>\n",
              "      <th>4</th>\n",
              "      <td>12436.0</td>\n",
              "      <td>1018.02</td>\n",
              "      <td>509.01</td>\n",
              "    </tr>\n",
              "  </tbody>\n",
              "</table>\n",
              "</div>"
            ],
            "text/plain": [
              "  customer_id  predicted_monetary_value_3M  target_monetary_value_3M\n",
              "0     13276.0                       274.76                    590.93\n",
              "1     13099.0                       414.72                    207.36\n",
              "2     14420.0                       775.04                    387.52\n",
              "3     12739.0                      1951.08                   1013.04\n",
              "4     12436.0                      1018.02                    509.01"
            ]
          },
          "execution_count": 20,
          "metadata": {},
          "output_type": "execute_result"
        }
      ],
      "source": [
        "baseline.head()"
      ]
    },
    {
      "cell_type": "code",
      "execution_count": null,
      "id": "1a543c10",
      "metadata": {
        "id": "1a543c10",
        "outputId": "1848ae8d-2026-4196-8e85-22ce35addbef"
      },
      "outputs": [
        {
          "data": {
            "image/png": "[encoded data removed]",
            "text/plain": [
              "<Figure size 500x500 with 1 Axes>"
            ]
          },
          "metadata": {},
          "output_type": "display_data"
        }
      ],
      "source": [
        "ax = baseline.plot(kind='scatter',\n",
        "                   x='predicted_monetary_value_3M',\n",
        "                   y='target_monetary_value_3M',\n",
        "                   title='Actual vs. Predicted customer 3-month monetary value',\n",
        "                   figsize=(5,5),\n",
        "                   grid=True)\n",
        "\n",
        "lims = [\n",
        "    np.min([ax.get_xlim(), ax.get_ylim()]),  # min of both axes\n",
        "    np.max([ax.get_xlim(), ax.get_ylim()]),  # max of both axes\n",
        "]\n",
        "\n",
        "# now plot both limits against eachother\n",
        "ax.plot(lims, lims, 'k-', alpha=0.5, zorder=0)\n",
        "ax.set_aspect('equal')\n",
        "ax.set_xlim(lims)\n",
        "ax.set_ylim(lims);"
      ]
    },
    {
      "cell_type": "markdown",
      "id": "0d53ad3a",
      "metadata": {
        "id": "0d53ad3a"
      },
      "source": [
        "## Train a TensorFlow model locally"
      ]
    },
    {
      "cell_type": "markdown",
      "id": "b3658b32",
      "metadata": {
        "id": "b3658b32"
      },
      "source": [
        "Now that you have a simple baseline to benchmark your performance against, train a TensorFlow Regressor to predict CLV."
      ]
    },
    {
      "cell_type": "code",
      "execution_count": null,
      "id": "c45e2feb",
      "metadata": {
        "id": "c45e2feb",
        "outputId": "4cc65ec1-4f35-462b-d9e9-80005235f5dc",
        "colab": {
          "referenced_widgets": [
            "ad2d4a69d6c04c77b9e76e5e41740d0d",
            "fa95e242856e4f14a2f37775a0015820"
          ]
        }
      },
      "outputs": [
        {
          "data": {
            "application/vnd.jupyter.widget-view+json": {
              "model_id": "ad2d4a69d6c04c77b9e76e5e41740d0d",
              "version_major": 2,
              "version_minor": 0
            },
            "text/plain": [
              "Query is running:   0%|          |"
            ]
          },
          "metadata": {},
          "output_type": "display_data"
        },
        {
          "data": {
            "application/vnd.jupyter.widget-view+json": {
              "model_id": "fa95e242856e4f14a2f37775a0015820",
              "version_major": 2,
              "version_minor": 0
            },
            "text/plain": [
              "Downloading:   0%|          |"
            ]
          },
          "metadata": {},
          "output_type": "display_data"
        },
        {
          "data": {
            "text/html": [
              "<div>\n",
              "<style scoped>\n",
              "    .dataframe tbody tr th:only-of-type {\n",
              "        vertical-align: middle;\n",
              "    }\n",
              "\n",
              "    .dataframe tbody tr th {\n",
              "        vertical-align: top;\n",
              "    }\n",
              "\n",
              "    .dataframe thead th {\n",
              "        text-align: right;\n",
              "    }\n",
              "</style>\n",
              "<table border=\"1\" class=\"dataframe\">\n",
              "  <thead>\n",
              "    <tr style=\"text-align: right;\">\n",
              "      <th></th>\n",
              "      <th>data_split</th>\n",
              "      <th>f0_</th>\n",
              "    </tr>\n",
              "  </thead>\n",
              "  <tbody>\n",
              "    <tr>\n",
              "      <th>0</th>\n",
              "      <td>TRAIN</td>\n",
              "      <td>2638</td>\n",
              "    </tr>\n",
              "    <tr>\n",
              "      <th>1</th>\n",
              "      <td>TEST</td>\n",
              "      <td>339</td>\n",
              "    </tr>\n",
              "    <tr>\n",
              "      <th>2</th>\n",
              "      <td>VALIDATE</td>\n",
              "      <td>353</td>\n",
              "    </tr>\n",
              "  </tbody>\n",
              "</table>\n",
              "</div>"
            ],
            "text/plain": [
              "  data_split   f0_\n",
              "0      TRAIN  2638\n",
              "1       TEST   339\n",
              "2   VALIDATE   353"
            ]
          },
          "execution_count": 22,
          "metadata": {},
          "output_type": "execute_result"
        }
      ],
      "source": [
        "%%bigquery\n",
        "\n",
        "SELECT data_split, COUNT(*)\n",
        "FROM `online_retail.online_retail_clv_ml`\n",
        "GROUP BY data_split"
      ]
    },
    {
      "cell_type": "code",
      "execution_count": null,
      "id": "d7e2994a",
      "metadata": {
        "id": "d7e2994a",
        "outputId": "880b185b-156a-41f6-e3a9-eb50034b3201",
        "colab": {
          "referenced_widgets": [
            "972cc37242774cb8b53ec3c9a4db6be1",
            "6165fc1de78e473a9f94146f73b8fabd"
          ]
        }
      },
      "outputs": [
        {
          "data": {
            "application/vnd.jupyter.widget-view+json": {
              "model_id": "972cc37242774cb8b53ec3c9a4db6be1",
              "version_major": 2,
              "version_minor": 0
            },
            "text/plain": [
              "Query is running:   0%|          |"
            ]
          },
          "metadata": {},
          "output_type": "display_data"
        },
        {
          "data": {
            "application/vnd.jupyter.widget-view+json": {
              "model_id": "6165fc1de78e473a9f94146f73b8fabd",
              "version_major": 2,
              "version_minor": 0
            },
            "text/plain": [
              "Downloading:   0%|          |"
            ]
          },
          "metadata": {},
          "output_type": "display_data"
        }
      ],
      "source": [
        "%%bigquery clv\n",
        "\n",
        "SELECT *\n",
        "FROM `online_retail.online_retail_clv_ml`"
      ]
    },
    {
      "cell_type": "code",
      "execution_count": null,
      "id": "80339852",
      "metadata": {
        "id": "80339852"
      },
      "outputs": [],
      "source": [
        "clv_train = clv.loc[clv.data_split == 'TRAIN', :]\n",
        "clv_dev = clv.loc[clv.data_split == 'VALIDATE', :]\n",
        "clv_test = clv.loc[clv.data_split == 'TEST', :]"
      ]
    },
    {
      "cell_type": "code",
      "execution_count": null,
      "id": "a15e9683",
      "metadata": {
        "id": "a15e9683"
      },
      "outputs": [],
      "source": [
        "# Model training constants.\n",
        "# Virtual epochs design pattern:\n",
        "# https://medium.com/google-cloud/ml-design-pattern-3-virtual-epochs-f842296de730\n",
        "N_TRAIN_EXAMPLES = 2638\n",
        "STOP_POINT = 20.0\n",
        "TOTAL_TRAIN_EXAMPLES = int(STOP_POINT * N_TRAIN_EXAMPLES)\n",
        "BATCH_SIZE = 32\n",
        "N_CHECKPOINTS = 10\n",
        "STEPS_PER_EPOCH = (TOTAL_TRAIN_EXAMPLES // (BATCH_SIZE*N_CHECKPOINTS))\n",
        "\n",
        "NUMERIC_FEATURES = [\n",
        "    \"n_purchases\",\n",
        "    \"avg_purchase_size\",\n",
        "    \"avg_purchase_revenue\",\n",
        "    \"customer_age\",\n",
        "    \"days_since_last_purchase\",\n",
        "]\n",
        "\n",
        "LABEL = \"target_monetary_value_3M\""
      ]
    },
    {
      "cell_type": "code",
      "execution_count": null,
      "id": "627cc31a",
      "metadata": {
        "id": "627cc31a"
      },
      "outputs": [],
      "source": [
        "def df_dataset(df):\n",
        "    \"\"\"Transform Pandas Dataframe to TensorFlow Dataset.\"\"\"\n",
        "    return tf.data.Dataset.from_tensor_slices((df[NUMERIC_FEATURES].to_dict('list'), df[LABEL].values))"
      ]
    },
    {
      "cell_type": "code",
      "execution_count": null,
      "id": "7b0744b6",
      "metadata": {
        "id": "7b0744b6",
        "outputId": "7ec04422-6005-4969-c1da-071d9148ce75"
      },
      "outputs": [
        {
          "name": "stderr",
          "output_type": "stream",
          "text": [
            "2023-05-06 09:18:10.286983: W tensorflow/compiler/xla/stream_executor/platform/default/dso_loader.cc:64] Could not load dynamic library 'libcuda.so.1'; dlerror: libcuda.so.1: cannot open shared object file: No such file or directory; LD_LIBRARY_PATH: /usr/local/cuda/lib64:/usr/local/nccl2/lib:/usr/local/cuda/extras/CUPTI/lib64\n",
            "2023-05-06 09:18:10.287050: W tensorflow/compiler/xla/stream_executor/cuda/cuda_driver.cc:265] failed call to cuInit: UNKNOWN ERROR (303)\n",
            "2023-05-06 09:18:10.287096: I tensorflow/compiler/xla/stream_executor/cuda/cuda_diagnostics.cc:156] kernel driver does not appear to be running on this host (tensorflow-2-8-20230506-105314): /proc/driver/nvidia/version does not exist\n",
            "2023-05-06 09:18:10.402795: I tensorflow/core/platform/cpu_feature_guard.cc:193] This TensorFlow binary is optimized with oneAPI Deep Neural Network Library (oneDNN) to use the following CPU instructions in performance-critical operations:  AVX2 FMA\n",
            "To enable them in other operations, rebuild TensorFlow with the appropriate compiler flags.\n"
          ]
        }
      ],
      "source": [
        "trainds = df_dataset(clv_train).prefetch(1).batch(BATCH_SIZE).repeat()\n",
        "devds = df_dataset(clv_dev).prefetch(1).batch(BATCH_SIZE)\n",
        "testds = df_dataset(clv_test).prefetch(1).batch(BATCH_SIZE)"
      ]
    },
    {
      "cell_type": "code",
      "execution_count": null,
      "id": "a9459079",
      "metadata": {
        "id": "a9459079"
      },
      "outputs": [],
      "source": [
        "def rmse(y_true, y_pred):\n",
        "    \"\"\"Custom RMSE regression metric.\"\"\"\n",
        "    return tf.sqrt(tf.reduce_mean(tf.square(y_pred - y_true)))\n",
        "\n",
        "\n",
        "def build_model():\n",
        "    \"\"\"Build and compile a TensorFlow Keras Regressor.\"\"\"\n",
        "    # Define input feature tensors and input layers.\n",
        "    feature_columns = [\n",
        "        tf.feature_column.numeric_column(key=feature)\n",
        "        for feature in NUMERIC_FEATURES\n",
        "    ]\n",
        "\n",
        "    input_layers = {\n",
        "        feature.key: tf.keras.layers.Input(name=feature.key, shape=(), dtype=tf.float32)\n",
        "        for feature in feature_columns\n",
        "    }\n",
        "\n",
        "    # Keras Functional API: https://keras.io/guides/functional_api\n",
        "    inputs = tf.keras.layers.DenseFeatures(feature_columns, name='inputs')(input_layers)\n",
        "    d1 = tf.keras.layers.Dense(256, activation=tf.nn.relu, name='d1')(inputs)\n",
        "    d2 = tf.keras.layers.Dropout(0.2, name='d2')(d1)\n",
        "    # Note: the single neuron output for regression.\n",
        "    output = tf.keras.layers.Dense(1, name='output')(d2)\n",
        "\n",
        "    model = tf.keras.Model(input_layers, output, name='online-retail-clv')\n",
        "\n",
        "    optimizer = tf.keras.optimizers.Adam(0.001)\n",
        "\n",
        "    # Note: MAE loss is more resistant to outliers than MSE.\n",
        "    model.compile(loss=tf.keras.losses.MAE,\n",
        "                  optimizer=optimizer,\n",
        "                  metrics=[['mae', 'mse', rmse]])\n",
        "\n",
        "    return model\n",
        "\n",
        "model = build_model()"
      ]
    },
    {
      "cell_type": "code",
      "execution_count": null,
      "id": "8601ff5f",
      "metadata": {
        "id": "8601ff5f",
        "outputId": "e6d5f142-429b-4c9f-cd89-54c1d0ffec04"
      },
      "outputs": [
        {
          "name": "stdout",
          "output_type": "stream",
          "text": [
            "You must install pydot (`pip install pydot`) and install graphviz (see instructions at https://graphviz.gitlab.io/download/) for plot_model to work.\n"
          ]
        }
      ],
      "source": [
        "tf.keras.utils.plot_model(model, show_shapes=False, rankdir=\"LR\")"
      ]
    },
    {
      "cell_type": "code",
      "execution_count": null,
      "id": "354206ee",
      "metadata": {
        "id": "354206ee"
      },
      "outputs": [],
      "source": [
        "tensorboard_callback = tf.keras.callbacks.TensorBoard(\n",
        "    log_dir='./local-training/tensorboard',\n",
        "    histogram_freq=1)\n",
        "\n",
        "earlystopping_callback = tf.keras.callbacks.EarlyStopping(patience=1)\n",
        "\n",
        "checkpoint_callback = tf.keras.callbacks.ModelCheckpoint(\n",
        "    filepath='./local-training/checkpoints',\n",
        "    save_weights_only=True,\n",
        "    monitor='val_loss',\n",
        "    mode='min')"
      ]
    },
    {
      "cell_type": "code",
      "execution_count": null,
      "id": "730181fb",
      "metadata": {
        "id": "730181fb",
        "outputId": "f83a3ae3-b811-4553-89de-c220d4e80311"
      },
      "outputs": [
        {
          "name": "stdout",
          "output_type": "stream",
          "text": [
            "Epoch 1/10\n",
            "164/164 [==============================] - 2s 6ms/step - loss: 1926.7727 - mae: 1926.7727 - mse: 104961208.0000 - rmse: 4961.4648 - val_loss: 1166.6259 - val_mae: 1166.6259 - val_mse: 12821800.0000 - val_rmse: 2340.2659\n",
            "Epoch 2/10\n",
            "164/164 [==============================] - 1s 3ms/step - loss: 1654.7216 - mae: 1654.7216 - mse: 97670784.0000 - rmse: 4576.8286 - val_loss: 1079.4541 - val_mae: 1079.4541 - val_mse: 12499201.0000 - val_rmse: 2304.2673\n",
            "Epoch 3/10\n",
            "164/164 [==============================] - 1s 3ms/step - loss: 1600.0809 - mae: 1600.0809 - mse: 96738216.0000 - rmse: 4552.1816 - val_loss: 1043.8687 - val_mae: 1043.8687 - val_mse: 12806399.0000 - val_rmse: 2318.5081\n",
            "Epoch 4/10\n",
            "164/164 [==============================] - 1s 3ms/step - loss: 1556.5094 - mae: 1556.5094 - mse: 94377000.0000 - rmse: 4429.1138 - val_loss: 1021.2975 - val_mae: 1021.2975 - val_mse: 12945276.0000 - val_rmse: 2316.8594\n",
            "Epoch 5/10\n",
            "164/164 [==============================] - 1s 3ms/step - loss: 1539.7977 - mae: 1539.7977 - mse: 93787056.0000 - rmse: 4404.7041 - val_loss: 1017.7899 - val_mae: 1017.7899 - val_mse: 13965348.0000 - val_rmse: 2380.4009\n",
            "Epoch 6/10\n",
            "164/164 [==============================] - 1s 4ms/step - loss: 1515.5446 - mae: 1515.5446 - mse: 91980432.0000 - rmse: 4330.7524 - val_loss: 1015.4658 - val_mae: 1015.4658 - val_mse: 14266491.0000 - val_rmse: 2399.3191\n",
            "Epoch 7/10\n",
            "164/164 [==============================] - 1s 4ms/step - loss: 1502.4478 - mae: 1502.4478 - mse: 92753208.0000 - rmse: 4318.1226 - val_loss: 1002.0685 - val_mae: 1002.0685 - val_mse: 14036099.0000 - val_rmse: 2374.9253\n",
            "Epoch 8/10\n",
            "164/164 [==============================] - 1s 3ms/step - loss: 1485.2256 - mae: 1485.2256 - mse: 91727656.0000 - rmse: 4279.7144 - val_loss: 998.8797 - val_mae: 998.8797 - val_mse: 14380989.0000 - val_rmse: 2390.0300\n",
            "Epoch 9/10\n",
            "164/164 [==============================] - 1s 4ms/step - loss: 1474.6678 - mae: 1474.6678 - mse: 90901080.0000 - rmse: 4258.8984 - val_loss: 997.0930 - val_mae: 997.0930 - val_mse: 15379156.0000 - val_rmse: 2430.6431\n",
            "Epoch 10/10\n",
            "164/164 [==============================] - 1s 3ms/step - loss: 1468.6001 - mae: 1468.6001 - mse: 90919512.0000 - rmse: 4266.2144 - val_loss: 994.1399 - val_mae: 994.1399 - val_mse: 15812241.0000 - val_rmse: 2446.0999\n"
          ]
        }
      ],
      "source": [
        "history = model.fit(trainds,\n",
        "                    validation_data=devds,\n",
        "                    steps_per_epoch=STEPS_PER_EPOCH,\n",
        "                    epochs=N_CHECKPOINTS,\n",
        "                    callbacks=[[tensorboard_callback,\n",
        "                                earlystopping_callback,\n",
        "                                checkpoint_callback]])"
      ]
    },
    {
      "cell_type": "code",
      "execution_count": null,
      "id": "2594d084",
      "metadata": {
        "id": "2594d084",
        "outputId": "d8ac0bda-4519-4c65-f00e-898a086b90e2"
      },
      "outputs": [
        {
          "data": {
            "image/png": "[encoded data removed]",
            "text/plain": [
              "<Figure size 640x480 with 1 Axes>"
            ]
          },
          "metadata": {},
          "output_type": "display_data"
        }
      ],
      "source": [
        "LOSS_COLS = [\"loss\", \"val_loss\"]\n",
        "\n",
        "pd.DataFrame(history.history)[LOSS_COLS].plot();"
      ]
    },
    {
      "cell_type": "code",
      "execution_count": null,
      "id": "b71775db",
      "metadata": {
        "id": "b71775db",
        "outputId": "2e11d039-f8fc-4527-eb7a-520755acaa99"
      },
      "outputs": [
        {
          "name": "stdout",
          "output_type": "stream",
          "text": [
            "83/83 [==============================] - 0s 2ms/step\n",
            "12/12 [==============================] - 0s 4ms/step\n",
            "11/11 [==============================] - 0s 3ms/step\n"
          ]
        }
      ],
      "source": [
        "train_pred = model.predict(df_dataset(clv_train).prefetch(1).batch(BATCH_SIZE))\n",
        "dev_pred = model.predict(devds)\n",
        "test_pred = model.predict(testds)"
      ]
    },
    {
      "cell_type": "code",
      "execution_count": null,
      "id": "8b6eceb1",
      "metadata": {
        "id": "8b6eceb1"
      },
      "outputs": [],
      "source": [
        "train_results = pd.DataFrame({'actual': clv_train['target_monetary_value_3M'].to_numpy(), 'predicted': np.squeeze(train_pred)}, columns=['actual', 'predicted'])\n",
        "dev_results = pd.DataFrame({'actual': clv_dev['target_monetary_value_3M'].to_numpy(), 'predicted': np.squeeze(dev_pred)}, columns=['actual', 'predicted'])\n",
        "test_results = pd.DataFrame({'actual': clv_test['target_monetary_value_3M'].to_numpy(), 'predicted': np.squeeze(test_pred)}, columns=['actual', 'predicted'])"
      ]
    },
    {
      "cell_type": "code",
      "execution_count": null,
      "id": "4659dd09",
      "metadata": {
        "id": "4659dd09",
        "outputId": "0a4070fc-a44c-4e79-b4ce-32f74e086295"
      },
      "outputs": [
        {
          "data": {
            "image/png": "[encoded data removed]",
            "text/plain": [
              "<Figure size 1500x1500 with 3 Axes>"
            ]
          },
          "metadata": {},
          "output_type": "display_data"
        }
      ],
      "source": [
        "# Model prediction calibration plots.\n",
        "fig, (train_ax, dev_ax, test_ax) = plt.subplots(1, 3, figsize=(15,15))\n",
        "\n",
        "train_results.plot(kind='scatter',\n",
        "                  x='predicted',\n",
        "                  y='actual',\n",
        "                  title='Train: act vs. pred customer 3M monetary value',\n",
        "                  grid=True,\n",
        "                  ax=train_ax)\n",
        "\n",
        "train_lims = [\n",
        "    np.min([train_ax.get_xlim(), train_ax.get_ylim()]),  # min of both axes\n",
        "    np.max([train_ax.get_xlim(), train_ax.get_ylim()]),  # max of both axes\n",
        "]\n",
        "\n",
        "train_ax.plot(train_lims, train_lims, 'k-', alpha=0.5, zorder=0)\n",
        "train_ax.set_aspect('equal')\n",
        "train_ax.set_xlim(train_lims)\n",
        "train_ax.set_ylim(train_lims)\n",
        "\n",
        "dev_results.plot(kind='scatter',\n",
        "                  x='predicted',\n",
        "                  y='actual',\n",
        "                  title='Dev: act vs. pred customer 3M monetary value',\n",
        "                  grid=True,\n",
        "                  ax=dev_ax)\n",
        "\n",
        "dev_lims = [\n",
        "    np.min([dev_ax.get_xlim(), dev_ax.get_ylim()]),  # min of both axes\n",
        "    np.max([dev_ax.get_xlim(), dev_ax.get_ylim()]),  # max of both axes\n",
        "]\n",
        "\n",
        "dev_ax.plot(dev_lims, dev_lims, 'k-', alpha=0.5, zorder=0)\n",
        "dev_ax.set_aspect('equal')\n",
        "dev_ax.set_xlim(dev_lims)\n",
        "dev_ax.set_ylim(dev_lims)\n",
        "\n",
        "test_results.plot(kind='scatter',\n",
        "                  x='predicted',\n",
        "                  y='actual',\n",
        "                  title='Test: act vs. pred customer 3M monetary value',\n",
        "                  grid=True,\n",
        "                  ax=test_ax)\n",
        "\n",
        "test_lims = [\n",
        "    np.min([test_ax.get_xlim(), test_ax.get_ylim()]),  # min of both axes\n",
        "    np.max([test_ax.get_xlim(), test_ax.get_ylim()]),  # max of both axes\n",
        "]\n",
        "\n",
        "test_ax.plot(test_lims, test_lims, 'k-', alpha=0.5, zorder=0)\n",
        "test_ax.set_aspect('equal')\n",
        "test_ax.set_xlim(test_lims)\n",
        "test_ax.set_ylim(test_lims);"
      ]
    },
    {
      "cell_type": "markdown",
      "id": "2a5f1582",
      "metadata": {
        "id": "2a5f1582"
      },
      "source": [
        "You have trained a model better than your baseline. As indicated in the charts above, there is still additional feature engineering and data cleaning opportunities to improve your model's performance on customers with CLV. Some options include handling these customers as a separate prediction task, applying a log transformation to your target, clipping their value or dropping these customers all together to improve model performance.\n"
      ]
    },
    {
      "cell_type": "markdown",
      "id": "2fc312cf",
      "metadata": {
        "id": "2fc312cf"
      },
      "source": [
        "## Next steps"
      ]
    },
    {
      "cell_type": "markdown",
      "id": "30ab0ae3",
      "metadata": {
        "id": "30ab0ae3"
      },
      "source": [
        "Congratulations! In this lab, you walked through a machine learning experimentation workflow using Google Cloud's BigQuery for data storage and analysis and Vertex AI machine learning services to train and deploy a TensorFlow model to predict customer lifetime value"
      ]
    },
    {
      "cell_type": "markdown",
      "id": "0749f152",
      "metadata": {
        "id": "0749f152"
      },
      "source": [
        "## License"
      ]
    },
    {
      "cell_type": "code",
      "execution_count": null,
      "id": "0d2cfd56",
      "metadata": {
        "id": "0d2cfd56"
      },
      "outputs": [],
      "source": [
        "# Copyright 2021 Google LLC\n",
        "#\n",
        "# Licensed under the Apache License, Version 2.0 (the \"License\");\n",
        "# you may not use this file except in compliance with the License.\n",
        "# You may obtain a copy of the License at\n",
        "#\n",
        "#     https://www.apache.org/licenses/LICENSE-2.0\n",
        "#\n",
        "# Unless required by applicable law or agreed to in writing, software\n",
        "# distributed under the License is distributed on an \"AS IS\" BASIS,\n",
        "# WITHOUT WARRANTIES OR CONDITIONS OF ANY KIND, either express or implied.\n",
        "# See the License for the specific language governing permissions and\n",
        "# limitations under the License."
      ]
    }
  ],
  "metadata": {
    "environment": {
      "kernel": "python3",
      "name": "tf2-gpu.2-8.m108",
      "type": "gcloud",
      "uri": "gcr.io/deeplearning-platform-release/tf2-gpu.2-8:m108"
    },
    "kernelspec": {
      "display_name": "Python 3 (ipykernel)",
      "language": "python",
      "name": "python3"
    },
    "language_info": {
      "codemirror_mode": {
        "name": "ipython",
        "version": 3
      },
      "file_extension": ".py",
      "mimetype": "text/x-python",
      "name": "python",
      "nbconvert_exporter": "python",
      "pygments_lexer": "ipython3",
      "version": "3.7.12"
    },
    "colab": {
      "provenance": []
    }
  },
  "nbformat": 4,
  "nbformat_minor": 5
}